{
 "cells": [
  {
   "cell_type": "code",
   "execution_count": 49,
   "id": "c6139583-210a-4fb3-9fdf-f1b141bf0e61",
   "metadata": {},
   "outputs": [],
   "source": [
    "import pandas as pd\n",
    "import numpy as np\n",
    "import matplotlib.pyplot as plt\n",
    "import seaborn as sns\n",
    "import plotly.express as px\n",
    "import plotly.graph_objs as go\n",
    "from imblearn.over_sampling import SMOTE\n",
    "from plotly.subplots import make_subplots\n",
    "\n",
    "from sklearn.model_selection import train_test_split\n",
    "from sklearn.tree import DecisionTreeClassifier\n",
    "from sklearn.ensemble import RandomForestClassifier, GradientBoostingClassifier\n",
    "from sklearn.linear_model import LogisticRegression\n",
    "from sklearn.svm import SVC\n",
    "from sklearn.metrics import accuracy_score, confusion_matrix, classification_report, precision_score, recall_score, f1_score\n",
    "\n",
    "import warnings\n",
    "warnings.filterwarnings(\"ignore\")\n",
    "warnings.filterwarnings(\"ignore\", category=FutureWarning)"
   ]
  },
  {
   "cell_type": "code",
   "execution_count": 50,
   "id": "08f2aad4-3714-43f7-985e-89cea29d662f",
   "metadata": {},
   "outputs": [],
   "source": [
    "def explore(df):\n",
    "    with pd.option_context(\"display.max_colwidth\", 20):\n",
    "        info = pd.DataFrame()\n",
    "        info['data type'] = df.dtypes\n",
    "        info['percent missing'] = df.isnull().sum()*100/len(df)\n",
    "        info['No. unique'] = df.apply(lambda x: len(x.unique()))\n",
    "        info['unique values'] = df.apply(lambda x: x.unique())\n",
    "        return info.sort_values('data type')"
   ]
  },
  {
   "cell_type": "code",
   "execution_count": 51,
   "id": "b8452d21-2dd9-4371-955d-4d5b048f3de2",
   "metadata": {},
   "outputs": [],
   "source": [
    "df = pd.read_csv('FastagFraudDetection.csv')"
   ]
  },
  {
   "cell_type": "markdown",
   "id": "b3ada8af-b817-46dc-9bd0-c731b599f8e7",
   "metadata": {},
   "source": [
    "# Data Exploration"
   ]
  },
  {
   "cell_type": "code",
   "execution_count": 52,
   "id": "c661708e-a21b-47f9-a901-38c9bac601b5",
   "metadata": {},
   "outputs": [
    {
     "data": {
      "text/html": [
       "<div>\n",
       "<style scoped>\n",
       "    .dataframe tbody tr th:only-of-type {\n",
       "        vertical-align: middle;\n",
       "    }\n",
       "\n",
       "    .dataframe tbody tr th {\n",
       "        vertical-align: top;\n",
       "    }\n",
       "\n",
       "    .dataframe thead th {\n",
       "        text-align: right;\n",
       "    }\n",
       "</style>\n",
       "<table border=\"1\" class=\"dataframe\">\n",
       "  <thead>\n",
       "    <tr style=\"text-align: right;\">\n",
       "      <th></th>\n",
       "      <th>data type</th>\n",
       "      <th>percent missing</th>\n",
       "      <th>No. unique</th>\n",
       "      <th>unique values</th>\n",
       "    </tr>\n",
       "  </thead>\n",
       "  <tbody>\n",
       "    <tr>\n",
       "      <th>Transaction_ID</th>\n",
       "      <td>int64</td>\n",
       "      <td>0.00</td>\n",
       "      <td>5000</td>\n",
       "      <td>[1, 2, 3, 4, 5, 6, 7, 8, 9, 10, 11, 12, 13, 14...</td>\n",
       "    </tr>\n",
       "    <tr>\n",
       "      <th>Transaction_Amount</th>\n",
       "      <td>int64</td>\n",
       "      <td>0.00</td>\n",
       "      <td>20</td>\n",
       "      <td>[350, 120, 0, 140, 160, 180, 290, 110, 100, 13...</td>\n",
       "    </tr>\n",
       "    <tr>\n",
       "      <th>Amount_paid</th>\n",
       "      <td>int64</td>\n",
       "      <td>0.00</td>\n",
       "      <td>23</td>\n",
       "      <td>[120, 100, 0, 160, 90, 180, 350, 140, 110, 60,...</td>\n",
       "    </tr>\n",
       "    <tr>\n",
       "      <th>Vehicle_Speed</th>\n",
       "      <td>int64</td>\n",
       "      <td>0.00</td>\n",
       "      <td>85</td>\n",
       "      <td>[65, 78, 53, 92, 60, 105, 70, 88, 45, 72, 58, ...</td>\n",
       "    </tr>\n",
       "    <tr>\n",
       "      <th>Timestamp</th>\n",
       "      <td>object</td>\n",
       "      <td>0.00</td>\n",
       "      <td>4423</td>\n",
       "      <td>[1/6/2023 11:20, 1/7/2023 14:55, 1/8/2023 18:2...</td>\n",
       "    </tr>\n",
       "    <tr>\n",
       "      <th>Vehicle_Type</th>\n",
       "      <td>object</td>\n",
       "      <td>0.00</td>\n",
       "      <td>7</td>\n",
       "      <td>[Bus , Car, Motorcycle, Truck, Van, Sedan, SUV]</td>\n",
       "    </tr>\n",
       "    <tr>\n",
       "      <th>FastagID</th>\n",
       "      <td>object</td>\n",
       "      <td>10.98</td>\n",
       "      <td>4452</td>\n",
       "      <td>[FTG-001-ABC-121, FTG-002-XYZ-451, nan, FTG-04...</td>\n",
       "    </tr>\n",
       "    <tr>\n",
       "      <th>TollBoothID</th>\n",
       "      <td>object</td>\n",
       "      <td>0.00</td>\n",
       "      <td>6</td>\n",
       "      <td>[A-101, B-102, D-104, C-103, D-105, D-106]</td>\n",
       "    </tr>\n",
       "    <tr>\n",
       "      <th>Lane_Type</th>\n",
       "      <td>object</td>\n",
       "      <td>0.00</td>\n",
       "      <td>2</td>\n",
       "      <td>[Express, Regular]</td>\n",
       "    </tr>\n",
       "    <tr>\n",
       "      <th>Vehicle_Dimensions</th>\n",
       "      <td>object</td>\n",
       "      <td>0.00</td>\n",
       "      <td>3</td>\n",
       "      <td>[Large, Small, Medium]</td>\n",
       "    </tr>\n",
       "    <tr>\n",
       "      <th>Geographical_Location</th>\n",
       "      <td>object</td>\n",
       "      <td>0.00</td>\n",
       "      <td>5</td>\n",
       "      <td>[13.059816123454882, 77.77068662374292, 13.042...</td>\n",
       "    </tr>\n",
       "    <tr>\n",
       "      <th>Vehicle_Plate_Number</th>\n",
       "      <td>object</td>\n",
       "      <td>0.00</td>\n",
       "      <td>5000</td>\n",
       "      <td>[KA11AB1234, KA66CD5678, KA88EF9012, KA11GH345...</td>\n",
       "    </tr>\n",
       "    <tr>\n",
       "      <th>Fraud_indicator</th>\n",
       "      <td>object</td>\n",
       "      <td>0.00</td>\n",
       "      <td>2</td>\n",
       "      <td>[Fraud, Not Fraud]</td>\n",
       "    </tr>\n",
       "  </tbody>\n",
       "</table>\n",
       "</div>"
      ],
      "text/plain": [
       "                      data type  percent missing  No. unique  \\\n",
       "Transaction_ID            int64             0.00        5000   \n",
       "Transaction_Amount        int64             0.00          20   \n",
       "Amount_paid               int64             0.00          23   \n",
       "Vehicle_Speed             int64             0.00          85   \n",
       "Timestamp                object             0.00        4423   \n",
       "Vehicle_Type             object             0.00           7   \n",
       "FastagID                 object            10.98        4452   \n",
       "TollBoothID              object             0.00           6   \n",
       "Lane_Type                object             0.00           2   \n",
       "Vehicle_Dimensions       object             0.00           3   \n",
       "Geographical_Location    object             0.00           5   \n",
       "Vehicle_Plate_Number     object             0.00        5000   \n",
       "Fraud_indicator          object             0.00           2   \n",
       "\n",
       "                                                           unique values  \n",
       "Transaction_ID         [1, 2, 3, 4, 5, 6, 7, 8, 9, 10, 11, 12, 13, 14...  \n",
       "Transaction_Amount     [350, 120, 0, 140, 160, 180, 290, 110, 100, 13...  \n",
       "Amount_paid            [120, 100, 0, 160, 90, 180, 350, 140, 110, 60,...  \n",
       "Vehicle_Speed          [65, 78, 53, 92, 60, 105, 70, 88, 45, 72, 58, ...  \n",
       "Timestamp              [1/6/2023 11:20, 1/7/2023 14:55, 1/8/2023 18:2...  \n",
       "Vehicle_Type             [Bus , Car, Motorcycle, Truck, Van, Sedan, SUV]  \n",
       "FastagID               [FTG-001-ABC-121, FTG-002-XYZ-451, nan, FTG-04...  \n",
       "TollBoothID                   [A-101, B-102, D-104, C-103, D-105, D-106]  \n",
       "Lane_Type                                             [Express, Regular]  \n",
       "Vehicle_Dimensions                                [Large, Small, Medium]  \n",
       "Geographical_Location  [13.059816123454882, 77.77068662374292, 13.042...  \n",
       "Vehicle_Plate_Number   [KA11AB1234, KA66CD5678, KA88EF9012, KA11GH345...  \n",
       "Fraud_indicator                                       [Fraud, Not Fraud]  "
      ]
     },
     "execution_count": 52,
     "metadata": {},
     "output_type": "execute_result"
    }
   ],
   "source": [
    "explore(df)"
   ]
  },
  {
   "cell_type": "code",
   "execution_count": 53,
   "id": "babe3c9b-c11e-48a2-9727-2723a75ee5cc",
   "metadata": {},
   "outputs": [
    {
     "data": {
      "text/plain": [
       "(5000, 13)"
      ]
     },
     "execution_count": 53,
     "metadata": {},
     "output_type": "execute_result"
    }
   ],
   "source": [
    "df.shape"
   ]
  },
  {
   "cell_type": "code",
   "execution_count": 54,
   "id": "16ae608a-863c-4bdc-b0eb-c9c7e694b8e2",
   "metadata": {},
   "outputs": [
    {
     "data": {
      "text/html": [
       "<div>\n",
       "<style scoped>\n",
       "    .dataframe tbody tr th:only-of-type {\n",
       "        vertical-align: middle;\n",
       "    }\n",
       "\n",
       "    .dataframe tbody tr th {\n",
       "        vertical-align: top;\n",
       "    }\n",
       "\n",
       "    .dataframe thead th {\n",
       "        text-align: right;\n",
       "    }\n",
       "</style>\n",
       "<table border=\"1\" class=\"dataframe\">\n",
       "  <thead>\n",
       "    <tr style=\"text-align: right;\">\n",
       "      <th></th>\n",
       "      <th>Transaction_ID</th>\n",
       "      <th>Transaction_Amount</th>\n",
       "      <th>Amount_paid</th>\n",
       "      <th>Vehicle_Speed</th>\n",
       "    </tr>\n",
       "  </thead>\n",
       "  <tbody>\n",
       "    <tr>\n",
       "      <th>count</th>\n",
       "      <td>5000.000000</td>\n",
       "      <td>5000.00000</td>\n",
       "      <td>5000.000000</td>\n",
       "      <td>5000.000000</td>\n",
       "    </tr>\n",
       "    <tr>\n",
       "      <th>mean</th>\n",
       "      <td>2500.500000</td>\n",
       "      <td>161.06200</td>\n",
       "      <td>141.261000</td>\n",
       "      <td>67.851200</td>\n",
       "    </tr>\n",
       "    <tr>\n",
       "      <th>std</th>\n",
       "      <td>1443.520003</td>\n",
       "      <td>112.44995</td>\n",
       "      <td>106.480996</td>\n",
       "      <td>16.597547</td>\n",
       "    </tr>\n",
       "    <tr>\n",
       "      <th>min</th>\n",
       "      <td>1.000000</td>\n",
       "      <td>0.00000</td>\n",
       "      <td>0.000000</td>\n",
       "      <td>10.000000</td>\n",
       "    </tr>\n",
       "    <tr>\n",
       "      <th>25%</th>\n",
       "      <td>1250.750000</td>\n",
       "      <td>100.00000</td>\n",
       "      <td>90.000000</td>\n",
       "      <td>54.000000</td>\n",
       "    </tr>\n",
       "    <tr>\n",
       "      <th>50%</th>\n",
       "      <td>2500.500000</td>\n",
       "      <td>130.00000</td>\n",
       "      <td>120.000000</td>\n",
       "      <td>67.000000</td>\n",
       "    </tr>\n",
       "    <tr>\n",
       "      <th>75%</th>\n",
       "      <td>3750.250000</td>\n",
       "      <td>290.00000</td>\n",
       "      <td>160.000000</td>\n",
       "      <td>82.000000</td>\n",
       "    </tr>\n",
       "    <tr>\n",
       "      <th>max</th>\n",
       "      <td>5000.000000</td>\n",
       "      <td>350.00000</td>\n",
       "      <td>350.000000</td>\n",
       "      <td>118.000000</td>\n",
       "    </tr>\n",
       "  </tbody>\n",
       "</table>\n",
       "</div>"
      ],
      "text/plain": [
       "       Transaction_ID  Transaction_Amount  Amount_paid  Vehicle_Speed\n",
       "count     5000.000000          5000.00000  5000.000000    5000.000000\n",
       "mean      2500.500000           161.06200   141.261000      67.851200\n",
       "std       1443.520003           112.44995   106.480996      16.597547\n",
       "min          1.000000             0.00000     0.000000      10.000000\n",
       "25%       1250.750000           100.00000    90.000000      54.000000\n",
       "50%       2500.500000           130.00000   120.000000      67.000000\n",
       "75%       3750.250000           290.00000   160.000000      82.000000\n",
       "max       5000.000000           350.00000   350.000000     118.000000"
      ]
     },
     "execution_count": 54,
     "metadata": {},
     "output_type": "execute_result"
    }
   ],
   "source": [
    "df.describe()"
   ]
  },
  {
   "cell_type": "code",
   "execution_count": 55,
   "id": "8e4ed7c4-a93d-458e-b63d-cc5b83afc365",
   "metadata": {},
   "outputs": [
    {
     "data": {
      "application/vnd.plotly.v1+json": {
       "config": {
        "plotlyServerURL": "https://plot.ly"
       },
       "data": [
        {
         "alignmentgroup": "True",
         "hovertemplate": "color=Not Fraud<br>Fraud Indicator=%{x}<br>Count=%{y}<br>text=%{text}<extra></extra>",
         "legendgroup": "Not Fraud",
         "marker": {
          "color": "#636efa",
          "pattern": {
           "shape": ""
          }
         },
         "name": "Not Fraud",
         "offsetgroup": "Not Fraud",
         "orientation": "v",
         "showlegend": true,
         "text": [
          "4017<br>(80.34%)"
         ],
         "textposition": "inside",
         "type": "bar",
         "x": [
          "Not Fraud"
         ],
         "xaxis": "x",
         "y": [
          4017
         ],
         "yaxis": "y"
        },
        {
         "alignmentgroup": "True",
         "hovertemplate": "color=Fraud<br>Fraud Indicator=%{x}<br>Count=%{y}<br>text=%{text}<extra></extra>",
         "legendgroup": "Fraud",
         "marker": {
          "color": "#EF553B",
          "pattern": {
           "shape": ""
          }
         },
         "name": "Fraud",
         "offsetgroup": "Fraud",
         "orientation": "v",
         "showlegend": true,
         "text": [
          "983<br>(19.66%)"
         ],
         "textposition": "inside",
         "type": "bar",
         "x": [
          "Fraud"
         ],
         "xaxis": "x",
         "y": [
          983
         ],
         "yaxis": "y"
        }
       ],
       "layout": {
        "barmode": "relative",
        "height": 500,
        "legend": {
         "title": {
          "text": "color"
         },
         "tracegroupgap": 0
        },
        "template": {
         "data": {
          "bar": [
           {
            "error_x": {
             "color": "#2a3f5f"
            },
            "error_y": {
             "color": "#2a3f5f"
            },
            "marker": {
             "line": {
              "color": "#E5ECF6",
              "width": 0.5
             },
             "pattern": {
              "fillmode": "overlay",
              "size": 10,
              "solidity": 0.2
             }
            },
            "type": "bar"
           }
          ],
          "barpolar": [
           {
            "marker": {
             "line": {
              "color": "#E5ECF6",
              "width": 0.5
             },
             "pattern": {
              "fillmode": "overlay",
              "size": 10,
              "solidity": 0.2
             }
            },
            "type": "barpolar"
           }
          ],
          "carpet": [
           {
            "aaxis": {
             "endlinecolor": "#2a3f5f",
             "gridcolor": "white",
             "linecolor": "white",
             "minorgridcolor": "white",
             "startlinecolor": "#2a3f5f"
            },
            "baxis": {
             "endlinecolor": "#2a3f5f",
             "gridcolor": "white",
             "linecolor": "white",
             "minorgridcolor": "white",
             "startlinecolor": "#2a3f5f"
            },
            "type": "carpet"
           }
          ],
          "choropleth": [
           {
            "colorbar": {
             "outlinewidth": 0,
             "ticks": ""
            },
            "type": "choropleth"
           }
          ],
          "contour": [
           {
            "colorbar": {
             "outlinewidth": 0,
             "ticks": ""
            },
            "colorscale": [
             [
              0,
              "#0d0887"
             ],
             [
              0.1111111111111111,
              "#46039f"
             ],
             [
              0.2222222222222222,
              "#7201a8"
             ],
             [
              0.3333333333333333,
              "#9c179e"
             ],
             [
              0.4444444444444444,
              "#bd3786"
             ],
             [
              0.5555555555555556,
              "#d8576b"
             ],
             [
              0.6666666666666666,
              "#ed7953"
             ],
             [
              0.7777777777777778,
              "#fb9f3a"
             ],
             [
              0.8888888888888888,
              "#fdca26"
             ],
             [
              1,
              "#f0f921"
             ]
            ],
            "type": "contour"
           }
          ],
          "contourcarpet": [
           {
            "colorbar": {
             "outlinewidth": 0,
             "ticks": ""
            },
            "type": "contourcarpet"
           }
          ],
          "heatmap": [
           {
            "colorbar": {
             "outlinewidth": 0,
             "ticks": ""
            },
            "colorscale": [
             [
              0,
              "#0d0887"
             ],
             [
              0.1111111111111111,
              "#46039f"
             ],
             [
              0.2222222222222222,
              "#7201a8"
             ],
             [
              0.3333333333333333,
              "#9c179e"
             ],
             [
              0.4444444444444444,
              "#bd3786"
             ],
             [
              0.5555555555555556,
              "#d8576b"
             ],
             [
              0.6666666666666666,
              "#ed7953"
             ],
             [
              0.7777777777777778,
              "#fb9f3a"
             ],
             [
              0.8888888888888888,
              "#fdca26"
             ],
             [
              1,
              "#f0f921"
             ]
            ],
            "type": "heatmap"
           }
          ],
          "heatmapgl": [
           {
            "colorbar": {
             "outlinewidth": 0,
             "ticks": ""
            },
            "colorscale": [
             [
              0,
              "#0d0887"
             ],
             [
              0.1111111111111111,
              "#46039f"
             ],
             [
              0.2222222222222222,
              "#7201a8"
             ],
             [
              0.3333333333333333,
              "#9c179e"
             ],
             [
              0.4444444444444444,
              "#bd3786"
             ],
             [
              0.5555555555555556,
              "#d8576b"
             ],
             [
              0.6666666666666666,
              "#ed7953"
             ],
             [
              0.7777777777777778,
              "#fb9f3a"
             ],
             [
              0.8888888888888888,
              "#fdca26"
             ],
             [
              1,
              "#f0f921"
             ]
            ],
            "type": "heatmapgl"
           }
          ],
          "histogram": [
           {
            "marker": {
             "pattern": {
              "fillmode": "overlay",
              "size": 10,
              "solidity": 0.2
             }
            },
            "type": "histogram"
           }
          ],
          "histogram2d": [
           {
            "colorbar": {
             "outlinewidth": 0,
             "ticks": ""
            },
            "colorscale": [
             [
              0,
              "#0d0887"
             ],
             [
              0.1111111111111111,
              "#46039f"
             ],
             [
              0.2222222222222222,
              "#7201a8"
             ],
             [
              0.3333333333333333,
              "#9c179e"
             ],
             [
              0.4444444444444444,
              "#bd3786"
             ],
             [
              0.5555555555555556,
              "#d8576b"
             ],
             [
              0.6666666666666666,
              "#ed7953"
             ],
             [
              0.7777777777777778,
              "#fb9f3a"
             ],
             [
              0.8888888888888888,
              "#fdca26"
             ],
             [
              1,
              "#f0f921"
             ]
            ],
            "type": "histogram2d"
           }
          ],
          "histogram2dcontour": [
           {
            "colorbar": {
             "outlinewidth": 0,
             "ticks": ""
            },
            "colorscale": [
             [
              0,
              "#0d0887"
             ],
             [
              0.1111111111111111,
              "#46039f"
             ],
             [
              0.2222222222222222,
              "#7201a8"
             ],
             [
              0.3333333333333333,
              "#9c179e"
             ],
             [
              0.4444444444444444,
              "#bd3786"
             ],
             [
              0.5555555555555556,
              "#d8576b"
             ],
             [
              0.6666666666666666,
              "#ed7953"
             ],
             [
              0.7777777777777778,
              "#fb9f3a"
             ],
             [
              0.8888888888888888,
              "#fdca26"
             ],
             [
              1,
              "#f0f921"
             ]
            ],
            "type": "histogram2dcontour"
           }
          ],
          "mesh3d": [
           {
            "colorbar": {
             "outlinewidth": 0,
             "ticks": ""
            },
            "type": "mesh3d"
           }
          ],
          "parcoords": [
           {
            "line": {
             "colorbar": {
              "outlinewidth": 0,
              "ticks": ""
             }
            },
            "type": "parcoords"
           }
          ],
          "pie": [
           {
            "automargin": true,
            "type": "pie"
           }
          ],
          "scatter": [
           {
            "fillpattern": {
             "fillmode": "overlay",
             "size": 10,
             "solidity": 0.2
            },
            "type": "scatter"
           }
          ],
          "scatter3d": [
           {
            "line": {
             "colorbar": {
              "outlinewidth": 0,
              "ticks": ""
             }
            },
            "marker": {
             "colorbar": {
              "outlinewidth": 0,
              "ticks": ""
             }
            },
            "type": "scatter3d"
           }
          ],
          "scattercarpet": [
           {
            "marker": {
             "colorbar": {
              "outlinewidth": 0,
              "ticks": ""
             }
            },
            "type": "scattercarpet"
           }
          ],
          "scattergeo": [
           {
            "marker": {
             "colorbar": {
              "outlinewidth": 0,
              "ticks": ""
             }
            },
            "type": "scattergeo"
           }
          ],
          "scattergl": [
           {
            "marker": {
             "colorbar": {
              "outlinewidth": 0,
              "ticks": ""
             }
            },
            "type": "scattergl"
           }
          ],
          "scattermapbox": [
           {
            "marker": {
             "colorbar": {
              "outlinewidth": 0,
              "ticks": ""
             }
            },
            "type": "scattermapbox"
           }
          ],
          "scatterpolar": [
           {
            "marker": {
             "colorbar": {
              "outlinewidth": 0,
              "ticks": ""
             }
            },
            "type": "scatterpolar"
           }
          ],
          "scatterpolargl": [
           {
            "marker": {
             "colorbar": {
              "outlinewidth": 0,
              "ticks": ""
             }
            },
            "type": "scatterpolargl"
           }
          ],
          "scatterternary": [
           {
            "marker": {
             "colorbar": {
              "outlinewidth": 0,
              "ticks": ""
             }
            },
            "type": "scatterternary"
           }
          ],
          "surface": [
           {
            "colorbar": {
             "outlinewidth": 0,
             "ticks": ""
            },
            "colorscale": [
             [
              0,
              "#0d0887"
             ],
             [
              0.1111111111111111,
              "#46039f"
             ],
             [
              0.2222222222222222,
              "#7201a8"
             ],
             [
              0.3333333333333333,
              "#9c179e"
             ],
             [
              0.4444444444444444,
              "#bd3786"
             ],
             [
              0.5555555555555556,
              "#d8576b"
             ],
             [
              0.6666666666666666,
              "#ed7953"
             ],
             [
              0.7777777777777778,
              "#fb9f3a"
             ],
             [
              0.8888888888888888,
              "#fdca26"
             ],
             [
              1,
              "#f0f921"
             ]
            ],
            "type": "surface"
           }
          ],
          "table": [
           {
            "cells": {
             "fill": {
              "color": "#EBF0F8"
             },
             "line": {
              "color": "white"
             }
            },
            "header": {
             "fill": {
              "color": "#C8D4E3"
             },
             "line": {
              "color": "white"
             }
            },
            "type": "table"
           }
          ]
         },
         "layout": {
          "annotationdefaults": {
           "arrowcolor": "#2a3f5f",
           "arrowhead": 0,
           "arrowwidth": 1
          },
          "autotypenumbers": "strict",
          "coloraxis": {
           "colorbar": {
            "outlinewidth": 0,
            "ticks": ""
           }
          },
          "colorscale": {
           "diverging": [
            [
             0,
             "#8e0152"
            ],
            [
             0.1,
             "#c51b7d"
            ],
            [
             0.2,
             "#de77ae"
            ],
            [
             0.3,
             "#f1b6da"
            ],
            [
             0.4,
             "#fde0ef"
            ],
            [
             0.5,
             "#f7f7f7"
            ],
            [
             0.6,
             "#e6f5d0"
            ],
            [
             0.7,
             "#b8e186"
            ],
            [
             0.8,
             "#7fbc41"
            ],
            [
             0.9,
             "#4d9221"
            ],
            [
             1,
             "#276419"
            ]
           ],
           "sequential": [
            [
             0,
             "#0d0887"
            ],
            [
             0.1111111111111111,
             "#46039f"
            ],
            [
             0.2222222222222222,
             "#7201a8"
            ],
            [
             0.3333333333333333,
             "#9c179e"
            ],
            [
             0.4444444444444444,
             "#bd3786"
            ],
            [
             0.5555555555555556,
             "#d8576b"
            ],
            [
             0.6666666666666666,
             "#ed7953"
            ],
            [
             0.7777777777777778,
             "#fb9f3a"
            ],
            [
             0.8888888888888888,
             "#fdca26"
            ],
            [
             1,
             "#f0f921"
            ]
           ],
           "sequentialminus": [
            [
             0,
             "#0d0887"
            ],
            [
             0.1111111111111111,
             "#46039f"
            ],
            [
             0.2222222222222222,
             "#7201a8"
            ],
            [
             0.3333333333333333,
             "#9c179e"
            ],
            [
             0.4444444444444444,
             "#bd3786"
            ],
            [
             0.5555555555555556,
             "#d8576b"
            ],
            [
             0.6666666666666666,
             "#ed7953"
            ],
            [
             0.7777777777777778,
             "#fb9f3a"
            ],
            [
             0.8888888888888888,
             "#fdca26"
            ],
            [
             1,
             "#f0f921"
            ]
           ]
          },
          "colorway": [
           "#636efa",
           "#EF553B",
           "#00cc96",
           "#ab63fa",
           "#FFA15A",
           "#19d3f3",
           "#FF6692",
           "#B6E880",
           "#FF97FF",
           "#FECB52"
          ],
          "font": {
           "color": "#2a3f5f"
          },
          "geo": {
           "bgcolor": "white",
           "lakecolor": "white",
           "landcolor": "#E5ECF6",
           "showlakes": true,
           "showland": true,
           "subunitcolor": "white"
          },
          "hoverlabel": {
           "align": "left"
          },
          "hovermode": "closest",
          "mapbox": {
           "style": "light"
          },
          "paper_bgcolor": "white",
          "plot_bgcolor": "#E5ECF6",
          "polar": {
           "angularaxis": {
            "gridcolor": "white",
            "linecolor": "white",
            "ticks": ""
           },
           "bgcolor": "#E5ECF6",
           "radialaxis": {
            "gridcolor": "white",
            "linecolor": "white",
            "ticks": ""
           }
          },
          "scene": {
           "xaxis": {
            "backgroundcolor": "#E5ECF6",
            "gridcolor": "white",
            "gridwidth": 2,
            "linecolor": "white",
            "showbackground": true,
            "ticks": "",
            "zerolinecolor": "white"
           },
           "yaxis": {
            "backgroundcolor": "#E5ECF6",
            "gridcolor": "white",
            "gridwidth": 2,
            "linecolor": "white",
            "showbackground": true,
            "ticks": "",
            "zerolinecolor": "white"
           },
           "zaxis": {
            "backgroundcolor": "#E5ECF6",
            "gridcolor": "white",
            "gridwidth": 2,
            "linecolor": "white",
            "showbackground": true,
            "ticks": "",
            "zerolinecolor": "white"
           }
          },
          "shapedefaults": {
           "line": {
            "color": "#2a3f5f"
           }
          },
          "ternary": {
           "aaxis": {
            "gridcolor": "white",
            "linecolor": "white",
            "ticks": ""
           },
           "baxis": {
            "gridcolor": "white",
            "linecolor": "white",
            "ticks": ""
           },
           "bgcolor": "#E5ECF6",
           "caxis": {
            "gridcolor": "white",
            "linecolor": "white",
            "ticks": ""
           }
          },
          "title": {
           "x": 0.05
          },
          "xaxis": {
           "automargin": true,
           "gridcolor": "white",
           "linecolor": "white",
           "ticks": "",
           "title": {
            "standoff": 15
           },
           "zerolinecolor": "white",
           "zerolinewidth": 2
          },
          "yaxis": {
           "automargin": true,
           "gridcolor": "white",
           "linecolor": "white",
           "ticks": "",
           "title": {
            "standoff": 15
           },
           "zerolinecolor": "white",
           "zerolinewidth": 2
          }
         }
        },
        "title": {
         "text": "Distribution of Fraud Indicator"
        },
        "width": 400,
        "xaxis": {
         "anchor": "y",
         "autorange": true,
         "domain": [
          0,
          1
         ],
         "range": [
          -0.5,
          1.5
         ],
         "title": {
          "text": "Fraud Indicator"
         },
         "type": "category"
        },
        "yaxis": {
         "anchor": "x",
         "autorange": true,
         "domain": [
          0,
          1
         ],
         "range": [
          0,
          4228.421052631579
         ],
         "title": {
          "text": "Count"
         },
         "type": "linear"
        }
       }
      },
      "image/png": "[encoded data removed]",
      "text/html": [
       "<div>                            <div id=\"0e5e869c-d9f9-402a-a78a-d1488506f854\" class=\"plotly-graph-div\" style=\"height:500px; width:400px;\"></div>            <script type=\"text/javascript\">                require([\"plotly\"], function(Plotly) {                    window.PLOTLYENV=window.PLOTLYENV || {};                                    if (document.getElementById(\"0e5e869c-d9f9-402a-a78a-d1488506f854\")) {                    Plotly.newPlot(                        \"0e5e869c-d9f9-402a-a78a-d1488506f854\",                        [{\"alignmentgroup\":\"True\",\"hovertemplate\":\"color=Not Fraud<br>Fraud Indicator=%{x}<br>Count=%{y}<br>text=%{text}<extra></extra>\",\"legendgroup\":\"Not Fraud\",\"marker\":{\"color\":\"#636efa\",\"pattern\":{\"shape\":\"\"}},\"name\":\"Not Fraud\",\"offsetgroup\":\"Not Fraud\",\"orientation\":\"v\",\"showlegend\":true,\"text\":[\"4017<br>(80.34%)\"],\"textposition\":\"inside\",\"x\":[\"Not Fraud\"],\"xaxis\":\"x\",\"y\":[4017],\"yaxis\":\"y\",\"type\":\"bar\"},{\"alignmentgroup\":\"True\",\"hovertemplate\":\"color=Fraud<br>Fraud Indicator=%{x}<br>Count=%{y}<br>text=%{text}<extra></extra>\",\"legendgroup\":\"Fraud\",\"marker\":{\"color\":\"#EF553B\",\"pattern\":{\"shape\":\"\"}},\"name\":\"Fraud\",\"offsetgroup\":\"Fraud\",\"orientation\":\"v\",\"showlegend\":true,\"text\":[\"983<br>(19.66%)\"],\"textposition\":\"inside\",\"x\":[\"Fraud\"],\"xaxis\":\"x\",\"y\":[983],\"yaxis\":\"y\",\"type\":\"bar\"}],                        {\"template\":{\"data\":{\"histogram2dcontour\":[{\"type\":\"histogram2dcontour\",\"colorbar\":{\"outlinewidth\":0,\"ticks\":\"\"},\"colorscale\":[[0.0,\"#0d0887\"],[0.1111111111111111,\"#46039f\"],[0.2222222222222222,\"#7201a8\"],[0.3333333333333333,\"#9c179e\"],[0.4444444444444444,\"#bd3786\"],[0.5555555555555556,\"#d8576b\"],[0.6666666666666666,\"#ed7953\"],[0.7777777777777778,\"#fb9f3a\"],[0.8888888888888888,\"#fdca26\"],[1.0,\"#f0f921\"]]}],\"choropleth\":[{\"type\":\"choropleth\",\"colorbar\":{\"outlinewidth\":0,\"ticks\":\"\"}}],\"histogram2d\":[{\"type\":\"histogram2d\",\"colorbar\":{\"outlinewidth\":0,\"ticks\":\"\"},\"colorscale\":[[0.0,\"#0d0887\"],[0.1111111111111111,\"#46039f\"],[0.2222222222222222,\"#7201a8\"],[0.3333333333333333,\"#9c179e\"],[0.4444444444444444,\"#bd3786\"],[0.5555555555555556,\"#d8576b\"],[0.6666666666666666,\"#ed7953\"],[0.7777777777777778,\"#fb9f3a\"],[0.8888888888888888,\"#fdca26\"],[1.0,\"#f0f921\"]]}],\"heatmap\":[{\"type\":\"heatmap\",\"colorbar\":{\"outlinewidth\":0,\"ticks\":\"\"},\"colorscale\":[[0.0,\"#0d0887\"],[0.1111111111111111,\"#46039f\"],[0.2222222222222222,\"#7201a8\"],[0.3333333333333333,\"#9c179e\"],[0.4444444444444444,\"#bd3786\"],[0.5555555555555556,\"#d8576b\"],[0.6666666666666666,\"#ed7953\"],[0.7777777777777778,\"#fb9f3a\"],[0.8888888888888888,\"#fdca26\"],[1.0,\"#f0f921\"]]}],\"heatmapgl\":[{\"type\":\"heatmapgl\",\"colorbar\":{\"outlinewidth\":0,\"ticks\":\"\"},\"colorscale\":[[0.0,\"#0d0887\"],[0.1111111111111111,\"#46039f\"],[0.2222222222222222,\"#7201a8\"],[0.3333333333333333,\"#9c179e\"],[0.4444444444444444,\"#bd3786\"],[0.5555555555555556,\"#d8576b\"],[0.6666666666666666,\"#ed7953\"],[0.7777777777777778,\"#fb9f3a\"],[0.8888888888888888,\"#fdca26\"],[1.0,\"#f0f921\"]]}],\"contourcarpet\":[{\"type\":\"contourcarpet\",\"colorbar\":{\"outlinewidth\":0,\"ticks\":\"\"}}],\"contour\":[{\"type\":\"contour\",\"colorbar\":{\"outlinewidth\":0,\"ticks\":\"\"},\"colorscale\":[[0.0,\"#0d0887\"],[0.1111111111111111,\"#46039f\"],[0.2222222222222222,\"#7201a8\"],[0.3333333333333333,\"#9c179e\"],[0.4444444444444444,\"#bd3786\"],[0.5555555555555556,\"#d8576b\"],[0.6666666666666666,\"#ed7953\"],[0.7777777777777778,\"#fb9f3a\"],[0.8888888888888888,\"#fdca26\"],[1.0,\"#f0f921\"]]}],\"surface\":[{\"type\":\"surface\",\"colorbar\":{\"outlinewidth\":0,\"ticks\":\"\"},\"colorscale\":[[0.0,\"#0d0887\"],[0.1111111111111111,\"#46039f\"],[0.2222222222222222,\"#7201a8\"],[0.3333333333333333,\"#9c179e\"],[0.4444444444444444,\"#bd3786\"],[0.5555555555555556,\"#d8576b\"],[0.6666666666666666,\"#ed7953\"],[0.7777777777777778,\"#fb9f3a\"],[0.8888888888888888,\"#fdca26\"],[1.0,\"#f0f921\"]]}],\"mesh3d\":[{\"type\":\"mesh3d\",\"colorbar\":{\"outlinewidth\":0,\"ticks\":\"\"}}],\"scatter\":[{\"fillpattern\":{\"fillmode\":\"overlay\",\"size\":10,\"solidity\":0.2},\"type\":\"scatter\"}],\"parcoords\":[{\"type\":\"parcoords\",\"line\":{\"colorbar\":{\"outlinewidth\":0,\"ticks\":\"\"}}}],\"scatterpolargl\":[{\"type\":\"scatterpolargl\",\"marker\":{\"colorbar\":{\"outlinewidth\":0,\"ticks\":\"\"}}}],\"bar\":[{\"error_x\":{\"color\":\"#2a3f5f\"},\"error_y\":{\"color\":\"#2a3f5f\"},\"marker\":{\"line\":{\"color\":\"#E5ECF6\",\"width\":0.5},\"pattern\":{\"fillmode\":\"overlay\",\"size\":10,\"solidity\":0.2}},\"type\":\"bar\"}],\"scattergeo\":[{\"type\":\"scattergeo\",\"marker\":{\"colorbar\":{\"outlinewidth\":0,\"ticks\":\"\"}}}],\"scatterpolar\":[{\"type\":\"scatterpolar\",\"marker\":{\"colorbar\":{\"outlinewidth\":0,\"ticks\":\"\"}}}],\"histogram\":[{\"marker\":{\"pattern\":{\"fillmode\":\"overlay\",\"size\":10,\"solidity\":0.2}},\"type\":\"histogram\"}],\"scattergl\":[{\"type\":\"scattergl\",\"marker\":{\"colorbar\":{\"outlinewidth\":0,\"ticks\":\"\"}}}],\"scatter3d\":[{\"type\":\"scatter3d\",\"line\":{\"colorbar\":{\"outlinewidth\":0,\"ticks\":\"\"}},\"marker\":{\"colorbar\":{\"outlinewidth\":0,\"ticks\":\"\"}}}],\"scattermapbox\":[{\"type\":\"scattermapbox\",\"marker\":{\"colorbar\":{\"outlinewidth\":0,\"ticks\":\"\"}}}],\"scatterternary\":[{\"type\":\"scatterternary\",\"marker\":{\"colorbar\":{\"outlinewidth\":0,\"ticks\":\"\"}}}],\"scattercarpet\":[{\"type\":\"scattercarpet\",\"marker\":{\"colorbar\":{\"outlinewidth\":0,\"ticks\":\"\"}}}],\"carpet\":[{\"aaxis\":{\"endlinecolor\":\"#2a3f5f\",\"gridcolor\":\"white\",\"linecolor\":\"white\",\"minorgridcolor\":\"white\",\"startlinecolor\":\"#2a3f5f\"},\"baxis\":{\"endlinecolor\":\"#2a3f5f\",\"gridcolor\":\"white\",\"linecolor\":\"white\",\"minorgridcolor\":\"white\",\"startlinecolor\":\"#2a3f5f\"},\"type\":\"carpet\"}],\"table\":[{\"cells\":{\"fill\":{\"color\":\"#EBF0F8\"},\"line\":{\"color\":\"white\"}},\"header\":{\"fill\":{\"color\":\"#C8D4E3\"},\"line\":{\"color\":\"white\"}},\"type\":\"table\"}],\"barpolar\":[{\"marker\":{\"line\":{\"color\":\"#E5ECF6\",\"width\":0.5},\"pattern\":{\"fillmode\":\"overlay\",\"size\":10,\"solidity\":0.2}},\"type\":\"barpolar\"}],\"pie\":[{\"automargin\":true,\"type\":\"pie\"}]},\"layout\":{\"autotypenumbers\":\"strict\",\"colorway\":[\"#636efa\",\"#EF553B\",\"#00cc96\",\"#ab63fa\",\"#FFA15A\",\"#19d3f3\",\"#FF6692\",\"#B6E880\",\"#FF97FF\",\"#FECB52\"],\"font\":{\"color\":\"#2a3f5f\"},\"hovermode\":\"closest\",\"hoverlabel\":{\"align\":\"left\"},\"paper_bgcolor\":\"white\",\"plot_bgcolor\":\"#E5ECF6\",\"polar\":{\"bgcolor\":\"#E5ECF6\",\"angularaxis\":{\"gridcolor\":\"white\",\"linecolor\":\"white\",\"ticks\":\"\"},\"radialaxis\":{\"gridcolor\":\"white\",\"linecolor\":\"white\",\"ticks\":\"\"}},\"ternary\":{\"bgcolor\":\"#E5ECF6\",\"aaxis\":{\"gridcolor\":\"white\",\"linecolor\":\"white\",\"ticks\":\"\"},\"baxis\":{\"gridcolor\":\"white\",\"linecolor\":\"white\",\"ticks\":\"\"},\"caxis\":{\"gridcolor\":\"white\",\"linecolor\":\"white\",\"ticks\":\"\"}},\"coloraxis\":{\"colorbar\":{\"outlinewidth\":0,\"ticks\":\"\"}},\"colorscale\":{\"sequential\":[[0.0,\"#0d0887\"],[0.1111111111111111,\"#46039f\"],[0.2222222222222222,\"#7201a8\"],[0.3333333333333333,\"#9c179e\"],[0.4444444444444444,\"#bd3786\"],[0.5555555555555556,\"#d8576b\"],[0.6666666666666666,\"#ed7953\"],[0.7777777777777778,\"#fb9f3a\"],[0.8888888888888888,\"#fdca26\"],[1.0,\"#f0f921\"]],\"sequentialminus\":[[0.0,\"#0d0887\"],[0.1111111111111111,\"#46039f\"],[0.2222222222222222,\"#7201a8\"],[0.3333333333333333,\"#9c179e\"],[0.4444444444444444,\"#bd3786\"],[0.5555555555555556,\"#d8576b\"],[0.6666666666666666,\"#ed7953\"],[0.7777777777777778,\"#fb9f3a\"],[0.8888888888888888,\"#fdca26\"],[1.0,\"#f0f921\"]],\"diverging\":[[0,\"#8e0152\"],[0.1,\"#c51b7d\"],[0.2,\"#de77ae\"],[0.3,\"#f1b6da\"],[0.4,\"#fde0ef\"],[0.5,\"#f7f7f7\"],[0.6,\"#e6f5d0\"],[0.7,\"#b8e186\"],[0.8,\"#7fbc41\"],[0.9,\"#4d9221\"],[1,\"#276419\"]]},\"xaxis\":{\"gridcolor\":\"white\",\"linecolor\":\"white\",\"ticks\":\"\",\"title\":{\"standoff\":15},\"zerolinecolor\":\"white\",\"automargin\":true,\"zerolinewidth\":2},\"yaxis\":{\"gridcolor\":\"white\",\"linecolor\":\"white\",\"ticks\":\"\",\"title\":{\"standoff\":15},\"zerolinecolor\":\"white\",\"automargin\":true,\"zerolinewidth\":2},\"scene\":{\"xaxis\":{\"backgroundcolor\":\"#E5ECF6\",\"gridcolor\":\"white\",\"linecolor\":\"white\",\"showbackground\":true,\"ticks\":\"\",\"zerolinecolor\":\"white\",\"gridwidth\":2},\"yaxis\":{\"backgroundcolor\":\"#E5ECF6\",\"gridcolor\":\"white\",\"linecolor\":\"white\",\"showbackground\":true,\"ticks\":\"\",\"zerolinecolor\":\"white\",\"gridwidth\":2},\"zaxis\":{\"backgroundcolor\":\"#E5ECF6\",\"gridcolor\":\"white\",\"linecolor\":\"white\",\"showbackground\":true,\"ticks\":\"\",\"zerolinecolor\":\"white\",\"gridwidth\":2}},\"shapedefaults\":{\"line\":{\"color\":\"#2a3f5f\"}},\"annotationdefaults\":{\"arrowcolor\":\"#2a3f5f\",\"arrowhead\":0,\"arrowwidth\":1},\"geo\":{\"bgcolor\":\"white\",\"landcolor\":\"#E5ECF6\",\"subunitcolor\":\"white\",\"showland\":true,\"showlakes\":true,\"lakecolor\":\"white\"},\"title\":{\"x\":0.05},\"mapbox\":{\"style\":\"light\"}}},\"xaxis\":{\"anchor\":\"y\",\"domain\":[0.0,1.0],\"title\":{\"text\":\"Fraud Indicator\"},\"type\":\"category\"},\"yaxis\":{\"anchor\":\"x\",\"domain\":[0.0,1.0],\"title\":{\"text\":\"Count\"}},\"legend\":{\"title\":{\"text\":\"color\"},\"tracegroupgap\":0},\"title\":{\"text\":\"Distribution of Fraud Indicator\"},\"barmode\":\"relative\",\"width\":400,\"height\":500},                        {\"responsive\": true}                    ).then(function(){\n",
       "                            \n",
       "var gd = document.getElementById('0e5e869c-d9f9-402a-a78a-d1488506f854');\n",
       "var x = new MutationObserver(function (mutations, observer) {{\n",
       "        var display = window.getComputedStyle(gd).display;\n",
       "        if (!display || display === 'none') {{\n",
       "            console.log([gd, 'removed!']);\n",
       "            Plotly.purge(gd);\n",
       "            observer.disconnect();\n",
       "        }}\n",
       "}});\n",
       "\n",
       "// Listen for the removal of the full notebook cells\n",
       "var notebookContainer = gd.closest('#notebook-container');\n",
       "if (notebookContainer) {{\n",
       "    x.observe(notebookContainer, {childList: true});\n",
       "}}\n",
       "\n",
       "// Listen for the clearing of the current output cell\n",
       "var outputEl = gd.closest('.output');\n",
       "if (outputEl) {{\n",
       "    x.observe(outputEl, {childList: true});\n",
       "}}\n",
       "\n",
       "                        })                };                });            </script>        </div>"
      ]
     },
     "metadata": {},
     "output_type": "display_data"
    }
   ],
   "source": [
    "value_counts = df['Fraud_indicator'].value_counts()\n",
    "percentages = (value_counts / len(df)) * 100\n",
    "\n",
    "fig = px.bar(x=value_counts.index, y=value_counts.values, text=[f'{count}<br>({percent:.2f}%)' for count, percent in zip(value_counts.values, percentages.values)],\n",
    "             labels={'x': 'Fraud Indicator', 'y': 'Count'}, title=\"Distribution of Fraud Indicator\",\n",
    "             color=value_counts.index)\n",
    "\n",
    "fig.update_traces(textposition='inside')\n",
    "fig.update_layout(xaxis=dict(type='category'),width=400,  \n",
    "                  height=500)\n",
    "\n",
    "fig.show()"
   ]
  },
  {
   "cell_type": "markdown",
   "id": "753c76e4-7288-40ce-b0f1-d14dd0a8dc6f",
   "metadata": {},
   "source": [
    "# Feature Engieering"
   ]
  },
  {
   "cell_type": "markdown",
   "id": "49c112f2-3c7b-4a31-a9fb-bfa7b750e945",
   "metadata": {},
   "source": [
    "### Take first two letters from `Vehicle_Plate_Number` to create `State_code' columns"
   ]
  },
  {
   "cell_type": "code",
   "execution_count": 56,
   "id": "09431389-ad71-4380-bd63-fddd6149d7a9",
   "metadata": {},
   "outputs": [
    {
     "data": {
      "text/plain": [
       "array(['KA11AB1234', 'KA66CD5678', 'KA88EF9012', ..., 'KA33WX6789',\n",
       "       'KA35YZ0123', 'KA37AB3456'], dtype=object)"
      ]
     },
     "execution_count": 56,
     "metadata": {},
     "output_type": "execute_result"
    }
   ],
   "source": [
    "df['Vehicle_Plate_Number'].unique()"
   ]
  },
  {
   "cell_type": "code",
   "execution_count": 57,
   "id": "7a343e69-caf2-41e4-a139-73a54d924c0d",
   "metadata": {},
   "outputs": [],
   "source": [
    "df['State_code'] = df['Vehicle_Plate_Number'].apply(lambda x: x[:2])\n",
    "\n",
    "# Drop the original Vehicle_Type column\n",
    "df.drop('Vehicle_Plate_Number', axis=1, inplace=True)"
   ]
  },
  {
   "cell_type": "code",
   "execution_count": 58,
   "id": "9d1a0d27-be0a-47a8-8b4c-023f8f3adb49",
   "metadata": {},
   "outputs": [
    {
     "data": {
      "text/plain": [
       "array(['KA', 'MH', 'AP', 'GA', 'KL', 'GJ', 'TN', 'DL', 'TS', 'UP', 'RJ',\n",
       "       'WB', 'MP', 'HR', 'BR'], dtype=object)"
      ]
     },
     "execution_count": 58,
     "metadata": {},
     "output_type": "execute_result"
    }
   ],
   "source": [
    "df['State_code'].unique()"
   ]
  },
  {
   "cell_type": "markdown",
   "id": "d37ac26c-daba-417f-bdbc-ec8ccdeb1265",
   "metadata": {},
   "source": [
    "### Extract Hour and Month from `Timestamp`"
   ]
  },
  {
   "cell_type": "code",
   "execution_count": 59,
   "id": "523b9295-0b5d-450a-a218-7ca7f62917ea",
   "metadata": {},
   "outputs": [
    {
     "data": {
      "text/plain": [
       "array(['1/6/2023 11:20', '1/7/2023 14:55', '1/8/2023 18:25', ...,\n",
       "       '2/5/2023 5:08', '2/20/2023 20:34', '3/10/2023 0:59'], dtype=object)"
      ]
     },
     "execution_count": 59,
     "metadata": {},
     "output_type": "execute_result"
    }
   ],
   "source": [
    "df['Timestamp'].unique()"
   ]
  },
  {
   "cell_type": "code",
   "execution_count": 60,
   "id": "7a073443-5372-499e-b242-b1d52c6cc801",
   "metadata": {},
   "outputs": [],
   "source": [
    "# Convert Timestamp column to datetime format\n",
    "df['Timestamp'] = pd.to_datetime(df['Timestamp'])\n",
    "df['Hour'] = df['Timestamp'].dt.hour\n",
    "df['Month'] = df['Timestamp'].dt.month"
   ]
  },
  {
   "cell_type": "code",
   "execution_count": 61,
   "id": "0cffb868-af82-4057-aa8d-5f528fc4396c",
   "metadata": {},
   "outputs": [
    {
     "data": {
      "text/plain": [
       "array([11, 14, 18,  2,  6, 10, 15, 20,  1,  7, 12, 17, 22,  4,  8, 13, 16,\n",
       "       21,  3, 23,  5,  9, 19,  0])"
      ]
     },
     "execution_count": 61,
     "metadata": {},
     "output_type": "execute_result"
    }
   ],
   "source": [
    "df['Hour'].unique()"
   ]
  },
  {
   "cell_type": "code",
   "execution_count": 62,
   "id": "85293604-9736-4ae0-bf2a-39e9f9007467",
   "metadata": {},
   "outputs": [
    {
     "data": {
      "text/plain": [
       "array([ 1,  2,  3,  4,  5,  6,  8,  9, 10,  7, 11, 12])"
      ]
     },
     "execution_count": 62,
     "metadata": {},
     "output_type": "execute_result"
    }
   ],
   "source": [
    "df['Month'].unique()"
   ]
  },
  {
   "cell_type": "markdown",
   "id": "77e2a75e-f125-45c9-bc45-02e05a727c93",
   "metadata": {},
   "source": [
    "#### Prior to applying feature engineering techniques and converting columns into numerical formats, we make a duplicate of our dataset for exploratory data analysis purposes."
   ]
  },
  {
   "cell_type": "code",
   "execution_count": 63,
   "id": "500c8f53-3cfb-4cf2-aaef-b998dbe896d2",
   "metadata": {},
   "outputs": [],
   "source": [
    "eda_df = df.copy()"
   ]
  },
  {
   "cell_type": "code",
   "execution_count": 64,
   "id": "8448144d-4574-4674-af75-011a48318f33",
   "metadata": {},
   "outputs": [
    {
     "data": {
      "text/html": [
       "<div>\n",
       "<style scoped>\n",
       "    .dataframe tbody tr th:only-of-type {\n",
       "        vertical-align: middle;\n",
       "    }\n",
       "\n",
       "    .dataframe tbody tr th {\n",
       "        vertical-align: top;\n",
       "    }\n",
       "\n",
       "    .dataframe thead th {\n",
       "        text-align: right;\n",
       "    }\n",
       "</style>\n",
       "<table border=\"1\" class=\"dataframe\">\n",
       "  <thead>\n",
       "    <tr style=\"text-align: right;\">\n",
       "      <th></th>\n",
       "      <th>data type</th>\n",
       "      <th>percent missing</th>\n",
       "      <th>No. unique</th>\n",
       "      <th>unique values</th>\n",
       "    </tr>\n",
       "  </thead>\n",
       "  <tbody>\n",
       "    <tr>\n",
       "      <th>Transaction_ID</th>\n",
       "      <td>int64</td>\n",
       "      <td>0.00</td>\n",
       "      <td>5000</td>\n",
       "      <td>[1, 2, 3, 4, 5, 6, 7, 8, 9, 10, 11, 12, 13, 14...</td>\n",
       "    </tr>\n",
       "    <tr>\n",
       "      <th>Timestamp</th>\n",
       "      <td>datetime64[ns]</td>\n",
       "      <td>0.00</td>\n",
       "      <td>4423</td>\n",
       "      <td>[2023-01-06 11:20:00, 2023-01-07 14:55:00, 202...</td>\n",
       "    </tr>\n",
       "    <tr>\n",
       "      <th>Hour</th>\n",
       "      <td>int32</td>\n",
       "      <td>0.00</td>\n",
       "      <td>24</td>\n",
       "      <td>[11, 14, 18, 2, 6, 10, 15, 20, 1, 7, 12, 17, 2...</td>\n",
       "    </tr>\n",
       "    <tr>\n",
       "      <th>Month</th>\n",
       "      <td>int32</td>\n",
       "      <td>0.00</td>\n",
       "      <td>12</td>\n",
       "      <td>[1, 2, 3, 4, 5, 6, 8, 9, 10, 7, 11, 12]</td>\n",
       "    </tr>\n",
       "    <tr>\n",
       "      <th>Transaction_Amount</th>\n",
       "      <td>int64</td>\n",
       "      <td>0.00</td>\n",
       "      <td>20</td>\n",
       "      <td>[350, 120, 0, 140, 160, 180, 290, 110, 100, 13...</td>\n",
       "    </tr>\n",
       "    <tr>\n",
       "      <th>Amount_paid</th>\n",
       "      <td>int64</td>\n",
       "      <td>0.00</td>\n",
       "      <td>23</td>\n",
       "      <td>[120, 100, 0, 160, 90, 180, 350, 140, 110, 60,...</td>\n",
       "    </tr>\n",
       "    <tr>\n",
       "      <th>Vehicle_Speed</th>\n",
       "      <td>int64</td>\n",
       "      <td>0.00</td>\n",
       "      <td>85</td>\n",
       "      <td>[65, 78, 53, 92, 60, 105, 70, 88, 45, 72, 58, ...</td>\n",
       "    </tr>\n",
       "    <tr>\n",
       "      <th>Vehicle_Type</th>\n",
       "      <td>object</td>\n",
       "      <td>0.00</td>\n",
       "      <td>7</td>\n",
       "      <td>[Bus , Car, Motorcycle, Truck, Van, Sedan, SUV]</td>\n",
       "    </tr>\n",
       "    <tr>\n",
       "      <th>FastagID</th>\n",
       "      <td>object</td>\n",
       "      <td>10.98</td>\n",
       "      <td>4452</td>\n",
       "      <td>[FTG-001-ABC-121, FTG-002-XYZ-451, nan, FTG-04...</td>\n",
       "    </tr>\n",
       "    <tr>\n",
       "      <th>TollBoothID</th>\n",
       "      <td>object</td>\n",
       "      <td>0.00</td>\n",
       "      <td>6</td>\n",
       "      <td>[A-101, B-102, D-104, C-103, D-105, D-106]</td>\n",
       "    </tr>\n",
       "    <tr>\n",
       "      <th>Lane_Type</th>\n",
       "      <td>object</td>\n",
       "      <td>0.00</td>\n",
       "      <td>2</td>\n",
       "      <td>[Express, Regular]</td>\n",
       "    </tr>\n",
       "    <tr>\n",
       "      <th>Vehicle_Dimensions</th>\n",
       "      <td>object</td>\n",
       "      <td>0.00</td>\n",
       "      <td>3</td>\n",
       "      <td>[Large, Small, Medium]</td>\n",
       "    </tr>\n",
       "    <tr>\n",
       "      <th>Geographical_Location</th>\n",
       "      <td>object</td>\n",
       "      <td>0.00</td>\n",
       "      <td>5</td>\n",
       "      <td>[13.059816123454882, 77.77068662374292, 13.042...</td>\n",
       "    </tr>\n",
       "    <tr>\n",
       "      <th>Fraud_indicator</th>\n",
       "      <td>object</td>\n",
       "      <td>0.00</td>\n",
       "      <td>2</td>\n",
       "      <td>[Fraud, Not Fraud]</td>\n",
       "    </tr>\n",
       "    <tr>\n",
       "      <th>State_code</th>\n",
       "      <td>object</td>\n",
       "      <td>0.00</td>\n",
       "      <td>15</td>\n",
       "      <td>[KA, MH, AP, GA, KL, GJ, TN, DL, TS, UP, RJ, W...</td>\n",
       "    </tr>\n",
       "  </tbody>\n",
       "</table>\n",
       "</div>"
      ],
      "text/plain": [
       "                            data type  percent missing  No. unique  \\\n",
       "Transaction_ID                  int64             0.00        5000   \n",
       "Timestamp              datetime64[ns]             0.00        4423   \n",
       "Hour                            int32             0.00          24   \n",
       "Month                           int32             0.00          12   \n",
       "Transaction_Amount              int64             0.00          20   \n",
       "Amount_paid                     int64             0.00          23   \n",
       "Vehicle_Speed                   int64             0.00          85   \n",
       "Vehicle_Type                   object             0.00           7   \n",
       "FastagID                       object            10.98        4452   \n",
       "TollBoothID                    object             0.00           6   \n",
       "Lane_Type                      object             0.00           2   \n",
       "Vehicle_Dimensions             object             0.00           3   \n",
       "Geographical_Location          object             0.00           5   \n",
       "Fraud_indicator                object             0.00           2   \n",
       "State_code                     object             0.00          15   \n",
       "\n",
       "                                                           unique values  \n",
       "Transaction_ID         [1, 2, 3, 4, 5, 6, 7, 8, 9, 10, 11, 12, 13, 14...  \n",
       "Timestamp              [2023-01-06 11:20:00, 2023-01-07 14:55:00, 202...  \n",
       "Hour                   [11, 14, 18, 2, 6, 10, 15, 20, 1, 7, 12, 17, 2...  \n",
       "Month                            [1, 2, 3, 4, 5, 6, 8, 9, 10, 7, 11, 12]  \n",
       "Transaction_Amount     [350, 120, 0, 140, 160, 180, 290, 110, 100, 13...  \n",
       "Amount_paid            [120, 100, 0, 160, 90, 180, 350, 140, 110, 60,...  \n",
       "Vehicle_Speed          [65, 78, 53, 92, 60, 105, 70, 88, 45, 72, 58, ...  \n",
       "Vehicle_Type             [Bus , Car, Motorcycle, Truck, Van, Sedan, SUV]  \n",
       "FastagID               [FTG-001-ABC-121, FTG-002-XYZ-451, nan, FTG-04...  \n",
       "TollBoothID                   [A-101, B-102, D-104, C-103, D-105, D-106]  \n",
       "Lane_Type                                             [Express, Regular]  \n",
       "Vehicle_Dimensions                                [Large, Small, Medium]  \n",
       "Geographical_Location  [13.059816123454882, 77.77068662374292, 13.042...  \n",
       "Fraud_indicator                                       [Fraud, Not Fraud]  \n",
       "State_code             [KA, MH, AP, GA, KL, GJ, TN, DL, TS, UP, RJ, W...  "
      ]
     },
     "execution_count": 64,
     "metadata": {},
     "output_type": "execute_result"
    }
   ],
   "source": [
    "explore(eda_df)"
   ]
  },
  {
   "cell_type": "markdown",
   "id": "09dd45f0-6e6c-4070-b87d-8c9afdbabf52",
   "metadata": {},
   "source": [
    "# Exploratory Data Analysis"
   ]
  },
  {
   "cell_type": "code",
   "execution_count": 65,
   "id": "6b69f4c7-4cf4-49a7-84c8-24480e82539a",
   "metadata": {},
   "outputs": [
    {
     "data": {
      "application/vnd.plotly.v1+json": {
       "config": {
        "plotlyServerURL": "https://plot.ly"
       },
       "data": [
        {
         "alignmentgroup": "True",
         "bingroup": "x",
         "hovertemplate": "Fraud=Fraud<br>State Code=%{x}<br>count=%{y}<extra></extra>",
         "legendgroup": "Fraud",
         "marker": {
          "color": "#00cc96",
          "pattern": {
           "shape": ""
          }
         },
         "name": "Fraud",
         "offsetgroup": "Fraud",
         "orientation": "v",
         "showlegend": true,
         "type": "histogram",
         "x": [
          "KA",
          "KA",
          "KA",
          "KA",
          "KA",
          "KA",
          "KA",
          "KA",
          "KA",
          "KA",
          "KA",
          "KA",
          "KA",
          "KA",
          "KA",
          "KA",
          "KA",
          "KA",
          "KA",
          "KA",
          "KA",
          "KA",
          "KA",
          "KA",
          "KA",
          "KA",
          "KA",
          "KA",
          "KA",
          "KA",
          "KA",
          "KA",
          "KA",
          "KA",
          "KA",
          "KA",
          "KA",
          "KA",
          "KA",
          "KA",
          "KA",
          "KA",
          "KA",
          "KA",
          "KA",
          "KA",
          "KA",
          "KA",
          "KA",
          "KA",
          "KA",
          "KA",
          "KA",
          "KA",
          "KA",
          "KA",
          "KA",
          "KA",
          "KA",
          "KA",
          "KA",
          "KA",
          "KA",
          "KA",
          "KA",
          "KA",
          "KA",
          "KA",
          "KA",
          "KA",
          "KA",
          "KA",
          "KA",
          "KA",
          "KA",
          "KA",
          "KA",
          "KA",
          "KA",
          "KA",
          "KA",
          "KA",
          "KA",
          "KA",
          "KA",
          "KA",
          "KA",
          "KA",
          "KA",
          "KA",
          "KA",
          "KA",
          "KA",
          "KA",
          "KA",
          "KA",
          "KA",
          "KA",
          "KA",
          "KA",
          "KA",
          "KA",
          "KA",
          "KA",
          "KA",
          "KA",
          "KA",
          "KA",
          "KA",
          "KA",
          "KA",
          "KA",
          "KA",
          "KA",
          "KA",
          "KA",
          "KA",
          "KA",
          "KA",
          "KA",
          "KA",
          "KA",
          "KA",
          "KA",
          "KA",
          "KA",
          "KA",
          "KA",
          "KA",
          "KA",
          "KA",
          "KA",
          "KA",
          "KA",
          "KA",
          "KA",
          "KA",
          "KA",
          "KA",
          "KA",
          "KA",
          "KA",
          "KA",
          "KA",
          "KA",
          "KA",
          "KA",
          "KA",
          "KA",
          "KA",
          "KA",
          "KA",
          "KA",
          "KA",
          "KA",
          "KA",
          "KA",
          "KA",
          "KA",
          "KA",
          "KA",
          "KA",
          "KA",
          "KA",
          "KA",
          "KA",
          "KA",
          "KA",
          "KA",
          "KA",
          "KA",
          "KA",
          "KA",
          "KA",
          "KA",
          "KA",
          "KA",
          "KA",
          "KA",
          "KA",
          "KA",
          "KA",
          "KA",
          "KA",
          "KA",
          "KA",
          "KA",
          "KA",
          "KA",
          "KA",
          "KA",
          "KA",
          "KA",
          "KA",
          "KA",
          "KA",
          "KA",
          "KA",
          "KA",
          "KA",
          "KA",
          "KA",
          "KA",
          "KA",
          "KA",
          "KA",
          "KA",
          "KA",
          "KA",
          "KA",
          "KA",
          "KA",
          "KA",
          "KA",
          "KA",
          "KA",
          "KA",
          "KA",
          "GA",
          "MH",
          "KA",
          "KA",
          "AP",
          "AP",
          "AP",
          "AP",
          "AP",
          "AP",
          "AP",
          "AP",
          "AP",
          "AP",
          "AP",
          "GA",
          "GA",
          "GA",
          "GA",
          "GA",
          "GA",
          "GA",
          "GA",
          "GA",
          "KA",
          "KA",
          "KA",
          "KA",
          "KA",
          "KA",
          "KA",
          "KA",
          "KA",
          "KA",
          "KA",
          "KA",
          "KA",
          "KA",
          "KA",
          "KA",
          "KA",
          "KA",
          "KA",
          "KA",
          "KA",
          "KA",
          "KA",
          "KA",
          "KA",
          "KA",
          "KA",
          "KA",
          "KA",
          "KA",
          "KA",
          "KA",
          "KA",
          "KA",
          "KA",
          "KA",
          "KA",
          "KA",
          "KA",
          "KA",
          "KA",
          "KA",
          "KA",
          "KA",
          "KA",
          "KA",
          "KA",
          "KA",
          "KA",
          "KA",
          "KA",
          "KA",
          "KA",
          "KA",
          "KA",
          "KA",
          "KA",
          "KA",
          "KA",
          "KA",
          "KA",
          "MH",
          "MH",
          "MH",
          "MH",
          "MH",
          "MH",
          "MH",
          "MH",
          "MH",
          "AP",
          "AP",
          "GA",
          "MH",
          "MH",
          "AP",
          "MH",
          "AP",
          "GA",
          "MH",
          "AP",
          "AP",
          "GA",
          "MH",
          "AP",
          "GA",
          "GA",
          "AP",
          "MH",
          "MH",
          "MH",
          "GA",
          "MH",
          "MH",
          "MH",
          "GA",
          "MH",
          "GA",
          "MH",
          "MH",
          "AP",
          "MH",
          "GA",
          "GA",
          "MH",
          "KA",
          "KA",
          "KA",
          "KA",
          "KA",
          "KA",
          "KA",
          "KA",
          "KA",
          "KA",
          "KA",
          "KA",
          "KA",
          "KA",
          "KA",
          "KA",
          "GA",
          "MH",
          "MH",
          "GA",
          "MH",
          "AP",
          "GA",
          "AP",
          "GA",
          "MH",
          "MH",
          "GA",
          "MH",
          "AP",
          "GA",
          "MH",
          "AP",
          "AP",
          "MH",
          "GA",
          "MH",
          "MH",
          "MH",
          "AP",
          "GA",
          "AP",
          "MH",
          "AP",
          "GA",
          "MH",
          "AP",
          "AP",
          "GA",
          "MH",
          "GA",
          "GA",
          "MH",
          "MH",
          "MH",
          "AP",
          "MH",
          "GA",
          "GA",
          "AP",
          "GA",
          "AP",
          "AP",
          "KA",
          "KA",
          "KA",
          "KA",
          "KA",
          "KA",
          "KA",
          "KA",
          "KA",
          "KA",
          "KA",
          "KA",
          "KA",
          "KA",
          "KA",
          "KA",
          "KA",
          "KA",
          "KA",
          "KA",
          "KA",
          "KA",
          "KA",
          "KA",
          "KA",
          "KA",
          "KA",
          "KA",
          "KA",
          "KA",
          "KA",
          "KA",
          "KA",
          "KA",
          "KA",
          "KA",
          "KA",
          "KA",
          "KA",
          "KA",
          "KA",
          "KA",
          "KA",
          "KA",
          "KA",
          "KA",
          "KA",
          "KA",
          "KA",
          "KA",
          "KA",
          "KA",
          "KA",
          "KA",
          "KA",
          "KA",
          "KA",
          "KA",
          "KA",
          "KA",
          "KA",
          "KA",
          "KA",
          "KA",
          "KA",
          "KA",
          "KA",
          "KA",
          "KA",
          "KA",
          "KA",
          "KA",
          "KA",
          "KA",
          "KA",
          "KA",
          "KA",
          "KA",
          "KA",
          "KA",
          "KA",
          "KA",
          "KA",
          "KA",
          "KA",
          "KA",
          "KA",
          "KA",
          "KA",
          "KA",
          "KA",
          "KA",
          "KA",
          "KA",
          "KA",
          "KA",
          "KA",
          "KA",
          "KA",
          "KA",
          "KA",
          "KA",
          "KA",
          "KA",
          "KA",
          "KA",
          "KA",
          "KA",
          "KA",
          "KA",
          "KA",
          "KA",
          "KA",
          "KA",
          "KA",
          "KA",
          "KA",
          "KA",
          "KA",
          "KA",
          "KA",
          "KA",
          "KA",
          "KA",
          "KA",
          "KA",
          "KA",
          "KA",
          "KA",
          "KA",
          "KA",
          "KA",
          "KA",
          "KA",
          "KA",
          "KA",
          "KA",
          "KA",
          "KA",
          "KA",
          "KA",
          "KA",
          "KA",
          "KA",
          "KA",
          "KA",
          "KA",
          "KA",
          "MH",
          "AP",
          "GA",
          "GA",
          "MH",
          "AP",
          "GA",
          "AP",
          "MH",
          "AP",
          "MH",
          "MH",
          "MH",
          "MH",
          "AP",
          "AP",
          "AP",
          "GA",
          "MH",
          "GA",
          "GA",
          "GA",
          "MH",
          "AP",
          "MH",
          "GA",
          "GA",
          "AP",
          "GA",
          "AP",
          "MH",
          "MH",
          "GA",
          "MH",
          "AP",
          "MH",
          "GA",
          "MH",
          "AP",
          "GA",
          "GA",
          "AP",
          "MH",
          "MH",
          "GA",
          "MH",
          "AP",
          "MH",
          "GA",
          "GA",
          "GA",
          "MH",
          "MH",
          "GA",
          "MH",
          "AP",
          "GA",
          "AP",
          "GA",
          "AP",
          "AP",
          "AP",
          "GA",
          "MH",
          "KA",
          "KA",
          "KA",
          "KA",
          "KA",
          "KA",
          "KA",
          "KA",
          "KA",
          "KA",
          "KA",
          "KA",
          "KA",
          "KA",
          "KA",
          "KA",
          "KA",
          "KA",
          "KA",
          "KA",
          "KA",
          "KA",
          "KA",
          "KA",
          "KA",
          "KA",
          "KA",
          "KA",
          "KA",
          "KA",
          "KA",
          "KA",
          "KA",
          "KA",
          "KA",
          "KA",
          "KA",
          "KA",
          "KA",
          "KA",
          "KA",
          "KA",
          "KA",
          "KA",
          "KA",
          "KA",
          "KA",
          "KA",
          "KA",
          "KA",
          "KA",
          "KA",
          "KA",
          "KA",
          "KA",
          "KA",
          "KA",
          "KA",
          "KA",
          "KA",
          "KA",
          "KA",
          "KA",
          "KA",
          "KA",
          "KA",
          "KA",
          "KA",
          "KA",
          "KA",
          "KA",
          "KA",
          "KA",
          "KA",
          "KA",
          "KA",
          "KA",
          "KA",
          "KA",
          "KA",
          "KA",
          "KA",
          "KL",
          "KL",
          "KL",
          "KL",
          "KL",
          "KL",
          "KL",
          "KA",
          "KL",
          "KL",
          "KL",
          "KA",
          "KL",
          "KL",
          "GJ",
          "GJ",
          "GJ",
          "GJ",
          "GJ",
          "GJ",
          "GJ",
          "GJ",
          "GJ",
          "GJ",
          "GJ",
          "GJ",
          "KA",
          "KA",
          "KA",
          "KA",
          "KA",
          "MH",
          "KA",
          "KA",
          "KA",
          "KA",
          "KA",
          "KA",
          "KA",
          "KA",
          "KA",
          "KA",
          "KA",
          "KA",
          "KA",
          "KA",
          "KA",
          "KA",
          "KA",
          "KA",
          "KA",
          "KA",
          "KA",
          "KA",
          "KA",
          "KA",
          "KA",
          "KA",
          "KA",
          "KA",
          "KA",
          "KA",
          "MH",
          "KA",
          "KA",
          "MH",
          "KA",
          "KA",
          "MH",
          "KA",
          "KA",
          "KA",
          "KA",
          "KA",
          "KA",
          "KA",
          "KA",
          "KA",
          "KA",
          "KA",
          "KA",
          "KA",
          "KA",
          "KA",
          "KA",
          "KA",
          "KA",
          "MH",
          "MH",
          "KA",
          "MH",
          "MH",
          "KA",
          "MH",
          "AP",
          "AP",
          "AP",
          "AP",
          "AP",
          "TN",
          "TN",
          "TN",
          "TN",
          "TN",
          "TN",
          "TN",
          "TN",
          "TN",
          "TN",
          "TN",
          "TN",
          "TN",
          "TN",
          "TN",
          "GA",
          "GA",
          "GA",
          "GA",
          "GA",
          "GA",
          "GA",
          "GA",
          "GA",
          "GA",
          "GA",
          "GA",
          "GA",
          "GA",
          "GA",
          "GA",
          "GA",
          "GA",
          "GA",
          "KA",
          "KA",
          "KA",
          "KA",
          "KA",
          "KA",
          "KA",
          "KA",
          "KA",
          "KA",
          "KA",
          "KA",
          "KA",
          "KA",
          "KA",
          "KA",
          "MH",
          "KA",
          "MH",
          "MH",
          "MH",
          "DL",
          "DL",
          "DL",
          "DL",
          "DL",
          "DL",
          "DL",
          "DL",
          "DL",
          "DL",
          "DL",
          "KA",
          "KA",
          "KA",
          "KA",
          "KA",
          "KA",
          "KA",
          "GA",
          "GA",
          "GA",
          "GA",
          "GA",
          "GA",
          "GA",
          "GA",
          "GA",
          "GA",
          "GA",
          "GA",
          "GA",
          "GA",
          "GA",
          "GJ",
          "TN",
          "KA",
          "TS",
          "UP",
          "AP",
          "RJ",
          "WB",
          "HR",
          "TS",
          "GJ",
          "HR",
          "BR",
          "HR",
          "TS",
          "RJ",
          "DL",
          "BR",
          "HR",
          "TS",
          "UP",
          "KA",
          "RJ",
          "MP",
          "BR",
          "TS",
          "RJ",
          "BR",
          "KL",
          "HR",
          "BR",
          "RJ",
          "GJ",
          "TN",
          "MP",
          "BR",
          "TN",
          "AP",
          "RJ",
          "UP",
          "KA",
          "AP",
          "TS",
          "KA",
          "KA",
          "KA",
          "KA",
          "KA",
          "KA",
          "KA",
          "UP",
          "WB",
          "TS",
          "GA",
          "GA",
          "TN",
          "TN",
          "TN",
          "TN",
          "TN",
          "TN",
          "TN",
          "TN",
          "TN",
          "TN",
          "TN",
          "TN",
          "TN",
          "KL",
          "TS",
          "GJ",
          "MH",
          "MH",
          "MH",
          "MH",
          "MH",
          "MH",
          "MH",
          "MH",
          "MH",
          "MH",
          "MH",
          "RJ",
          "MH",
          "AP",
          "AP",
          "AP",
          "AP",
          "AP",
          "AP",
          "AP",
          "KA"
         ],
         "xaxis": "x",
         "yaxis": "y"
        },
        {
         "alignmentgroup": "True",
         "bingroup": "x",
         "hovertemplate": "Fraud=Not Fraud<br>State Code=%{x}<br>count=%{y}<extra></extra>",
         "legendgroup": "Not Fraud",
         "marker": {
          "color": "#ab63fa",
          "pattern": {
           "shape": ""
          }
         },
         "name": "Not Fraud",
         "offsetgroup": "Not Fraud",
         "orientation": "v",
         "showlegend": true,
         "type": "histogram",
         "x": [
          "KA",
          "KA",
          "KA",
          "KA",
          "KA",
          "KA",
          "KA",
          "KA",
          "KA",
          "KA",
          "KA",
          "KA",
          "KA",
          "KA",
          "KA",
          "KA",
          "KA",
          "KA",
          "KA",
          "KA",
          "KA",
          "KA",
          "KA",
          "KA",
          "KA",
          "KA",
          "KA",
          "KA",
          "KA",
          "KA",
          "KA",
          "KA",
          "KA",
          "KA",
          "KA",
          "KA",
          "KA",
          "KA",
          "KA",
          "KA",
          "KA",
          "KA",
          "KA",
          "KA",
          "KA",
          "KA",
          "KA",
          "KA",
          "KA",
          "KA",
          "KA",
          "KA",
          "KA",
          "KA",
          "KA",
          "KA",
          "KA",
          "KA",
          "KA",
          "KA",
          "KA",
          "KA",
          "KA",
          "KA",
          "KA",
          "KA",
          "KA",
          "KA",
          "KA",
          "KA",
          "KA",
          "KA",
          "KA",
          "KA",
          "KA",
          "KA",
          "KA",
          "KA",
          "KA",
          "KA",
          "KA",
          "KA",
          "KA",
          "KA",
          "KA",
          "KA",
          "KA",
          "KA",
          "KA",
          "KA",
          "KA",
          "KA",
          "KA",
          "KA",
          "KA",
          "KA",
          "KA",
          "KA",
          "KA",
          "KA",
          "KA",
          "KA",
          "KA",
          "KA",
          "KA",
          "KA",
          "KA",
          "KA",
          "KA",
          "KA",
          "KA",
          "KA",
          "KA",
          "KA",
          "KA",
          "KA",
          "KA",
          "KA",
          "KA",
          "KA",
          "KA",
          "KA",
          "KA",
          "KA",
          "KA",
          "KA",
          "KA",
          "KA",
          "KA",
          "KA",
          "KA",
          "KA",
          "KA",
          "KA",
          "KA",
          "KA",
          "KA",
          "KA",
          "KA",
          "KA",
          "KA",
          "KA",
          "KA",
          "KA",
          "KA",
          "KA",
          "KA",
          "KA",
          "KA",
          "KA",
          "KA",
          "KA",
          "KA",
          "KA",
          "KA",
          "KA",
          "KA",
          "KA",
          "KA",
          "KA",
          "KA",
          "KA",
          "KA",
          "KA",
          "KA",
          "KA",
          "KA",
          "KA",
          "KA",
          "KA",
          "KA",
          "KA",
          "KA",
          "KA",
          "KA",
          "KA",
          "KA",
          "KA",
          "KA",
          "KA",
          "KA",
          "KA",
          "KA",
          "KA",
          "KA",
          "KA",
          "KA",
          "KA",
          "KA",
          "KA",
          "KA",
          "KA",
          "KA",
          "KA",
          "KA",
          "KA",
          "KA",
          "KA",
          "KA",
          "KA",
          "KA",
          "KA",
          "KA",
          "KA",
          "KA",
          "KA",
          "KA",
          "KA",
          "KA",
          "KA",
          "KA",
          "KA",
          "KA",
          "KA",
          "KA",
          "KA",
          "KA",
          "KA",
          "KA",
          "KA",
          "KA",
          "KA",
          "KA",
          "KA",
          "KA",
          "KA",
          "KA",
          "KA",
          "KA",
          "KA",
          "KA",
          "KA",
          "KA",
          "KA",
          "KA",
          "KA",
          "KA",
          "KA",
          "KA",
          "KA",
          "KA",
          "KA",
          "KA",
          "KA",
          "KA",
          "KA",
          "KA",
          "KA",
          "KA",
          "KA",
          "KA",
          "KA",
          "KA",
          "KA",
          "KA",
          "KA",
          "KA",
          "KA",
          "KA",
          "KA",
          "KA",
          "KA",
          "KA",
          "KA",
          "KA",
          "KA",
          "KA",
          "KA",
          "KA",
          "KA",
          "KA",
          "KA",
          "KA",
          "KA",
          "KA",
          "KA",
          "KA",
          "KA",
          "KA",
          "KA",
          "KA",
          "KA",
          "KA",
          "KA",
          "KA",
          "KA",
          "KA",
          "KA",
          "KA",
          "KA",
          "KA",
          "KA",
          "KA",
          "KA",
          "KA",
          "KA",
          "KA",
          "KA",
          "KA",
          "KA",
          "KA",
          "KA",
          "KA",
          "KA",
          "KA",
          "KA",
          "KA",
          "KA",
          "KA",
          "KA",
          "KA",
          "KA",
          "KA",
          "KA",
          "KA",
          "KA",
          "KA",
          "KA",
          "KA",
          "KA",
          "KA",
          "KA",
          "KA",
          "KA",
          "KA",
          "KA",
          "KA",
          "KA",
          "KA",
          "KA",
          "KA",
          "KA",
          "KA",
          "KA",
          "KA",
          "KA",
          "KA",
          "KA",
          "KA",
          "KA",
          "KA",
          "KA",
          "KA",
          "KA",
          "KA",
          "KA",
          "KA",
          "KA",
          "KA",
          "KA",
          "KA",
          "KA",
          "KA",
          "KA",
          "KA",
          "KA",
          "KA",
          "KA",
          "KA",
          "KA",
          "KA",
          "KA",
          "KA",
          "KA",
          "KA",
          "KA",
          "KA",
          "KA",
          "KA",
          "KA",
          "KA",
          "KA",
          "KA",
          "KA",
          "KA",
          "KA",
          "KA",
          "KA",
          "KA",
          "KA",
          "KA",
          "KA",
          "KA",
          "KA",
          "KA",
          "KA",
          "KA",
          "KA",
          "KA",
          "KA",
          "KA",
          "KA",
          "KA",
          "KA",
          "KA",
          "KA",
          "KA",
          "KA",
          "KA",
          "KA",
          "KA",
          "KA",
          "KA",
          "KA",
          "KA",
          "KA",
          "KA",
          "KA",
          "KA",
          "KA",
          "KA",
          "KA",
          "KA",
          "MH",
          "AP",
          "KA",
          "KA",
          "AP",
          "KA",
          "KA",
          "AP",
          "AP",
          "AP",
          "AP",
          "AP",
          "AP",
          "AP",
          "AP",
          "AP",
          "AP",
          "AP",
          "AP",
          "AP",
          "AP",
          "AP",
          "AP",
          "AP",
          "AP",
          "AP",
          "AP",
          "AP",
          "AP",
          "AP",
          "AP",
          "AP",
          "AP",
          "AP",
          "AP",
          "AP",
          "AP",
          "AP",
          "AP",
          "AP",
          "AP",
          "AP",
          "AP",
          "AP",
          "AP",
          "AP",
          "GA",
          "GA",
          "GA",
          "GA",
          "GA",
          "GA",
          "GA",
          "GA",
          "GA",
          "GA",
          "GA",
          "GA",
          "GA",
          "GA",
          "GA",
          "GA",
          "GA",
          "GA",
          "GA",
          "GA",
          "KA",
          "KA",
          "KA",
          "KA",
          "KA",
          "KA",
          "KA",
          "KA",
          "KA",
          "KA",
          "KA",
          "KA",
          "KA",
          "KA",
          "KA",
          "KA",
          "KA",
          "KA",
          "KA",
          "KA",
          "KA",
          "AP",
          "AP",
          "AP",
          "AP",
          "AP",
          "KA",
          "KA",
          "KA",
          "KA",
          "KA",
          "KA",
          "KA",
          "KA",
          "KA",
          "KA",
          "KA",
          "KA",
          "KA",
          "KA",
          "KA",
          "KA",
          "KA",
          "KA",
          "KA",
          "KA",
          "KA",
          "KA",
          "KA",
          "KA",
          "KA",
          "KA",
          "KA",
          "KA",
          "KA",
          "KA",
          "KA",
          "KA",
          "KA",
          "KA",
          "KA",
          "KA",
          "KA",
          "KA",
          "KA",
          "KA",
          "KA",
          "KA",
          "KA",
          "KA",
          "KA",
          "KA",
          "KA",
          "KA",
          "KA",
          "KA",
          "KA",
          "KA",
          "KA",
          "KA",
          "KA",
          "KA",
          "KA",
          "KA",
          "KA",
          "KA",
          "KA",
          "KA",
          "KA",
          "KA",
          "KA",
          "KA",
          "KA",
          "KA",
          "KA",
          "KA",
          "KA",
          "KA",
          "KA",
          "KA",
          "KA",
          "KA",
          "KA",
          "KA",
          "KA",
          "KA",
          "KA",
          "KA",
          "KA",
          "KA",
          "KA",
          "KA",
          "KA",
          "KA",
          "KA",
          "KA",
          "KA",
          "KA",
          "KA",
          "KA",
          "KA",
          "KA",
          "KA",
          "KA",
          "KA",
          "KA",
          "KA",
          "KA",
          "KA",
          "KA",
          "KA",
          "KA",
          "KA",
          "KA",
          "KA",
          "KA",
          "KA",
          "KA",
          "KA",
          "KA",
          "KA",
          "KA",
          "KA",
          "KA",
          "KA",
          "KA",
          "KA",
          "KA",
          "KA",
          "KA",
          "KA",
          "KA",
          "KA",
          "KA",
          "KA",
          "KA",
          "KA",
          "KA",
          "KA",
          "KA",
          "KA",
          "KA",
          "KA",
          "KA",
          "KA",
          "KA",
          "KA",
          "KA",
          "KA",
          "KA",
          "KA",
          "KA",
          "KA",
          "KA",
          "KA",
          "KA",
          "KA",
          "KA",
          "KA",
          "KA",
          "KA",
          "KA",
          "KA",
          "MH",
          "MH",
          "MH",
          "MH",
          "MH",
          "MH",
          "MH",
          "MH",
          "MH",
          "MH",
          "MH",
          "MH",
          "MH",
          "MH",
          "MH",
          "MH",
          "MH",
          "GA",
          "AP",
          "GA",
          "GA",
          "MH",
          "GA",
          "MH",
          "AP",
          "MH",
          "AP",
          "GA",
          "AP",
          "GA",
          "GA",
          "GA",
          "MH",
          "MH",
          "AP",
          "MH",
          "AP",
          "GA",
          "MH",
          "GA",
          "AP",
          "GA",
          "MH",
          "AP",
          "GA",
          "MH",
          "AP",
          "GA",
          "AP",
          "GA",
          "AP",
          "GA",
          "MH",
          "AP",
          "AP",
          "GA",
          "AP",
          "GA",
          "AP",
          "MH",
          "AP",
          "GA",
          "AP",
          "MH",
          "AP",
          "GA",
          "AP",
          "GA",
          "AP",
          "GA",
          "MH",
          "GA",
          "AP",
          "GA",
          "MH",
          "AP",
          "MH",
          "AP",
          "AP",
          "KA",
          "KA",
          "KA",
          "KA",
          "KA",
          "KA",
          "KA",
          "KA",
          "KA",
          "KA",
          "KA",
          "KA",
          "KA",
          "KA",
          "KA",
          "KA",
          "KA",
          "KA",
          "KA",
          "KA",
          "KA",
          "KA",
          "KA",
          "KA",
          "KA",
          "KA",
          "KA",
          "KA",
          "KA",
          "AP",
          "GA",
          "AP",
          "MH",
          "GA",
          "MH",
          "AP",
          "MH",
          "AP",
          "GA",
          "AP",
          "GA",
          "AP",
          "GA",
          "MH",
          "AP",
          "GA",
          "MH",
          "AP",
          "MH",
          "AP",
          "GA",
          "AP",
          "GA",
          "MH",
          "AP",
          "GA",
          "MH",
          "GA",
          "MH",
          "AP",
          "GA",
          "MH",
          "AP",
          "GA",
          "MH",
          "GA",
          "AP",
          "MH",
          "AP",
          "GA",
          "AP",
          "GA",
          "AP",
          "GA",
          "GA",
          "MH",
          "AP",
          "GA",
          "MH",
          "AP",
          "MH",
          "GA",
          "MH",
          "AP",
          "GA",
          "MH",
          "AP",
          "GA",
          "MH",
          "AP",
          "GA",
          "GA",
          "MH",
          "MH",
          "AP",
          "GA",
          "AP",
          "GA",
          "MH",
          "AP",
          "MH",
          "AP",
          "GA",
          "MH",
          "AP",
          "GA",
          "MH",
          "AP",
          "GA",
          "MH",
          "AP",
          "GA",
          "MH",
          "AP",
          "GA",
          "MH",
          "AP",
          "MH",
          "AP",
          "GA",
          "AP",
          "GA",
          "AP",
          "GA",
          "MH",
          "AP",
          "GA",
          "MH",
          "AP",
          "GA",
          "AP",
          "GA",
          "MH",
          "AP",
          "GA",
          "MH",
          "GA",
          "AP",
          "GA",
          "MH",
          "AP",
          "GA",
          "MH",
          "AP",
          "MH",
          "AP",
          "MH",
          "GA",
          "MH",
          "AP",
          "GA",
          "MH",
          "AP",
          "MH",
          "AP",
          "GA",
          "MH",
          "AP",
          "GA",
          "MH",
          "GA",
          "MH",
          "AP",
          "GA",
          "MH",
          "GA",
          "MH",
          "AP",
          "GA",
          "MH",
          "KA",
          "KA",
          "KA",
          "KA",
          "KA",
          "KA",
          "KA",
          "KA",
          "KA",
          "KA",
          "KA",
          "KA",
          "KA",
          "KA",
          "KA",
          "KA",
          "KA",
          "KA",
          "KA",
          "KA",
          "KA",
          "KA",
          "KA",
          "KA",
          "KA",
          "KA",
          "KA",
          "KA",
          "KA",
          "KA",
          "KA",
          "KA",
          "KA",
          "KA",
          "KA",
          "KA",
          "KA",
          "KA",
          "KA",
          "KA",
          "KA",
          "KA",
          "KA",
          "KA",
          "KA",
          "KA",
          "KA",
          "KA",
          "KA",
          "KA",
          "KA",
          "KA",
          "KA",
          "KA",
          "KA",
          "KA",
          "KA",
          "KA",
          "KA",
          "KA",
          "KA",
          "KA",
          "KA",
          "KA",
          "KA",
          "KA",
          "KA",
          "KA",
          "KA",
          "KA",
          "KA",
          "KA",
          "KA",
          "KA",
          "KA",
          "KA",
          "KA",
          "KA",
          "KA",
          "KA",
          "KA",
          "KA",
          "KA",
          "KA",
          "KA",
          "KA",
          "KA",
          "KA",
          "KA",
          "KA",
          "KA",
          "KA",
          "KA",
          "KA",
          "KA",
          "KA",
          "KA",
          "KA",
          "KA",
          "KA",
          "KA",
          "KA",
          "KA",
          "KA",
          "KA",
          "KA",
          "KA",
          "KA",
          "KA",
          "KA",
          "KA",
          "KA",
          "KA",
          "KA",
          "KA",
          "KA",
          "KA",
          "KA",
          "KA",
          "KA",
          "KA",
          "KA",
          "KA",
          "KA",
          "KA",
          "KA",
          "KA",
          "KA",
          "KA",
          "KA",
          "KA",
          "KA",
          "KA",
          "KA",
          "KA",
          "KA",
          "KA",
          "KA",
          "KA",
          "KA",
          "KA",
          "KA",
          "KA",
          "KA",
          "KA",
          "KA",
          "KA",
          "KA",
          "KA",
          "KA",
          "KA",
          "KA",
          "KA",
          "KA",
          "KA",
          "KA",
          "KA",
          "KA",
          "KA",
          "KA",
          "KA",
          "KA",
          "KA",
          "KA",
          "KA",
          "KA",
          "KA",
          "KA",
          "KA",
          "KA",
          "KA",
          "KA",
          "KA",
          "KA",
          "KA",
          "KA",
          "KA",
          "KA",
          "KA",
          "KA",
          "KA",
          "KA",
          "KA",
          "KA",
          "KA",
          "KA",
          "KA",
          "KA",
          "KA",
          "KA",
          "KA",
          "KA",
          "KA",
          "KA",
          "KA",
          "KA",
          "KA",
          "KA",
          "KA",
          "KA",
          "KA",
          "KA",
          "KA",
          "KA",
          "KA",
          "KA",
          "KA",
          "KA",
          "KA",
          "KA",
          "KA",
          "KA",
          "KA",
          "KA",
          "KA",
          "KA",
          "KA",
          "KA",
          "KA",
          "KA",
          "KA",
          "KA",
          "KA",
          "KA",
          "KA",
          "KA",
          "KA",
          "KA",
          "KA",
          "KA",
          "KA",
          "KA",
          "KA",
          "KA",
          "KA",
          "KA",
          "KA",
          "KA",
          "KA",
          "KA",
          "KA",
          "KA",
          "KA",
          "KA",
          "KA",
          "KA",
          "KA",
          "KA",
          "KA",
          "KA",
          "KA",
          "KA",
          "KA",
          "KA",
          "KA",
          "KA",
          "KA",
          "KA",
          "KA",
          "KA",
          "KA",
          "KA",
          "KA",
          "KA",
          "KA",
          "KA",
          "KA",
          "KA",
          "KA",
          "KA",
          "KA",
          "KA",
          "KA",
          "KA",
          "KA",
          "KA",
          "KA",
          "KA",
          "KA",
          "KA",
          "KA",
          "KA",
          "KA",
          "KA",
          "KA",
          "KA",
          "KA",
          "KA",
          "KA",
          "KA",
          "KA",
          "KA",
          "KA",
          "KA",
          "KA",
          "KA",
          "KA",
          "KA",
          "KA",
          "KA",
          "KA",
          "KA",
          "KA",
          "KA",
          "KA",
          "KA",
          "KA",
          "KA",
          "KA",
          "KA",
          "KA",
          "KA",
          "KA",
          "KA",
          "KA",
          "KA",
          "KA",
          "KA",
          "KA",
          "KA",
          "KA",
          "KA",
          "KA",
          "KA",
          "KA",
          "KA",
          "KA",
          "KA",
          "KA",
          "KA",
          "KA",
          "KA",
          "KA",
          "KA",
          "KA",
          "KA",
          "KA",
          "KA",
          "KA",
          "KA",
          "KA",
          "KA",
          "KA",
          "KA",
          "KA",
          "KA",
          "KA",
          "KA",
          "KA",
          "KA",
          "KA",
          "KA",
          "KA",
          "KA",
          "KA",
          "KA",
          "KA",
          "KA",
          "KA",
          "KA",
          "KA",
          "KA",
          "KA",
          "KA",
          "KA",
          "KA",
          "KA",
          "KA",
          "KA",
          "KA",
          "KA",
          "KA",
          "KA",
          "KA",
          "KA",
          "KA",
          "KA",
          "KA",
          "KA",
          "KA",
          "KA",
          "KA",
          "KA",
          "KA",
          "KA",
          "KA",
          "KA",
          "KA",
          "KA",
          "KA",
          "KA",
          "KA",
          "KA",
          "KA",
          "KA",
          "KA",
          "KA",
          "KA",
          "KA",
          "KA",
          "KA",
          "KA",
          "KA",
          "KA",
          "KA",
          "KA",
          "KA",
          "KA",
          "KA",
          "KA",
          "KA",
          "KA",
          "KA",
          "KA",
          "KA",
          "KA",
          "KA",
          "KA",
          "KA",
          "KA",
          "KA",
          "KA",
          "KA",
          "KA",
          "KA",
          "KA",
          "KA",
          "KA",
          "KA",
          "KA",
          "KA",
          "KA",
          "KA",
          "KA",
          "KA",
          "KA",
          "KA",
          "KA",
          "KA",
          "KA",
          "KA",
          "KA",
          "KA",
          "KA",
          "KA",
          "KA",
          "KA",
          "KA",
          "KA",
          "KA",
          "KA",
          "KA",
          "KA",
          "KA",
          "KA",
          "KA",
          "KA",
          "KA",
          "KA",
          "KA",
          "KA",
          "KA",
          "KA",
          "KA",
          "KA",
          "KA",
          "KA",
          "KA",
          "KA",
          "KA",
          "KA",
          "KA",
          "KA",
          "KA",
          "KA",
          "KA",
          "KA",
          "KA",
          "KA",
          "KA",
          "KA",
          "KA",
          "KA",
          "KA",
          "KA",
          "KA",
          "KA",
          "KA",
          "KA",
          "KA",
          "KA",
          "KA",
          "KA",
          "KA",
          "KA",
          "KA",
          "KA",
          "KA",
          "KA",
          "KA",
          "KA",
          "KA",
          "KA",
          "KA",
          "KA",
          "KA",
          "KA",
          "KA",
          "KA",
          "KA",
          "KA",
          "KA",
          "KA",
          "KA",
          "KA",
          "KA",
          "KA",
          "KA",
          "KA",
          "KA",
          "KA",
          "KA",
          "KA",
          "KA",
          "KA",
          "KA",
          "KA",
          "KA",
          "KA",
          "KA",
          "KA",
          "KA",
          "KA",
          "KA",
          "KA",
          "KA",
          "KA",
          "KA",
          "KA",
          "KA",
          "KA",
          "KA",
          "KA",
          "KA",
          "KA",
          "KA",
          "KA",
          "KA",
          "KA",
          "KA",
          "GA",
          "AP",
          "GA",
          "MH",
          "GA",
          "MH",
          "AP",
          "MH",
          "AP",
          "GA",
          "MH",
          "AP",
          "GA",
          "MH",
          "AP",
          "GA",
          "MH",
          "AP",
          "GA",
          "MH",
          "AP",
          "AP",
          "GA",
          "MH",
          "GA",
          "MH",
          "AP",
          "GA",
          "MH",
          "AP",
          "GA",
          "MH",
          "AP",
          "GA",
          "MH",
          "AP",
          "GA",
          "MH",
          "AP",
          "MH",
          "GA",
          "AP",
          "GA",
          "MH",
          "AP",
          "GA",
          "MH",
          "GA",
          "AP",
          "GA",
          "MH",
          "AP",
          "GA",
          "MH",
          "AP",
          "GA",
          "AP",
          "GA",
          "AP",
          "GA",
          "AP",
          "GA",
          "MH",
          "GA",
          "MH",
          "AP",
          "GA",
          "MH",
          "AP",
          "GA",
          "MH",
          "AP",
          "GA",
          "MH",
          "GA",
          "MH",
          "GA",
          "MH",
          "AP",
          "GA",
          "MH",
          "AP",
          "GA",
          "MH",
          "AP",
          "MH",
          "AP",
          "GA",
          "AP",
          "MH",
          "AP",
          "GA",
          "MH",
          "AP",
          "MH",
          "AP",
          "GA",
          "MH",
          "AP",
          "GA",
          "MH",
          "AP",
          "MH",
          "AP",
          "GA",
          "MH",
          "AP",
          "GA",
          "MH",
          "AP",
          "GA",
          "MH",
          "AP",
          "GA",
          "AP",
          "GA",
          "MH",
          "AP",
          "GA",
          "MH",
          "AP",
          "GA",
          "MH",
          "AP",
          "GA",
          "MH",
          "AP",
          "GA",
          "MH",
          "GA",
          "AP",
          "GA",
          "MH",
          "AP",
          "GA",
          "MH",
          "AP",
          "MH",
          "AP",
          "MH",
          "AP",
          "GA",
          "MH",
          "AP",
          "GA",
          "MH",
          "AP",
          "GA",
          "MH",
          "MH",
          "AP",
          "GA",
          "MH",
          "AP",
          "GA",
          "MH",
          "GA",
          "KA",
          "KA",
          "GA",
          "MH",
          "AP",
          "GA",
          "AP",
          "MH",
          "AP",
          "GA",
          "MH",
          "AP",
          "GA",
          "MH",
          "AP",
          "GA",
          "MH",
          "AP",
          "GA",
          "MH",
          "AP",
          "GA",
          "GA",
          "MH",
          "AP",
          "GA",
          "MH",
          "AP",
          "GA",
          "AP",
          "GA",
          "MH",
          "AP",
          "GA",
          "MH",
          "AP",
          "GA",
          "MH",
          "AP",
          "MH",
          "AP",
          "GA",
          "MH",
          "AP",
          "GA",
          "MH",
          "AP",
          "GA",
          "MH",
          "AP",
          "GA",
          "AP",
          "GA",
          "MH",
          "AP",
          "GA",
          "MH",
          "AP",
          "GA",
          "MH",
          "MH",
          "AP",
          "MH",
          "AP",
          "GA",
          "MH",
          "AP",
          "GA",
          "MH",
          "AP",
          "GA",
          "MH",
          "AP",
          "GA",
          "MH",
          "AP",
          "GA",
          "MH",
          "GA",
          "AP",
          "GA",
          "MH",
          "AP",
          "GA",
          "MH",
          "AP",
          "GA",
          "MH",
          "AP",
          "GA",
          "MH",
          "AP",
          "GA",
          "MH",
          "AP",
          "GA",
          "AP",
          "MH",
          "AP",
          "GA",
          "MH",
          "AP",
          "GA",
          "AP",
          "GA",
          "MH",
          "GA",
          "MH",
          "KA",
          "AP",
          "GA",
          "MH",
          "AP",
          "GA",
          "AP",
          "MH",
          "AP",
          "GA",
          "MH",
          "AP",
          "GA",
          "MH",
          "AP",
          "MH",
          "AP",
          "GA",
          "MH",
          "AP",
          "GA",
          "MH",
          "AP",
          "MH",
          "AP",
          "GA",
          "MH",
          "AP",
          "GA",
          "MH",
          "AP",
          "GA",
          "MH",
          "AP",
          "GA",
          "MH",
          "AP",
          "GA",
          "MH",
          "AP",
          "GA",
          "MH",
          "AP",
          "GA",
          "AP",
          "GA",
          "MH",
          "AP",
          "GA",
          "AP",
          "AP",
          "GA",
          "MH",
          "GA",
          "MH",
          "AP",
          "GA",
          "MH",
          "AP",
          "GA",
          "MH",
          "AP",
          "GA",
          "MH",
          "AP",
          "MH",
          "AP",
          "GA",
          "MH",
          "AP",
          "GA",
          "MH",
          "AP",
          "GA",
          "MH",
          "AP",
          "GA",
          "MH",
          "AP",
          "GA",
          "MH",
          "GA",
          "MH",
          "AP",
          "GA",
          "MH",
          "AP",
          "GA",
          "MH",
          "AP",
          "GA",
          "MH",
          "AP",
          "MH",
          "GA",
          "MH",
          "AP",
          "GA",
          "MH",
          "GA",
          "MH",
          "AP",
          "GA",
          "MH",
          "AP",
          "GA",
          "MH",
          "AP",
          "GA",
          "MH",
          "AP",
          "GA",
          "MH",
          "AP",
          "GA",
          "MH",
          "AP",
          "GA",
          "MH",
          "AP",
          "GA",
          "MH",
          "AP",
          "GA",
          "MH",
          "AP",
          "GA",
          "MH",
          "AP",
          "GA",
          "MH",
          "AP",
          "GA",
          "MH",
          "KA",
          "KA",
          "KA",
          "KA",
          "KA",
          "KA",
          "KA",
          "KA",
          "KA",
          "KA",
          "KA",
          "KA",
          "KA",
          "KA",
          "KA",
          "KA",
          "KA",
          "KA",
          "KA",
          "KA",
          "KA",
          "KA",
          "KA",
          "KA",
          "KA",
          "KA",
          "KA",
          "KA",
          "KA",
          "KA",
          "KA",
          "KA",
          "KA",
          "KA",
          "KA",
          "KA",
          "KA",
          "KA",
          "KA",
          "KA",
          "KA",
          "KA",
          "KA",
          "KA",
          "KA",
          "KA",
          "KA",
          "KA",
          "KA",
          "KA",
          "KA",
          "KA",
          "KA",
          "KA",
          "KA",
          "KA",
          "KA",
          "KA",
          "KA",
          "KA",
          "KA",
          "KA",
          "KA",
          "KA",
          "KA",
          "KA",
          "KA",
          "KA",
          "KA",
          "KA",
          "KA",
          "KA",
          "KA",
          "KA",
          "KA",
          "KA",
          "KA",
          "KA",
          "KA",
          "KA",
          "KA",
          "KA",
          "KA",
          "KA",
          "KA",
          "KA",
          "KA",
          "KA",
          "KA",
          "KA",
          "KA",
          "KA",
          "KA",
          "KA",
          "KA",
          "KA",
          "KA",
          "KA",
          "KA",
          "KA",
          "KA",
          "KA",
          "KA",
          "KA",
          "KA",
          "KA",
          "KA",
          "KA",
          "KA",
          "KA",
          "KA",
          "KA",
          "KA",
          "KA",
          "KA",
          "KA",
          "KA",
          "KA",
          "KA",
          "KA",
          "KA",
          "KA",
          "KA",
          "KA",
          "KA",
          "KA",
          "KA",
          "KA",
          "KA",
          "KA",
          "KA",
          "KA",
          "KA",
          "KA",
          "KA",
          "KA",
          "KA",
          "KA",
          "KA",
          "KA",
          "KA",
          "KA",
          "KA",
          "KA",
          "KA",
          "KA",
          "KA",
          "KA",
          "KA",
          "KA",
          "KA",
          "KA",
          "KA",
          "KA",
          "KA",
          "KA",
          "KA",
          "KA",
          "KA",
          "KA",
          "KA",
          "KA",
          "KA",
          "KA",
          "KA",
          "KA",
          "KA",
          "KA",
          "KA",
          "KA",
          "KA",
          "KA",
          "KA",
          "KA",
          "KA",
          "KA",
          "KA",
          "KA",
          "KA",
          "KA",
          "KA",
          "KA",
          "KA",
          "KA",
          "KA",
          "KA",
          "KA",
          "KA",
          "KA",
          "KA",
          "KA",
          "KA",
          "KA",
          "KA",
          "KA",
          "KA",
          "KA",
          "KA",
          "KA",
          "KA",
          "KA",
          "KA",
          "KA",
          "KA",
          "KA",
          "KA",
          "KA",
          "KA",
          "KA",
          "KA",
          "KA",
          "KA",
          "KA",
          "KA",
          "KA",
          "KA",
          "KA",
          "KA",
          "KA",
          "KA",
          "KA",
          "KA",
          "KA",
          "KA",
          "KA",
          "KA",
          "KA",
          "KA",
          "KA",
          "KA",
          "KA",
          "KA",
          "KA",
          "KA",
          "KA",
          "KA",
          "KA",
          "KA",
          "KA",
          "KA",
          "KA",
          "KA",
          "KA",
          "KA",
          "KA",
          "KA",
          "KA",
          "KA",
          "KA",
          "KA",
          "KA",
          "KA",
          "KA",
          "KA",
          "KA",
          "KA",
          "KA",
          "KA",
          "KA",
          "KA",
          "KA",
          "KA",
          "KA",
          "KA",
          "KA",
          "KA",
          "KA",
          "KA",
          "KA",
          "KA",
          "KA",
          "KA",
          "KA",
          "KA",
          "KA",
          "KA",
          "KA",
          "KA",
          "KA",
          "KA",
          "KA",
          "KA",
          "KA",
          "KA",
          "KA",
          "KA",
          "KA",
          "KA",
          "KA",
          "KA",
          "KA",
          "KA",
          "KA",
          "KA",
          "KA",
          "KA",
          "KA",
          "KA",
          "KA",
          "KA",
          "KA",
          "KA",
          "KA",
          "KA",
          "KA",
          "KA",
          "KA",
          "KA",
          "KA",
          "KA",
          "KA",
          "KA",
          "KA",
          "KA",
          "KA",
          "KA",
          "KA",
          "KA",
          "KA",
          "KA",
          "KA",
          "KA",
          "KA",
          "KA",
          "KA",
          "KA",
          "KA",
          "KA",
          "KA",
          "KA",
          "KA",
          "KA",
          "KA",
          "KA",
          "KA",
          "KA",
          "KA",
          "KA",
          "KA",
          "KA",
          "KA",
          "KA",
          "KA",
          "KA",
          "KA",
          "KA",
          "KA",
          "KA",
          "KA",
          "KA",
          "KA",
          "KA",
          "KA",
          "KA",
          "KA",
          "KA",
          "KA",
          "KA",
          "KA",
          "KA",
          "KA",
          "KA",
          "KA",
          "KA",
          "KA",
          "KA",
          "KA",
          "KA",
          "KA",
          "KA",
          "KA",
          "KA",
          "KA",
          "KA",
          "KA",
          "KA",
          "KA",
          "KA",
          "KA",
          "KA",
          "KA",
          "KA",
          "KA",
          "KA",
          "KA",
          "KA",
          "KA",
          "KA",
          "KA",
          "KA",
          "KA",
          "KA",
          "KA",
          "KA",
          "KA",
          "KA",
          "KA",
          "KA",
          "KA",
          "KA",
          "KA",
          "KA",
          "KA",
          "KA",
          "KA",
          "KA",
          "KA",
          "KA",
          "KA",
          "KA",
          "KA",
          "KA",
          "KA",
          "KA",
          "KA",
          "KA",
          "KA",
          "KA",
          "KA",
          "KA",
          "KA",
          "KA",
          "KA",
          "KA",
          "KA",
          "KA",
          "KA",
          "KA",
          "KA",
          "KA",
          "KA",
          "KA",
          "KA",
          "KA",
          "KA",
          "KA",
          "KA",
          "KA",
          "KA",
          "KA",
          "KA",
          "KA",
          "KA",
          "KA",
          "KA",
          "KA",
          "KA",
          "KA",
          "KA",
          "KA",
          "KA",
          "KA",
          "KA",
          "KA",
          "KA",
          "KA",
          "KA",
          "KA",
          "KA",
          "KA",
          "KA",
          "KA",
          "KA",
          "KA",
          "KA",
          "KA",
          "KA",
          "KA",
          "KA",
          "KA",
          "KA",
          "KA",
          "KA",
          "KA",
          "KA",
          "KA",
          "KA",
          "KA",
          "KA",
          "KA",
          "KA",
          "KA",
          "KA",
          "KA",
          "KA",
          "KA",
          "KA",
          "KA",
          "KA",
          "KA",
          "KA",
          "KA",
          "KA",
          "KA",
          "KA",
          "KA",
          "KA",
          "KA",
          "KA",
          "KA",
          "KA",
          "KA",
          "KA",
          "KA",
          "KA",
          "KA",
          "KA",
          "KA",
          "KA",
          "KA",
          "KA",
          "KA",
          "KA",
          "KA",
          "KA",
          "KA",
          "KA",
          "KA",
          "KA",
          "KA",
          "KA",
          "KA",
          "KA",
          "KA",
          "KL",
          "KL",
          "KL",
          "KL",
          "KL",
          "KL",
          "KL",
          "KL",
          "KL",
          "KL",
          "KL",
          "KA",
          "KL",
          "KL",
          "KL",
          "KL",
          "KL",
          "KL",
          "KL",
          "KL",
          "KL",
          "KL",
          "KL",
          "KA",
          "KL",
          "KL",
          "KL",
          "KL",
          "KL",
          "KL",
          "KL",
          "KL",
          "KL",
          "KA",
          "KL",
          "KL",
          "KL",
          "KL",
          "KL",
          "KL",
          "KL",
          "KL",
          "KL",
          "KL",
          "KA",
          "KL",
          "KL",
          "KL",
          "KL",
          "KL",
          "KL",
          "KL",
          "KL",
          "KL",
          "KL",
          "KL",
          "KL",
          "KL",
          "KL",
          "KL",
          "KL",
          "KL",
          "KL",
          "KL",
          "KL",
          "KL",
          "KL",
          "KL",
          "KL",
          "KA",
          "KL",
          "KL",
          "KL",
          "KL",
          "KL",
          "KL",
          "KL",
          "KL",
          "KL",
          "KL",
          "KL",
          "KL",
          "KL",
          "KL",
          "KL",
          "KL",
          "KL",
          "KL",
          "KL",
          "KL",
          "KA",
          "KL",
          "KL",
          "KL",
          "GJ",
          "GJ",
          "GJ",
          "GJ",
          "GJ",
          "GJ",
          "GJ",
          "GJ",
          "KA",
          "GJ",
          "GJ",
          "GJ",
          "GJ",
          "GJ",
          "GJ",
          "GJ",
          "GJ",
          "GJ",
          "GJ",
          "KA",
          "GJ",
          "GJ",
          "GJ",
          "GJ",
          "GJ",
          "GJ",
          "GJ",
          "GJ",
          "GJ",
          "GJ",
          "KA",
          "GJ",
          "GJ",
          "GJ",
          "GJ",
          "GJ",
          "GJ",
          "GJ",
          "GJ",
          "GJ",
          "GJ",
          "GJ",
          "KA",
          "GJ",
          "GJ",
          "GJ",
          "GJ",
          "GJ",
          "GJ",
          "GJ",
          "GJ",
          "GJ",
          "KA",
          "GJ",
          "GJ",
          "GJ",
          "GJ",
          "GJ",
          "GJ",
          "GJ",
          "GJ",
          "GJ",
          "GJ",
          "GJ",
          "GJ",
          "KA",
          "GJ",
          "GJ",
          "GJ",
          "GJ",
          "GJ",
          "GJ",
          "GJ",
          "GJ",
          "GJ",
          "GJ",
          "GJ",
          "KA",
          "GJ",
          "GJ",
          "GJ",
          "GJ",
          "GJ",
          "GJ",
          "GJ",
          "GJ",
          "GJ",
          "GJ",
          "KA",
          "GJ",
          "GJ",
          "GJ",
          "GJ",
          "GJ",
          "GJ",
          "GJ",
          "KA",
          "KA",
          "KA",
          "KA",
          "KA",
          "KA",
          "KA",
          "KA",
          "KA",
          "KA",
          "KA",
          "KA",
          "MH",
          "KA",
          "KA",
          "KA",
          "KA",
          "MH",
          "KA",
          "KA",
          "KA",
          "MH",
          "MH",
          "KA",
          "KA",
          "KA",
          "KA",
          "KA",
          "KA",
          "KA",
          "KA",
          "MH",
          "MH",
          "KA",
          "KA",
          "KA",
          "KA",
          "MH",
          "KA",
          "KA",
          "KA",
          "KA",
          "KA",
          "KA",
          "KA",
          "KA",
          "KA",
          "KA",
          "KA",
          "KA",
          "KA",
          "KA",
          "KA",
          "MH",
          "KA",
          "MH",
          "KA",
          "KA",
          "KA",
          "KA",
          "KA",
          "KA",
          "KA",
          "KA",
          "KA",
          "KA",
          "KA",
          "KA",
          "KA",
          "KA",
          "KA",
          "KA",
          "KA",
          "KA",
          "KA",
          "KA",
          "KA",
          "KA",
          "KA",
          "KA",
          "KA",
          "KA",
          "KA",
          "KA",
          "KA",
          "KA",
          "KA",
          "KA",
          "KA",
          "KA",
          "KA",
          "KA",
          "KA",
          "KA",
          "KA",
          "KA",
          "KA",
          "KA",
          "KA",
          "KA",
          "KA",
          "KA",
          "KA",
          "KA",
          "KA",
          "KA",
          "KA",
          "KA",
          "KA",
          "KA",
          "KA",
          "KA",
          "MH",
          "KA",
          "KA",
          "KA",
          "KA",
          "KA",
          "KA",
          "KA",
          "KA",
          "KA",
          "KA",
          "KA",
          "KA",
          "KA",
          "KA",
          "KA",
          "KA",
          "KA",
          "KA",
          "KA",
          "KA",
          "KA",
          "KA",
          "KA",
          "KA",
          "KA",
          "KA",
          "KA",
          "KA",
          "KA",
          "KA",
          "KA",
          "KA",
          "KA",
          "KA",
          "KA",
          "KA",
          "KA",
          "KA",
          "KA",
          "KA",
          "KA",
          "KA",
          "KA",
          "KA",
          "KA",
          "KA",
          "KA",
          "KA",
          "KA",
          "KA",
          "KA",
          "KA",
          "KA",
          "KA",
          "KA",
          "KA",
          "KA",
          "KA",
          "KA",
          "KA",
          "KA",
          "KA",
          "KA",
          "KA",
          "KA",
          "KA",
          "KA",
          "KA",
          "KA",
          "KA",
          "KA",
          "KA",
          "KA",
          "KA",
          "KA",
          "KA",
          "KA",
          "KA",
          "KA",
          "KA",
          "KA",
          "KA",
          "KA",
          "KA",
          "KA",
          "KA",
          "KA",
          "KA",
          "KA",
          "KA",
          "KA",
          "KA",
          "KA",
          "KA",
          "MH",
          "MH",
          "MH",
          "MH",
          "MH",
          "MH",
          "KA",
          "MH",
          "MH",
          "KA",
          "KA",
          "KA",
          "KA",
          "MH",
          "MH",
          "KA",
          "KA",
          "KA",
          "KA",
          "KA",
          "MH",
          "KA",
          "KA",
          "MH",
          "KA",
          "KA",
          "KA",
          "KA",
          "KA",
          "MH",
          "MH",
          "KA",
          "KA",
          "KA",
          "KA",
          "MH",
          "MH",
          "KA",
          "KA",
          "KA",
          "KA",
          "MH",
          "MH",
          "MH",
          "KA",
          "KA",
          "MH",
          "MH",
          "KA",
          "KA",
          "KA",
          "KA",
          "KA",
          "KA",
          "MH",
          "MH",
          "KA",
          "KA",
          "KA",
          "KA",
          "KA",
          "KA",
          "KA",
          "KA",
          "KA",
          "KA",
          "KA",
          "KA",
          "KA",
          "KA",
          "KA",
          "KA",
          "KA",
          "KA",
          "KA",
          "KA",
          "KA",
          "KA",
          "KA",
          "KA",
          "KA",
          "KA",
          "KA",
          "KA",
          "KA",
          "KA",
          "KA",
          "KA",
          "KA",
          "KA",
          "KA",
          "KA",
          "KA",
          "KA",
          "KA",
          "KA",
          "KA",
          "KA",
          "KA",
          "KA",
          "KA",
          "KA",
          "KA",
          "KA",
          "KA",
          "KA",
          "KA",
          "KA",
          "KA",
          "KA",
          "KA",
          "KA",
          "KA",
          "KA",
          "KA",
          "KA",
          "KA",
          "KA",
          "KA",
          "KA",
          "KA",
          "KA",
          "KA",
          "KA",
          "KA",
          "KA",
          "KA",
          "KA",
          "KA",
          "KA",
          "KA",
          "KA",
          "KA",
          "KA",
          "KA",
          "KA",
          "KA",
          "KA",
          "KA",
          "KA",
          "MH",
          "MH",
          "MH",
          "KA",
          "KA",
          "MH",
          "MH",
          "MH",
          "KA",
          "KA",
          "MH",
          "MH",
          "MH",
          "MH",
          "MH",
          "MH",
          "MH",
          "MH",
          "MH",
          "MH",
          "MH",
          "MH",
          "MH",
          "KA",
          "KA",
          "MH",
          "MH",
          "MH",
          "MH",
          "KA",
          "MH",
          "MH",
          "MH",
          "KA",
          "KA",
          "MH",
          "MH",
          "MH",
          "KA",
          "MH",
          "MH",
          "MH",
          "KA",
          "KA",
          "AP",
          "AP",
          "AP",
          "AP",
          "AP",
          "AP",
          "AP",
          "AP",
          "AP",
          "AP",
          "AP",
          "AP",
          "AP",
          "AP",
          "AP",
          "AP",
          "AP",
          "AP",
          "AP",
          "TN",
          "TN",
          "TN",
          "TN",
          "TN",
          "TN",
          "TN",
          "TN",
          "TN",
          "TN",
          "TN",
          "TN",
          "TN",
          "TN",
          "TN",
          "TN",
          "TN",
          "TN",
          "TN",
          "TN",
          "TN",
          "TN",
          "TN",
          "TN",
          "TN",
          "TN",
          "TN",
          "TN",
          "TN",
          "TN",
          "TN",
          "TN",
          "TN",
          "TN",
          "TN",
          "TN",
          "TN",
          "TN",
          "TN",
          "TN",
          "TN",
          "TN",
          "TN",
          "TN",
          "TN",
          "TN",
          "TN",
          "TN",
          "TN",
          "TN",
          "TN",
          "TN",
          "TN",
          "TN",
          "TN",
          "TN",
          "TN",
          "TN",
          "TN",
          "TN",
          "TN",
          "TN",
          "TN",
          "TN",
          "TN",
          "TN",
          "TN",
          "TN",
          "TN",
          "TN",
          "TN",
          "TN",
          "TN",
          "TN",
          "TN",
          "TN",
          "TN",
          "TN",
          "TN",
          "TN",
          "TN",
          "TN",
          "TN",
          "TN",
          "GA",
          "GA",
          "GA",
          "GA",
          "GA",
          "GA",
          "GA",
          "GA",
          "GA",
          "GA",
          "GA",
          "GA",
          "GA",
          "GA",
          "GA",
          "GA",
          "GA",
          "GA",
          "GA",
          "GA",
          "GA",
          "GA",
          "GA",
          "GA",
          "GA",
          "KA",
          "GA",
          "GA",
          "GA",
          "GA",
          "GA",
          "GA",
          "GA",
          "GA",
          "GA",
          "GA",
          "GA",
          "GA",
          "GA",
          "GA",
          "GA",
          "GA",
          "GA",
          "GA",
          "GA",
          "GA",
          "GA",
          "GA",
          "GA",
          "GA",
          "GA",
          "GA",
          "GA",
          "GA",
          "GA",
          "GA",
          "GA",
          "GA",
          "GA",
          "GA",
          "GA",
          "GA",
          "GA",
          "GA",
          "GA",
          "GA",
          "GA",
          "GA",
          "GA",
          "GA",
          "GA",
          "GA",
          "GA",
          "GA",
          "GA",
          "GA",
          "GA",
          "GA",
          "GA",
          "GA",
          "MH",
          "KA",
          "KA",
          "KA",
          "KA",
          "KA",
          "KA",
          "MH",
          "MH",
          "KA",
          "KA",
          "KA",
          "KA",
          "KA",
          "KA",
          "KA",
          "KA",
          "KA",
          "KA",
          "KA",
          "KA",
          "KA",
          "KA",
          "KA",
          "KA",
          "KA",
          "KA",
          "KA",
          "KA",
          "KA",
          "KA",
          "KA",
          "KA",
          "KA",
          "KA",
          "KA",
          "KA",
          "KA",
          "KA",
          "KA",
          "KA",
          "KA",
          "KA",
          "KA",
          "KA",
          "KA",
          "KA",
          "KA",
          "KA",
          "KA",
          "KA",
          "KA",
          "KA",
          "KA",
          "KA",
          "KA",
          "KA",
          "KA",
          "KA",
          "KA",
          "KA",
          "KA",
          "KA",
          "KA",
          "KA",
          "KA",
          "KA",
          "KA",
          "KA",
          "KA",
          "KA",
          "KA",
          "KA",
          "KA",
          "KA",
          "KA",
          "KA",
          "KA",
          "KA",
          "KA",
          "KA",
          "KA",
          "KA",
          "KA",
          "KA",
          "MH",
          "MH",
          "DL",
          "KA",
          "KA",
          "MH",
          "KA",
          "KA",
          "KA",
          "KA",
          "KA",
          "MH",
          "MH",
          "MH",
          "MH",
          "DL",
          "MH",
          "MH",
          "MH",
          "MH",
          "MH",
          "DL",
          "MH",
          "DL",
          "MH",
          "MH",
          "DL",
          "DL",
          "MH",
          "MH",
          "MH",
          "MH",
          "MH",
          "MH",
          "MH",
          "DL",
          "DL",
          "DL",
          "DL",
          "DL",
          "DL",
          "DL",
          "DL",
          "DL",
          "DL",
          "DL",
          "DL",
          "DL",
          "DL",
          "DL",
          "DL",
          "DL",
          "DL",
          "DL",
          "DL",
          "DL",
          "DL",
          "DL",
          "DL",
          "DL",
          "DL",
          "DL",
          "DL",
          "DL",
          "DL",
          "DL",
          "DL",
          "DL",
          "DL",
          "DL",
          "DL",
          "DL",
          "DL",
          "DL",
          "DL",
          "DL",
          "DL",
          "DL",
          "DL",
          "DL",
          "DL",
          "DL",
          "DL",
          "DL",
          "DL",
          "DL",
          "DL",
          "DL",
          "DL",
          "DL",
          "DL",
          "DL",
          "DL",
          "DL",
          "DL",
          "DL",
          "DL",
          "DL",
          "DL",
          "DL",
          "DL",
          "DL",
          "DL",
          "DL",
          "DL",
          "DL",
          "DL",
          "DL",
          "DL",
          "DL",
          "DL",
          "DL",
          "DL",
          "DL",
          "DL",
          "DL",
          "DL",
          "DL",
          "KA",
          "KA",
          "KA",
          "KA",
          "KA",
          "KA",
          "KA",
          "KA",
          "KA",
          "KA",
          "KA",
          "KA",
          "KA",
          "KA",
          "KA",
          "KA",
          "KA",
          "KA",
          "KA",
          "KA",
          "KA",
          "KA",
          "KA",
          "KA",
          "KA",
          "KA",
          "KA",
          "KA",
          "KA",
          "KA",
          "KA",
          "KA",
          "KA",
          "KA",
          "KA",
          "KA",
          "KA",
          "KA",
          "GA",
          "GA",
          "GA",
          "GA",
          "GA",
          "GA",
          "GA",
          "GA",
          "GA",
          "GA",
          "GA",
          "GA",
          "GA",
          "GA",
          "GA",
          "GA",
          "GA",
          "GA",
          "GA",
          "GA",
          "GA",
          "GA",
          "GA",
          "GA",
          "GA",
          "GA",
          "GA",
          "GA",
          "GA",
          "GA",
          "GA",
          "GA",
          "GA",
          "GA",
          "GA",
          "GA",
          "GA",
          "GA",
          "GA",
          "GA",
          "GA",
          "GA",
          "GA",
          "GA",
          "GA",
          "GA",
          "GA",
          "GA",
          "GA",
          "GA",
          "GA",
          "GA",
          "GA",
          "GA",
          "GA",
          "GA",
          "GA",
          "GA",
          "GA",
          "GA",
          "GA",
          "GA",
          "GA",
          "GA",
          "GA",
          "GA",
          "GA",
          "GA",
          "GA",
          "GA",
          "GA",
          "GA",
          "GA",
          "GA",
          "GA",
          "GA",
          "GA",
          "GA",
          "GA",
          "GA",
          "GA",
          "GA",
          "GA",
          "GA",
          "GA",
          "MH",
          "TN",
          "DL",
          "TS",
          "MH",
          "UP",
          "KL",
          "RJ",
          "DL",
          "UP",
          "WB",
          "MP",
          "HR",
          "BR",
          "AP",
          "MH",
          "KL",
          "GJ",
          "TN",
          "RJ",
          "DL",
          "WB",
          "MP",
          "HR",
          "BR",
          "KA",
          "TS",
          "MH",
          "KL",
          "GJ",
          "TN",
          "DL",
          "UP",
          "WB",
          "MP",
          "HR",
          "BR",
          "KA",
          "TN",
          "TS",
          "MH",
          "KL",
          "GJ",
          "TN",
          "RJ",
          "DL",
          "UP",
          "MP",
          "BR",
          "RJ",
          "AP",
          "MH",
          "KL",
          "TN",
          "RJ",
          "DL",
          "UP",
          "WB",
          "MP",
          "KA",
          "AP",
          "TS",
          "MH",
          "KL",
          "GJ",
          "TN",
          "RJ",
          "DL",
          "UP",
          "WB",
          "MP",
          "BR",
          "KA",
          "AP",
          "DL",
          "KL",
          "GJ",
          "TN",
          "UP",
          "WB",
          "MP",
          "HR",
          "UP",
          "AP",
          "TS",
          "MH",
          "WB",
          "MP",
          "BR",
          "RJ",
          "DL",
          "MH",
          "KL",
          "GJ",
          "TN",
          "RJ",
          "DL",
          "WB",
          "MP",
          "HR",
          "BR",
          "AP",
          "TS",
          "MH",
          "KL",
          "GJ",
          "TN",
          "DL",
          "UP",
          "WB",
          "HR",
          "KA",
          "AP",
          "UP",
          "KL",
          "GJ",
          "TN",
          "DL",
          "UP",
          "WB",
          "MP",
          "HR",
          "KA",
          "AP",
          "TS",
          "MH",
          "WB",
          "TN",
          "RJ",
          "DL",
          "UP",
          "WB",
          "MP",
          "MP",
          "AP",
          "TS",
          "MH",
          "KL",
          "HR",
          "TN",
          "DL",
          "UP",
          "WB",
          "MP",
          "HR",
          "BR",
          "KA",
          "AP",
          "TS",
          "MH",
          "KL",
          "RJ",
          "DL",
          "UP",
          "WB",
          "HR",
          "BR",
          "AP",
          "TS",
          "MH",
          "KL",
          "GJ",
          "KA",
          "AP",
          "TS",
          "MH",
          "KL",
          "GJ",
          "TN",
          "RJ",
          "DL",
          "UP",
          "WB",
          "MP",
          "HR",
          "BR",
          "KA",
          "TS",
          "MH",
          "KL",
          "GJ",
          "TN",
          "DL",
          "WB",
          "MP",
          "HR",
          "BR",
          "MH",
          "KA",
          "KA",
          "KA",
          "KA",
          "KA",
          "KA",
          "KA",
          "KA",
          "KA",
          "KA",
          "KA",
          "KA",
          "KA",
          "KA",
          "KA",
          "KA",
          "KA",
          "KA",
          "KA",
          "KA",
          "KA",
          "KA",
          "KA",
          "KA",
          "KA",
          "KA",
          "KA",
          "KA",
          "KA",
          "KA",
          "KA",
          "KA",
          "KA",
          "KA",
          "KA",
          "KA",
          "KA",
          "KA",
          "KA",
          "KA",
          "KA",
          "KA",
          "KA",
          "KA",
          "KA",
          "KA",
          "KA",
          "KA",
          "KA",
          "KA",
          "KA",
          "KL",
          "GJ",
          "TN",
          "RJ",
          "DL",
          "WB",
          "MP",
          "HR",
          "BR",
          "KA",
          "AP",
          "TS",
          "MH",
          "KL",
          "GJ",
          "TN",
          "RJ",
          "DL",
          "UP",
          "MP",
          "HR",
          "BR",
          "KA",
          "AP",
          "MH",
          "KL",
          "GJ",
          "TN",
          "RJ",
          "GA",
          "GA",
          "GA",
          "GA",
          "GA",
          "GA",
          "GA",
          "GA",
          "GA",
          "DL",
          "UP",
          "WB",
          "MP",
          "HR",
          "BR",
          "KA",
          "AP",
          "TS",
          "TN",
          "TN",
          "TN",
          "TN",
          "TN",
          "TN",
          "TN",
          "TN",
          "TN",
          "TN",
          "TN",
          "TN",
          "TN",
          "TN",
          "TN",
          "TN",
          "TN",
          "TN",
          "TN",
          "TN",
          "TN",
          "TN",
          "TN",
          "TN",
          "TN",
          "TN",
          "TN",
          "TN",
          "TN",
          "TN",
          "TN",
          "TN",
          "TN",
          "TN",
          "TN",
          "TN",
          "TN",
          "TN",
          "TN",
          "TN",
          "TN",
          "TN",
          "TN",
          "TN",
          "TN",
          "TN",
          "TN",
          "TN",
          "TN",
          "TN",
          "TN",
          "TN",
          "TN",
          "TN",
          "TN",
          "TN",
          "TN",
          "TN",
          "TN",
          "TN",
          "TN",
          "TN",
          "TN",
          "TN",
          "TN",
          "TN",
          "TN",
          "TN",
          "MH",
          "GJ",
          "TN",
          "RJ",
          "DL",
          "UP",
          "WB",
          "MP",
          "HR",
          "BR",
          "KA",
          "AP",
          "MH",
          "KL",
          "TN",
          "MH",
          "MH",
          "MH",
          "MH",
          "MH",
          "MH",
          "MH",
          "MH",
          "MH",
          "MH",
          "MH",
          "MH",
          "MH",
          "MH",
          "MH",
          "MH",
          "MH",
          "MH",
          "MH",
          "MH",
          "MH",
          "MH",
          "MH",
          "MH",
          "MH",
          "MH",
          "MH",
          "MH",
          "MH",
          "MH",
          "MH",
          "MH",
          "MH",
          "MH",
          "MH",
          "MH",
          "MH",
          "MH",
          "MH",
          "MH",
          "MH",
          "MH",
          "MH",
          "MH",
          "MH",
          "MH",
          "MH",
          "MH",
          "MH",
          "MH",
          "MH",
          "MH",
          "MH",
          "MH",
          "MH",
          "MH",
          "MH",
          "MH",
          "MH",
          "MH",
          "MH",
          "MH",
          "MH",
          "MH",
          "MH",
          "MH",
          "MH",
          "MH",
          "MH",
          "MH",
          "DL",
          "MH",
          "MH",
          "MH",
          "MH",
          "MH",
          "MH",
          "AP",
          "AP",
          "AP",
          "AP",
          "AP",
          "AP",
          "AP",
          "AP",
          "AP",
          "AP",
          "AP",
          "AP",
          "AP",
          "AP",
          "AP",
          "AP",
          "AP",
          "AP",
          "AP",
          "AP",
          "AP",
          "AP",
          "AP",
          "AP",
          "AP",
          "AP",
          "AP",
          "AP",
          "AP",
          "AP",
          "AP",
          "AP",
          "AP",
          "AP",
          "AP",
          "AP",
          "AP",
          "AP",
          "AP",
          "AP",
          "AP",
          "AP",
          "AP",
          "AP",
          "AP",
          "AP",
          "AP",
          "AP",
          "AP",
          "AP",
          "AP",
          "AP",
          "AP",
          "AP",
          "AP",
          "AP",
          "AP",
          "AP",
          "AP",
          "AP",
          "AP",
          "AP",
          "AP",
          "AP",
          "AP",
          "AP",
          "AP",
          "AP",
          "AP",
          "AP",
          "AP",
          "AP",
          "AP",
          "AP",
          "AP",
          "AP",
          "AP",
          "AP",
          "AP",
          "AP",
          "AP",
          "AP",
          "AP",
          "AP",
          "AP",
          "AP",
          "AP",
          "AP",
          "AP",
          "AP",
          "AP",
          "AP",
          "AP",
          "KA",
          "KA",
          "KA",
          "KA"
         ],
         "xaxis": "x",
         "yaxis": "y"
        }
       ],
       "layout": {
        "barmode": "group",
        "height": 500,
        "legend": {
         "title": {
          "text": "Fraud"
         },
         "tracegroupgap": 0
        },
        "showlegend": true,
        "template": {
         "data": {
          "bar": [
           {
            "error_x": {
             "color": "#2a3f5f"
            },
            "error_y": {
             "color": "#2a3f5f"
            },
            "marker": {
             "line": {
              "color": "#E5ECF6",
              "width": 0.5
             },
             "pattern": {
              "fillmode": "overlay",
              "size": 10,
              "solidity": 0.2
             }
            },
            "type": "bar"
           }
          ],
          "barpolar": [
           {
            "marker": {
             "line": {
              "color": "#E5ECF6",
              "width": 0.5
             },
             "pattern": {
              "fillmode": "overlay",
              "size": 10,
              "solidity": 0.2
             }
            },
            "type": "barpolar"
           }
          ],
          "carpet": [
           {
            "aaxis": {
             "endlinecolor": "#2a3f5f",
             "gridcolor": "white",
             "linecolor": "white",
             "minorgridcolor": "white",
             "startlinecolor": "#2a3f5f"
            },
            "baxis": {
             "endlinecolor": "#2a3f5f",
             "gridcolor": "white",
             "linecolor": "white",
             "minorgridcolor": "white",
             "startlinecolor": "#2a3f5f"
            },
            "type": "carpet"
           }
          ],
          "choropleth": [
           {
            "colorbar": {
             "outlinewidth": 0,
             "ticks": ""
            },
            "type": "choropleth"
           }
          ],
          "contour": [
           {
            "colorbar": {
             "outlinewidth": 0,
             "ticks": ""
            },
            "colorscale": [
             [
              0,
              "#0d0887"
             ],
             [
              0.1111111111111111,
              "#46039f"
             ],
             [
              0.2222222222222222,
              "#7201a8"
             ],
             [
              0.3333333333333333,
              "#9c179e"
             ],
             [
              0.4444444444444444,
              "#bd3786"
             ],
             [
              0.5555555555555556,
              "#d8576b"
             ],
             [
              0.6666666666666666,
              "#ed7953"
             ],
             [
              0.7777777777777778,
              "#fb9f3a"
             ],
             [
              0.8888888888888888,
              "#fdca26"
             ],
             [
              1,
              "#f0f921"
             ]
            ],
            "type": "contour"
           }
          ],
          "contourcarpet": [
           {
            "colorbar": {
             "outlinewidth": 0,
             "ticks": ""
            },
            "type": "contourcarpet"
           }
          ],
          "heatmap": [
           {
            "colorbar": {
             "outlinewidth": 0,
             "ticks": ""
            },
            "colorscale": [
             [
              0,
              "#0d0887"
             ],
             [
              0.1111111111111111,
              "#46039f"
             ],
             [
              0.2222222222222222,
              "#7201a8"
             ],
             [
              0.3333333333333333,
              "#9c179e"
             ],
             [
              0.4444444444444444,
              "#bd3786"
             ],
             [
              0.5555555555555556,
              "#d8576b"
             ],
             [
              0.6666666666666666,
              "#ed7953"
             ],
             [
              0.7777777777777778,
              "#fb9f3a"
             ],
             [
              0.8888888888888888,
              "#fdca26"
             ],
             [
              1,
              "#f0f921"
             ]
            ],
            "type": "heatmap"
           }
          ],
          "heatmapgl": [
           {
            "colorbar": {
             "outlinewidth": 0,
             "ticks": ""
            },
            "colorscale": [
             [
              0,
              "#0d0887"
             ],
             [
              0.1111111111111111,
              "#46039f"
             ],
             [
              0.2222222222222222,
              "#7201a8"
             ],
             [
              0.3333333333333333,
              "#9c179e"
             ],
             [
              0.4444444444444444,
              "#bd3786"
             ],
             [
              0.5555555555555556,
              "#d8576b"
             ],
             [
              0.6666666666666666,
              "#ed7953"
             ],
             [
              0.7777777777777778,
              "#fb9f3a"
             ],
             [
              0.8888888888888888,
              "#fdca26"
             ],
             [
              1,
              "#f0f921"
             ]
            ],
            "type": "heatmapgl"
           }
          ],
          "histogram": [
           {
            "marker": {
             "pattern": {
              "fillmode": "overlay",
              "size": 10,
              "solidity": 0.2
             }
            },
            "type": "histogram"
           }
          ],
          "histogram2d": [
           {
            "colorbar": {
             "outlinewidth": 0,
             "ticks": ""
            },
            "colorscale": [
             [
              0,
              "#0d0887"
             ],
             [
              0.1111111111111111,
              "#46039f"
             ],
             [
              0.2222222222222222,
              "#7201a8"
             ],
             [
              0.3333333333333333,
              "#9c179e"
             ],
             [
              0.4444444444444444,
              "#bd3786"
             ],
             [
              0.5555555555555556,
              "#d8576b"
             ],
             [
              0.6666666666666666,
              "#ed7953"
             ],
             [
              0.7777777777777778,
              "#fb9f3a"
             ],
             [
              0.8888888888888888,
              "#fdca26"
             ],
             [
              1,
              "#f0f921"
             ]
            ],
            "type": "histogram2d"
           }
          ],
          "histogram2dcontour": [
           {
            "colorbar": {
             "outlinewidth": 0,
             "ticks": ""
            },
            "colorscale": [
             [
              0,
              "#0d0887"
             ],
             [
              0.1111111111111111,
              "#46039f"
             ],
             [
              0.2222222222222222,
              "#7201a8"
             ],
             [
              0.3333333333333333,
              "#9c179e"
             ],
             [
              0.4444444444444444,
              "#bd3786"
             ],
             [
              0.5555555555555556,
              "#d8576b"
             ],
             [
              0.6666666666666666,
              "#ed7953"
             ],
             [
              0.7777777777777778,
              "#fb9f3a"
             ],
             [
              0.8888888888888888,
              "#fdca26"
             ],
             [
              1,
              "#f0f921"
             ]
            ],
            "type": "histogram2dcontour"
           }
          ],
          "mesh3d": [
           {
            "colorbar": {
             "outlinewidth": 0,
             "ticks": ""
            },
            "type": "mesh3d"
           }
          ],
          "parcoords": [
           {
            "line": {
             "colorbar": {
              "outlinewidth": 0,
              "ticks": ""
             }
            },
            "type": "parcoords"
           }
          ],
          "pie": [
           {
            "automargin": true,
            "type": "pie"
           }
          ],
          "scatter": [
           {
            "fillpattern": {
             "fillmode": "overlay",
             "size": 10,
             "solidity": 0.2
            },
            "type": "scatter"
           }
          ],
          "scatter3d": [
           {
            "line": {
             "colorbar": {
              "outlinewidth": 0,
              "ticks": ""
             }
            },
            "marker": {
             "colorbar": {
              "outlinewidth": 0,
              "ticks": ""
             }
            },
            "type": "scatter3d"
           }
          ],
          "scattercarpet": [
           {
            "marker": {
             "colorbar": {
              "outlinewidth": 0,
              "ticks": ""
             }
            },
            "type": "scattercarpet"
           }
          ],
          "scattergeo": [
           {
            "marker": {
             "colorbar": {
              "outlinewidth": 0,
              "ticks": ""
             }
            },
            "type": "scattergeo"
           }
          ],
          "scattergl": [
           {
            "marker": {
             "colorbar": {
              "outlinewidth": 0,
              "ticks": ""
             }
            },
            "type": "scattergl"
           }
          ],
          "scattermapbox": [
           {
            "marker": {
             "colorbar": {
              "outlinewidth": 0,
              "ticks": ""
             }
            },
            "type": "scattermapbox"
           }
          ],
          "scatterpolar": [
           {
            "marker": {
             "colorbar": {
              "outlinewidth": 0,
              "ticks": ""
             }
            },
            "type": "scatterpolar"
           }
          ],
          "scatterpolargl": [
           {
            "marker": {
             "colorbar": {
              "outlinewidth": 0,
              "ticks": ""
             }
            },
            "type": "scatterpolargl"
           }
          ],
          "scatterternary": [
           {
            "marker": {
             "colorbar": {
              "outlinewidth": 0,
              "ticks": ""
             }
            },
            "type": "scatterternary"
           }
          ],
          "surface": [
           {
            "colorbar": {
             "outlinewidth": 0,
             "ticks": ""
            },
            "colorscale": [
             [
              0,
              "#0d0887"
             ],
             [
              0.1111111111111111,
              "#46039f"
             ],
             [
              0.2222222222222222,
              "#7201a8"
             ],
             [
              0.3333333333333333,
              "#9c179e"
             ],
             [
              0.4444444444444444,
              "#bd3786"
             ],
             [
              0.5555555555555556,
              "#d8576b"
             ],
             [
              0.6666666666666666,
              "#ed7953"
             ],
             [
              0.7777777777777778,
              "#fb9f3a"
             ],
             [
              0.8888888888888888,
              "#fdca26"
             ],
             [
              1,
              "#f0f921"
             ]
            ],
            "type": "surface"
           }
          ],
          "table": [
           {
            "cells": {
             "fill": {
              "color": "#EBF0F8"
             },
             "line": {
              "color": "white"
             }
            },
            "header": {
             "fill": {
              "color": "#C8D4E3"
             },
             "line": {
              "color": "white"
             }
            },
            "type": "table"
           }
          ]
         },
         "layout": {
          "annotationdefaults": {
           "arrowcolor": "#2a3f5f",
           "arrowhead": 0,
           "arrowwidth": 1
          },
          "autotypenumbers": "strict",
          "coloraxis": {
           "colorbar": {
            "outlinewidth": 0,
            "ticks": ""
           }
          },
          "colorscale": {
           "diverging": [
            [
             0,
             "#8e0152"
            ],
            [
             0.1,
             "#c51b7d"
            ],
            [
             0.2,
             "#de77ae"
            ],
            [
             0.3,
             "#f1b6da"
            ],
            [
             0.4,
             "#fde0ef"
            ],
            [
             0.5,
             "#f7f7f7"
            ],
            [
             0.6,
             "#e6f5d0"
            ],
            [
             0.7,
             "#b8e186"
            ],
            [
             0.8,
             "#7fbc41"
            ],
            [
             0.9,
             "#4d9221"
            ],
            [
             1,
             "#276419"
            ]
           ],
           "sequential": [
            [
             0,
             "#0d0887"
            ],
            [
             0.1111111111111111,
             "#46039f"
            ],
            [
             0.2222222222222222,
             "#7201a8"
            ],
            [
             0.3333333333333333,
             "#9c179e"
            ],
            [
             0.4444444444444444,
             "#bd3786"
            ],
            [
             0.5555555555555556,
             "#d8576b"
            ],
            [
             0.6666666666666666,
             "#ed7953"
            ],
            [
             0.7777777777777778,
             "#fb9f3a"
            ],
            [
             0.8888888888888888,
             "#fdca26"
            ],
            [
             1,
             "#f0f921"
            ]
           ],
           "sequentialminus": [
            [
             0,
             "#0d0887"
            ],
            [
             0.1111111111111111,
             "#46039f"
            ],
            [
             0.2222222222222222,
             "#7201a8"
            ],
            [
             0.3333333333333333,
             "#9c179e"
            ],
            [
             0.4444444444444444,
             "#bd3786"
            ],
            [
             0.5555555555555556,
             "#d8576b"
            ],
            [
             0.6666666666666666,
             "#ed7953"
            ],
            [
             0.7777777777777778,
             "#fb9f3a"
            ],
            [
             0.8888888888888888,
             "#fdca26"
            ],
            [
             1,
             "#f0f921"
            ]
           ]
          },
          "colorway": [
           "#636efa",
           "#EF553B",
           "#00cc96",
           "#ab63fa",
           "#FFA15A",
           "#19d3f3",
           "#FF6692",
           "#B6E880",
           "#FF97FF",
           "#FECB52"
          ],
          "font": {
           "color": "#2a3f5f"
          },
          "geo": {
           "bgcolor": "white",
           "lakecolor": "white",
           "landcolor": "#E5ECF6",
           "showlakes": true,
           "showland": true,
           "subunitcolor": "white"
          },
          "hoverlabel": {
           "align": "left"
          },
          "hovermode": "closest",
          "mapbox": {
           "style": "light"
          },
          "paper_bgcolor": "white",
          "plot_bgcolor": "#E5ECF6",
          "polar": {
           "angularaxis": {
            "gridcolor": "white",
            "linecolor": "white",
            "ticks": ""
           },
           "bgcolor": "#E5ECF6",
           "radialaxis": {
            "gridcolor": "white",
            "linecolor": "white",
            "ticks": ""
           }
          },
          "scene": {
           "xaxis": {
            "backgroundcolor": "#E5ECF6",
            "gridcolor": "white",
            "gridwidth": 2,
            "linecolor": "white",
            "showbackground": true,
            "ticks": "",
            "zerolinecolor": "white"
           },
           "yaxis": {
            "backgroundcolor": "#E5ECF6",
            "gridcolor": "white",
            "gridwidth": 2,
            "linecolor": "white",
            "showbackground": true,
            "ticks": "",
            "zerolinecolor": "white"
           },
           "zaxis": {
            "backgroundcolor": "#E5ECF6",
            "gridcolor": "white",
            "gridwidth": 2,
            "linecolor": "white",
            "showbackground": true,
            "ticks": "",
            "zerolinecolor": "white"
           }
          },
          "shapedefaults": {
           "line": {
            "color": "#2a3f5f"
           }
          },
          "ternary": {
           "aaxis": {
            "gridcolor": "white",
            "linecolor": "white",
            "ticks": ""
           },
           "baxis": {
            "gridcolor": "white",
            "linecolor": "white",
            "ticks": ""
           },
           "bgcolor": "#E5ECF6",
           "caxis": {
            "gridcolor": "white",
            "linecolor": "white",
            "ticks": ""
           }
          },
          "title": {
           "x": 0.05
          },
          "xaxis": {
           "automargin": true,
           "gridcolor": "white",
           "linecolor": "white",
           "ticks": "",
           "title": {
            "standoff": 15
           },
           "zerolinecolor": "white",
           "zerolinewidth": 2
          },
          "yaxis": {
           "automargin": true,
           "gridcolor": "white",
           "linecolor": "white",
           "ticks": "",
           "title": {
            "standoff": 15
           },
           "zerolinecolor": "white",
           "zerolinewidth": 2
          }
         }
        },
        "title": {
         "text": "Count of Fraudulent Transactions by State Code"
        },
        "width": 1100,
        "xaxis": {
         "anchor": "y",
         "autorange": true,
         "domain": [
          0,
          1
         ],
         "range": [
          -0.5,
          14.5
         ],
         "title": {
          "text": "State Code"
         },
         "type": "category"
        },
        "yaxis": {
         "anchor": "x",
         "autorange": true,
         "domain": [
          0,
          1
         ],
         "range": [
          0,
          2354.7368421052633
         ],
         "title": {
          "text": "count"
         }
        }
       }
      },
      "image/png": "[encoded data removed]",
      "text/html": [
       "<div>                            <div id=\"58c5a732-65d5-45d9-a0d1-512036017458\" class=\"plotly-graph-div\" style=\"height:500px; width:1100px;\"></div>            <script type=\"text/javascript\">                require([\"plotly\"], function(Plotly) {                    window.PLOTLYENV=window.PLOTLYENV || {};                                    if (document.getElementById(\"58c5a732-65d5-45d9-a0d1-512036017458\")) {                    Plotly.newPlot(                        \"58c5a732-65d5-45d9-a0d1-512036017458\",                        [{\"alignmentgroup\":\"True\",\"bingroup\":\"x\",\"hovertemplate\":\"Fraud=Fraud<br>State Code=%{x}<br>count=%{y}<extra></extra>\",\"legendgroup\":\"Fraud\",\"marker\":{\"color\":\"#00cc96\",\"pattern\":{\"shape\":\"\"}},\"name\":\"Fraud\",\"offsetgroup\":\"Fraud\",\"orientation\":\"v\",\"showlegend\":true,\"x\":[\"KA\",\"KA\",\"KA\",\"KA\",\"KA\",\"KA\",\"KA\",\"KA\",\"KA\",\"KA\",\"KA\",\"KA\",\"KA\",\"KA\",\"KA\",\"KA\",\"KA\",\"KA\",\"KA\",\"KA\",\"KA\",\"KA\",\"KA\",\"KA\",\"KA\",\"KA\",\"KA\",\"KA\",\"KA\",\"KA\",\"KA\",\"KA\",\"KA\",\"KA\",\"KA\",\"KA\",\"KA\",\"KA\",\"KA\",\"KA\",\"KA\",\"KA\",\"KA\",\"KA\",\"KA\",\"KA\",\"KA\",\"KA\",\"KA\",\"KA\",\"KA\",\"KA\",\"KA\",\"KA\",\"KA\",\"KA\",\"KA\",\"KA\",\"KA\",\"KA\",\"KA\",\"KA\",\"KA\",\"KA\",\"KA\",\"KA\",\"KA\",\"KA\",\"KA\",\"KA\",\"KA\",\"KA\",\"KA\",\"KA\",\"KA\",\"KA\",\"KA\",\"KA\",\"KA\",\"KA\",\"KA\",\"KA\",\"KA\",\"KA\",\"KA\",\"KA\",\"KA\",\"KA\",\"KA\",\"KA\",\"KA\",\"KA\",\"KA\",\"KA\",\"KA\",\"KA\",\"KA\",\"KA\",\"KA\",\"KA\",\"KA\",\"KA\",\"KA\",\"KA\",\"KA\",\"KA\",\"KA\",\"KA\",\"KA\",\"KA\",\"KA\",\"KA\",\"KA\",\"KA\",\"KA\",\"KA\",\"KA\",\"KA\",\"KA\",\"KA\",\"KA\",\"KA\",\"KA\",\"KA\",\"KA\",\"KA\",\"KA\",\"KA\",\"KA\",\"KA\",\"KA\",\"KA\",\"KA\",\"KA\",\"KA\",\"KA\",\"KA\",\"KA\",\"KA\",\"KA\",\"KA\",\"KA\",\"KA\",\"KA\",\"KA\",\"KA\",\"KA\",\"KA\",\"KA\",\"KA\",\"KA\",\"KA\",\"KA\",\"KA\",\"KA\",\"KA\",\"KA\",\"KA\",\"KA\",\"KA\",\"KA\",\"KA\",\"KA\",\"KA\",\"KA\",\"KA\",\"KA\",\"KA\",\"KA\",\"KA\",\"KA\",\"KA\",\"KA\",\"KA\",\"KA\",\"KA\",\"KA\",\"KA\",\"KA\",\"KA\",\"KA\",\"KA\",\"KA\",\"KA\",\"KA\",\"KA\",\"KA\",\"KA\",\"KA\",\"KA\",\"KA\",\"KA\",\"KA\",\"KA\",\"KA\",\"KA\",\"KA\",\"KA\",\"KA\",\"KA\",\"KA\",\"KA\",\"KA\",\"KA\",\"KA\",\"KA\",\"KA\",\"KA\",\"KA\",\"KA\",\"KA\",\"KA\",\"KA\",\"KA\",\"KA\",\"KA\",\"KA\",\"KA\",\"GA\",\"MH\",\"KA\",\"KA\",\"AP\",\"AP\",\"AP\",\"AP\",\"AP\",\"AP\",\"AP\",\"AP\",\"AP\",\"AP\",\"AP\",\"GA\",\"GA\",\"GA\",\"GA\",\"GA\",\"GA\",\"GA\",\"GA\",\"GA\",\"KA\",\"KA\",\"KA\",\"KA\",\"KA\",\"KA\",\"KA\",\"KA\",\"KA\",\"KA\",\"KA\",\"KA\",\"KA\",\"KA\",\"KA\",\"KA\",\"KA\",\"KA\",\"KA\",\"KA\",\"KA\",\"KA\",\"KA\",\"KA\",\"KA\",\"KA\",\"KA\",\"KA\",\"KA\",\"KA\",\"KA\",\"KA\",\"KA\",\"KA\",\"KA\",\"KA\",\"KA\",\"KA\",\"KA\",\"KA\",\"KA\",\"KA\",\"KA\",\"KA\",\"KA\",\"KA\",\"KA\",\"KA\",\"KA\",\"KA\",\"KA\",\"KA\",\"KA\",\"KA\",\"KA\",\"KA\",\"KA\",\"KA\",\"KA\",\"KA\",\"KA\",\"MH\",\"MH\",\"MH\",\"MH\",\"MH\",\"MH\",\"MH\",\"MH\",\"MH\",\"AP\",\"AP\",\"GA\",\"MH\",\"MH\",\"AP\",\"MH\",\"AP\",\"GA\",\"MH\",\"AP\",\"AP\",\"GA\",\"MH\",\"AP\",\"GA\",\"GA\",\"AP\",\"MH\",\"MH\",\"MH\",\"GA\",\"MH\",\"MH\",\"MH\",\"GA\",\"MH\",\"GA\",\"MH\",\"MH\",\"AP\",\"MH\",\"GA\",\"GA\",\"MH\",\"KA\",\"KA\",\"KA\",\"KA\",\"KA\",\"KA\",\"KA\",\"KA\",\"KA\",\"KA\",\"KA\",\"KA\",\"KA\",\"KA\",\"KA\",\"KA\",\"GA\",\"MH\",\"MH\",\"GA\",\"MH\",\"AP\",\"GA\",\"AP\",\"GA\",\"MH\",\"MH\",\"GA\",\"MH\",\"AP\",\"GA\",\"MH\",\"AP\",\"AP\",\"MH\",\"GA\",\"MH\",\"MH\",\"MH\",\"AP\",\"GA\",\"AP\",\"MH\",\"AP\",\"GA\",\"MH\",\"AP\",\"AP\",\"GA\",\"MH\",\"GA\",\"GA\",\"MH\",\"MH\",\"MH\",\"AP\",\"MH\",\"GA\",\"GA\",\"AP\",\"GA\",\"AP\",\"AP\",\"KA\",\"KA\",\"KA\",\"KA\",\"KA\",\"KA\",\"KA\",\"KA\",\"KA\",\"KA\",\"KA\",\"KA\",\"KA\",\"KA\",\"KA\",\"KA\",\"KA\",\"KA\",\"KA\",\"KA\",\"KA\",\"KA\",\"KA\",\"KA\",\"KA\",\"KA\",\"KA\",\"KA\",\"KA\",\"KA\",\"KA\",\"KA\",\"KA\",\"KA\",\"KA\",\"KA\",\"KA\",\"KA\",\"KA\",\"KA\",\"KA\",\"KA\",\"KA\",\"KA\",\"KA\",\"KA\",\"KA\",\"KA\",\"KA\",\"KA\",\"KA\",\"KA\",\"KA\",\"KA\",\"KA\",\"KA\",\"KA\",\"KA\",\"KA\",\"KA\",\"KA\",\"KA\",\"KA\",\"KA\",\"KA\",\"KA\",\"KA\",\"KA\",\"KA\",\"KA\",\"KA\",\"KA\",\"KA\",\"KA\",\"KA\",\"KA\",\"KA\",\"KA\",\"KA\",\"KA\",\"KA\",\"KA\",\"KA\",\"KA\",\"KA\",\"KA\",\"KA\",\"KA\",\"KA\",\"KA\",\"KA\",\"KA\",\"KA\",\"KA\",\"KA\",\"KA\",\"KA\",\"KA\",\"KA\",\"KA\",\"KA\",\"KA\",\"KA\",\"KA\",\"KA\",\"KA\",\"KA\",\"KA\",\"KA\",\"KA\",\"KA\",\"KA\",\"KA\",\"KA\",\"KA\",\"KA\",\"KA\",\"KA\",\"KA\",\"KA\",\"KA\",\"KA\",\"KA\",\"KA\",\"KA\",\"KA\",\"KA\",\"KA\",\"KA\",\"KA\",\"KA\",\"KA\",\"KA\",\"KA\",\"KA\",\"KA\",\"KA\",\"KA\",\"KA\",\"KA\",\"KA\",\"KA\",\"KA\",\"KA\",\"KA\",\"KA\",\"KA\",\"KA\",\"MH\",\"AP\",\"GA\",\"GA\",\"MH\",\"AP\",\"GA\",\"AP\",\"MH\",\"AP\",\"MH\",\"MH\",\"MH\",\"MH\",\"AP\",\"AP\",\"AP\",\"GA\",\"MH\",\"GA\",\"GA\",\"GA\",\"MH\",\"AP\",\"MH\",\"GA\",\"GA\",\"AP\",\"GA\",\"AP\",\"MH\",\"MH\",\"GA\",\"MH\",\"AP\",\"MH\",\"GA\",\"MH\",\"AP\",\"GA\",\"GA\",\"AP\",\"MH\",\"MH\",\"GA\",\"MH\",\"AP\",\"MH\",\"GA\",\"GA\",\"GA\",\"MH\",\"MH\",\"GA\",\"MH\",\"AP\",\"GA\",\"AP\",\"GA\",\"AP\",\"AP\",\"AP\",\"GA\",\"MH\",\"KA\",\"KA\",\"KA\",\"KA\",\"KA\",\"KA\",\"KA\",\"KA\",\"KA\",\"KA\",\"KA\",\"KA\",\"KA\",\"KA\",\"KA\",\"KA\",\"KA\",\"KA\",\"KA\",\"KA\",\"KA\",\"KA\",\"KA\",\"KA\",\"KA\",\"KA\",\"KA\",\"KA\",\"KA\",\"KA\",\"KA\",\"KA\",\"KA\",\"KA\",\"KA\",\"KA\",\"KA\",\"KA\",\"KA\",\"KA\",\"KA\",\"KA\",\"KA\",\"KA\",\"KA\",\"KA\",\"KA\",\"KA\",\"KA\",\"KA\",\"KA\",\"KA\",\"KA\",\"KA\",\"KA\",\"KA\",\"KA\",\"KA\",\"KA\",\"KA\",\"KA\",\"KA\",\"KA\",\"KA\",\"KA\",\"KA\",\"KA\",\"KA\",\"KA\",\"KA\",\"KA\",\"KA\",\"KA\",\"KA\",\"KA\",\"KA\",\"KA\",\"KA\",\"KA\",\"KA\",\"KA\",\"KA\",\"KL\",\"KL\",\"KL\",\"KL\",\"KL\",\"KL\",\"KL\",\"KA\",\"KL\",\"KL\",\"KL\",\"KA\",\"KL\",\"KL\",\"GJ\",\"GJ\",\"GJ\",\"GJ\",\"GJ\",\"GJ\",\"GJ\",\"GJ\",\"GJ\",\"GJ\",\"GJ\",\"GJ\",\"KA\",\"KA\",\"KA\",\"KA\",\"KA\",\"MH\",\"KA\",\"KA\",\"KA\",\"KA\",\"KA\",\"KA\",\"KA\",\"KA\",\"KA\",\"KA\",\"KA\",\"KA\",\"KA\",\"KA\",\"KA\",\"KA\",\"KA\",\"KA\",\"KA\",\"KA\",\"KA\",\"KA\",\"KA\",\"KA\",\"KA\",\"KA\",\"KA\",\"KA\",\"KA\",\"KA\",\"MH\",\"KA\",\"KA\",\"MH\",\"KA\",\"KA\",\"MH\",\"KA\",\"KA\",\"KA\",\"KA\",\"KA\",\"KA\",\"KA\",\"KA\",\"KA\",\"KA\",\"KA\",\"KA\",\"KA\",\"KA\",\"KA\",\"KA\",\"KA\",\"KA\",\"MH\",\"MH\",\"KA\",\"MH\",\"MH\",\"KA\",\"MH\",\"AP\",\"AP\",\"AP\",\"AP\",\"AP\",\"TN\",\"TN\",\"TN\",\"TN\",\"TN\",\"TN\",\"TN\",\"TN\",\"TN\",\"TN\",\"TN\",\"TN\",\"TN\",\"TN\",\"TN\",\"GA\",\"GA\",\"GA\",\"GA\",\"GA\",\"GA\",\"GA\",\"GA\",\"GA\",\"GA\",\"GA\",\"GA\",\"GA\",\"GA\",\"GA\",\"GA\",\"GA\",\"GA\",\"GA\",\"KA\",\"KA\",\"KA\",\"KA\",\"KA\",\"KA\",\"KA\",\"KA\",\"KA\",\"KA\",\"KA\",\"KA\",\"KA\",\"KA\",\"KA\",\"KA\",\"MH\",\"KA\",\"MH\",\"MH\",\"MH\",\"DL\",\"DL\",\"DL\",\"DL\",\"DL\",\"DL\",\"DL\",\"DL\",\"DL\",\"DL\",\"DL\",\"KA\",\"KA\",\"KA\",\"KA\",\"KA\",\"KA\",\"KA\",\"GA\",\"GA\",\"GA\",\"GA\",\"GA\",\"GA\",\"GA\",\"GA\",\"GA\",\"GA\",\"GA\",\"GA\",\"GA\",\"GA\",\"GA\",\"GJ\",\"TN\",\"KA\",\"TS\",\"UP\",\"AP\",\"RJ\",\"WB\",\"HR\",\"TS\",\"GJ\",\"HR\",\"BR\",\"HR\",\"TS\",\"RJ\",\"DL\",\"BR\",\"HR\",\"TS\",\"UP\",\"KA\",\"RJ\",\"MP\",\"BR\",\"TS\",\"RJ\",\"BR\",\"KL\",\"HR\",\"BR\",\"RJ\",\"GJ\",\"TN\",\"MP\",\"BR\",\"TN\",\"AP\",\"RJ\",\"UP\",\"KA\",\"AP\",\"TS\",\"KA\",\"KA\",\"KA\",\"KA\",\"KA\",\"KA\",\"KA\",\"UP\",\"WB\",\"TS\",\"GA\",\"GA\",\"TN\",\"TN\",\"TN\",\"TN\",\"TN\",\"TN\",\"TN\",\"TN\",\"TN\",\"TN\",\"TN\",\"TN\",\"TN\",\"KL\",\"TS\",\"GJ\",\"MH\",\"MH\",\"MH\",\"MH\",\"MH\",\"MH\",\"MH\",\"MH\",\"MH\",\"MH\",\"MH\",\"RJ\",\"MH\",\"AP\",\"AP\",\"AP\",\"AP\",\"AP\",\"AP\",\"AP\",\"KA\"],\"xaxis\":\"x\",\"yaxis\":\"y\",\"type\":\"histogram\"},{\"alignmentgroup\":\"True\",\"bingroup\":\"x\",\"hovertemplate\":\"Fraud=Not Fraud<br>State Code=%{x}<br>count=%{y}<extra></extra>\",\"legendgroup\":\"Not Fraud\",\"marker\":{\"color\":\"#ab63fa\",\"pattern\":{\"shape\":\"\"}},\"name\":\"Not Fraud\",\"offsetgroup\":\"Not Fraud\",\"orientation\":\"v\",\"showlegend\":true,\"x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xaxis\":\"x\",\"yaxis\":\"y\",\"type\":\"histogram\"}],                        {\"template\":{\"data\":{\"histogram2dcontour\":[{\"type\":\"histogram2dcontour\",\"colorbar\":{\"outlinewidth\":0,\"ticks\":\"\"},\"colorscale\":[[0.0,\"#0d0887\"],[0.1111111111111111,\"#46039f\"],[0.2222222222222222,\"#7201a8\"],[0.3333333333333333,\"#9c179e\"],[0.4444444444444444,\"#bd3786\"],[0.5555555555555556,\"#d8576b\"],[0.6666666666666666,\"#ed7953\"],[0.7777777777777778,\"#fb9f3a\"],[0.8888888888888888,\"#fdca26\"],[1.0,\"#f0f921\"]]}],\"choropleth\":[{\"type\":\"choropleth\",\"colorbar\":{\"outlinewidth\":0,\"ticks\":\"\"}}],\"histogram2d\":[{\"type\":\"histogram2d\",\"colorbar\":{\"outlinewidth\":0,\"ticks\":\"\"},\"colorscale\":[[0.0,\"#0d0887\"],[0.1111111111111111,\"#46039f\"],[0.2222222222222222,\"#7201a8\"],[0.3333333333333333,\"#9c179e\"],[0.4444444444444444,\"#bd3786\"],[0.5555555555555556,\"#d8576b\"],[0.6666666666666666,\"#ed7953\"],[0.7777777777777778,\"#fb9f3a\"],[0.8888888888888888,\"#fdca26\"],[1.0,\"#f0f921\"]]}],\"heatmap\":[{\"type\":\"heatmap\",\"colorbar\":{\"outlinewidth\":0,\"ticks\":\"\"},\"colorscale\":[[0.0,\"#0d0887\"],[0.1111111111111111,\"#46039f\"],[0.2222222222222222,\"#7201a8\"],[0.3333333333333333,\"#9c179e\"],[0.4444444444444444,\"#bd3786\"],[0.5555555555555556,\"#d8576b\"],[0.6666666666666666,\"#ed7953\"],[0.7777777777777778,\"#fb9f3a\"],[0.8888888888888888,\"#fdca26\"],[1.0,\"#f0f921\"]]}],\"heatmapgl\":[{\"type\":\"heatmapgl\",\"colorbar\":{\"outlinewidth\":0,\"ticks\":\"\"},\"colorscale\":[[0.0,\"#0d0887\"],[0.1111111111111111,\"#46039f\"],[0.2222222222222222,\"#7201a8\"],[0.3333333333333333,\"#9c179e\"],[0.4444444444444444,\"#bd3786\"],[0.5555555555555556,\"#d8576b\"],[0.6666666666666666,\"#ed7953\"],[0.7777777777777778,\"#fb9f3a\"],[0.8888888888888888,\"#fdca26\"],[1.0,\"#f0f921\"]]}],\"contourcarpet\":[{\"type\":\"contourcarpet\",\"colorbar\":{\"outlinewidth\":0,\"ticks\":\"\"}}],\"contour\":[{\"type\":\"contour\",\"colorbar\":{\"outlinewidth\":0,\"ticks\":\"\"},\"colorscale\":[[0.0,\"#0d0887\"],[0.1111111111111111,\"#46039f\"],[0.2222222222222222,\"#7201a8\"],[0.3333333333333333,\"#9c179e\"],[0.4444444444444444,\"#bd3786\"],[0.5555555555555556,\"#d8576b\"],[0.6666666666666666,\"#ed7953\"],[0.7777777777777778,\"#fb9f3a\"],[0.8888888888888888,\"#fdca26\"],[1.0,\"#f0f921\"]]}],\"surface\":[{\"type\":\"surface\",\"colorbar\":{\"outlinewidth\":0,\"ticks\":\"\"},\"colorscale\":[[0.0,\"#0d0887\"],[0.1111111111111111,\"#46039f\"],[0.2222222222222222,\"#7201a8\"],[0.3333333333333333,\"#9c179e\"],[0.4444444444444444,\"#bd3786\"],[0.5555555555555556,\"#d8576b\"],[0.6666666666666666,\"#ed7953\"],[0.7777777777777778,\"#fb9f3a\"],[0.8888888888888888,\"#fdca26\"],[1.0,\"#f0f921\"]]}],\"mesh3d\":[{\"type\":\"mesh3d\",\"colorbar\":{\"outlinewidth\":0,\"ticks\":\"\"}}],\"scatter\":[{\"fillpattern\":{\"fillmode\":\"overlay\",\"size\":10,\"solidity\":0.2},\"type\":\"scatter\"}],\"parcoords\":[{\"type\":\"parcoords\",\"line\":{\"colorbar\":{\"outlinewidth\":0,\"ticks\":\"\"}}}],\"scatterpolargl\":[{\"type\":\"scatterpolargl\",\"marker\":{\"colorbar\":{\"outlinewidth\":0,\"ticks\":\"\"}}}],\"bar\":[{\"error_x\":{\"color\":\"#2a3f5f\"},\"error_y\":{\"color\":\"#2a3f5f\"},\"marker\":{\"line\":{\"color\":\"#E5ECF6\",\"width\":0.5},\"pattern\":{\"fillmode\":\"overlay\",\"size\":10,\"solidity\":0.2}},\"type\":\"bar\"}],\"scattergeo\":[{\"type\":\"scattergeo\",\"marker\":{\"colorbar\":{\"outlinewidth\":0,\"ticks\":\"\"}}}],\"scatterpolar\":[{\"type\":\"scatterpolar\",\"marker\":{\"colorbar\":{\"outlinewidth\":0,\"ticks\":\"\"}}}],\"histogram\":[{\"marker\":{\"pattern\":{\"fillmode\":\"overlay\",\"size\":10,\"solidity\":0.2}},\"type\":\"histogram\"}],\"scattergl\":[{\"type\":\"scattergl\",\"marker\":{\"colorbar\":{\"outlinewidth\":0,\"ticks\":\"\"}}}],\"scatter3d\":[{\"type\":\"scatter3d\",\"line\":{\"colorbar\":{\"outlinewidth\":0,\"ticks\":\"\"}},\"marker\":{\"colorbar\":{\"outlinewidth\":0,\"ticks\":\"\"}}}],\"scattermapbox\":[{\"type\":\"scattermapbox\",\"marker\":{\"colorbar\":{\"outlinewidth\":0,\"ticks\":\"\"}}}],\"scatterternary\":[{\"type\":\"scatterternary\",\"marker\":{\"colorbar\":{\"outlinewidth\":0,\"ticks\":\"\"}}}],\"scattercarpet\":[{\"type\":\"scattercarpet\",\"marker\":{\"colorbar\":{\"outlinewidth\":0,\"ticks\":\"\"}}}],\"carpet\":[{\"aaxis\":{\"endlinecolor\":\"#2a3f5f\",\"gridcolor\":\"white\",\"linecolor\":\"white\",\"minorgridcolor\":\"white\",\"startlinecolor\":\"#2a3f5f\"},\"baxis\":{\"endlinecolor\":\"#2a3f5f\",\"gridcolor\":\"white\",\"linecolor\":\"white\",\"minorgridcolor\":\"white\",\"startlinecolor\":\"#2a3f5f\"},\"type\":\"carpet\"}],\"table\":[{\"cells\":{\"fill\":{\"color\":\"#EBF0F8\"},\"line\":{\"color\":\"white\"}},\"header\":{\"fill\":{\"color\":\"#C8D4E3\"},\"line\":{\"color\":\"white\"}},\"type\":\"table\"}],\"barpolar\":[{\"marker\":{\"line\":{\"color\":\"#E5ECF6\",\"width\":0.5},\"pattern\":{\"fillmode\":\"overlay\",\"size\":10,\"solidity\":0.2}},\"type\":\"barpolar\"}],\"pie\":[{\"automargin\":true,\"type\":\"pie\"}]},\"layout\":{\"autotypenumbers\":\"strict\",\"colorway\":[\"#636efa\",\"#EF553B\",\"#00cc96\",\"#ab63fa\",\"#FFA15A\",\"#19d3f3\",\"#FF6692\",\"#B6E880\",\"#FF97FF\",\"#FECB52\"],\"font\":{\"color\":\"#2a3f5f\"},\"hovermode\":\"closest\",\"hoverlabel\":{\"align\":\"left\"},\"paper_bgcolor\":\"white\",\"plot_bgcolor\":\"#E5ECF6\",\"polar\":{\"bgcolor\":\"#E5ECF6\",\"angularaxis\":{\"gridcolor\":\"white\",\"linecolor\":\"white\",\"ticks\":\"\"},\"radialaxis\":{\"gridcolor\":\"white\",\"linecolor\":\"white\",\"ticks\":\"\"}},\"ternary\":{\"bgcolor\":\"#E5ECF6\",\"aaxis\":{\"gridcolor\":\"white\",\"linecolor\":\"white\",\"ticks\":\"\"},\"baxis\":{\"gridcolor\":\"white\",\"linecolor\":\"white\",\"ticks\":\"\"},\"caxis\":{\"gridcolor\":\"white\",\"linecolor\":\"white\",\"ticks\":\"\"}},\"coloraxis\":{\"colorbar\":{\"outlinewidth\":0,\"ticks\":\"\"}},\"colorscale\":{\"sequential\":[[0.0,\"#0d0887\"],[0.1111111111111111,\"#46039f\"],[0.2222222222222222,\"#7201a8\"],[0.3333333333333333,\"#9c179e\"],[0.4444444444444444,\"#bd3786\"],[0.5555555555555556,\"#d8576b\"],[0.6666666666666666,\"#ed7953\"],[0.7777777777777778,\"#fb9f3a\"],[0.8888888888888888,\"#fdca26\"],[1.0,\"#f0f921\"]],\"sequentialminus\":[[0.0,\"#0d0887\"],[0.1111111111111111,\"#46039f\"],[0.2222222222222222,\"#7201a8\"],[0.3333333333333333,\"#9c179e\"],[0.4444444444444444,\"#bd3786\"],[0.5555555555555556,\"#d8576b\"],[0.6666666666666666,\"#ed7953\"],[0.7777777777777778,\"#fb9f3a\"],[0.8888888888888888,\"#fdca26\"],[1.0,\"#f0f921\"]],\"diverging\":[[0,\"#8e0152\"],[0.1,\"#c51b7d\"],[0.2,\"#de77ae\"],[0.3,\"#f1b6da\"],[0.4,\"#fde0ef\"],[0.5,\"#f7f7f7\"],[0.6,\"#e6f5d0\"],[0.7,\"#b8e186\"],[0.8,\"#7fbc41\"],[0.9,\"#4d9221\"],[1,\"#276419\"]]},\"xaxis\":{\"gridcolor\":\"white\",\"linecolor\":\"white\",\"ticks\":\"\",\"title\":{\"standoff\":15},\"zerolinecolor\":\"white\",\"automargin\":true,\"zerolinewidth\":2},\"yaxis\":{\"gridcolor\":\"white\",\"linecolor\":\"white\",\"ticks\":\"\",\"title\":{\"standoff\":15},\"zerolinecolor\":\"white\",\"automargin\":true,\"zerolinewidth\":2},\"scene\":{\"xaxis\":{\"backgroundcolor\":\"#E5ECF6\",\"gridcolor\":\"white\",\"linecolor\":\"white\",\"showbackground\":true,\"ticks\":\"\",\"zerolinecolor\":\"white\",\"gridwidth\":2},\"yaxis\":{\"backgroundcolor\":\"#E5ECF6\",\"gridcolor\":\"white\",\"linecolor\":\"white\",\"showbackground\":true,\"ticks\":\"\",\"zerolinecolor\":\"white\",\"gridwidth\":2},\"zaxis\":{\"backgroundcolor\":\"#E5ECF6\",\"gridcolor\":\"white\",\"linecolor\":\"white\",\"showbackground\":true,\"ticks\":\"\",\"zerolinecolor\":\"white\",\"gridwidth\":2}},\"shapedefaults\":{\"line\":{\"color\":\"#2a3f5f\"}},\"annotationdefaults\":{\"arrowcolor\":\"#2a3f5f\",\"arrowhead\":0,\"arrowwidth\":1},\"geo\":{\"bgcolor\":\"white\",\"landcolor\":\"#E5ECF6\",\"subunitcolor\":\"white\",\"showland\":true,\"showlakes\":true,\"lakecolor\":\"white\"},\"title\":{\"x\":0.05},\"mapbox\":{\"style\":\"light\"}}},\"xaxis\":{\"anchor\":\"y\",\"domain\":[0.0,1.0],\"title\":{\"text\":\"State Code\"}},\"yaxis\":{\"anchor\":\"x\",\"domain\":[0.0,1.0],\"title\":{\"text\":\"count\"}},\"legend\":{\"title\":{\"text\":\"Fraud\"},\"tracegroupgap\":0},\"title\":{\"text\":\"Count of Fraudulent Transactions by State Code\"},\"barmode\":\"group\",\"showlegend\":true,\"width\":1100,\"height\":500},                        {\"responsive\": true}                    ).then(function(){\n",
       "                            \n",
       "var gd = document.getElementById('58c5a732-65d5-45d9-a0d1-512036017458');\n",
       "var x = new MutationObserver(function (mutations, observer) {{\n",
       "        var display = window.getComputedStyle(gd).display;\n",
       "        if (!display || display === 'none') {{\n",
       "            console.log([gd, 'removed!']);\n",
       "            Plotly.purge(gd);\n",
       "            observer.disconnect();\n",
       "        }}\n",
       "}});\n",
       "\n",
       "// Listen for the removal of the full notebook cells\n",
       "var notebookContainer = gd.closest('#notebook-container');\n",
       "if (notebookContainer) {{\n",
       "    x.observe(notebookContainer, {childList: true});\n",
       "}}\n",
       "\n",
       "// Listen for the clearing of the current output cell\n",
       "var outputEl = gd.closest('.output');\n",
       "if (outputEl) {{\n",
       "    x.observe(outputEl, {childList: true});\n",
       "}}\n",
       "\n",
       "                        })                };                });            </script>        </div>"
      ]
     },
     "metadata": {},
     "output_type": "display_data"
    }
   ],
   "source": [
    "fig = px.histogram(eda_df, x='State_code', color='Fraud_indicator', barmode='group',\n",
    "                   title='Count of Fraudulent Transactions by State Code',\n",
    "                   labels={'State_code': 'State Code', 'Fraud_indicator': 'Fraud', 'count': 'Count of Transactions'},\n",
    "                   color_discrete_map={'0': 'blue', '1': 'red'})\n",
    "fig.update_layout(showlegend=True, \n",
    "                  width=1100,  \n",
    "                  height=500)\n",
    "fig.show()"
   ]
  },
  {
   "cell_type": "code",
   "execution_count": 66,
   "id": "96b153e3-72c4-43c4-887e-833e7f796b43",
   "metadata": {},
   "outputs": [
    {
     "data": {
      "application/vnd.plotly.v1+json": {
       "config": {
        "plotlyServerURL": "https://plot.ly"
       },
       "data": [
        {
         "alignmentgroup": "True",
         "hovertemplate": "Vehicle_Type=Motorcycle<br>Count of Fraudulent Transactions=%{x}<br>Toll Booth ID=%{y}<extra></extra>",
         "legendgroup": "Motorcycle",
         "marker": {
          "color": "#FF6692",
          "pattern": {
           "shape": ""
          }
         },
         "name": "Motorcycle",
         "offsetgroup": "Motorcycle",
         "orientation": "h",
         "showlegend": true,
         "textposition": "inside",
         "texttemplate": "%{x}",
         "type": "bar",
         "x": [
          0,
          0,
          0
         ],
         "xaxis": "x",
         "y": [
          "D-104",
          "D-105",
          "D-106"
         ],
         "yaxis": "y"
        },
        {
         "alignmentgroup": "True",
         "hovertemplate": "Vehicle_Type=Car<br>Count of Fraudulent Transactions=%{x}<br>Toll Booth ID=%{y}<extra></extra>",
         "legendgroup": "Car",
         "marker": {
          "color": "#EF553B",
          "pattern": {
           "shape": ""
          }
         },
         "name": "Car",
         "offsetgroup": "Car",
         "orientation": "h",
         "showlegend": true,
         "textposition": "inside",
         "texttemplate": "%{x}",
         "type": "bar",
         "x": [
          120,
          2
         ],
         "xaxis": "x",
         "y": [
          "A-101",
          "B-102"
         ],
         "yaxis": "y"
        },
        {
         "alignmentgroup": "True",
         "hovertemplate": "Vehicle_Type=Truck<br>Count of Fraudulent Transactions=%{x}<br>Toll Booth ID=%{y}<extra></extra>",
         "legendgroup": "Truck",
         "marker": {
          "color": "#19d3f3",
          "pattern": {
           "shape": ""
          }
         },
         "name": "Truck",
         "offsetgroup": "Truck",
         "orientation": "h",
         "showlegend": true,
         "textposition": "inside",
         "texttemplate": "%{x}",
         "type": "bar",
         "x": [
          158
         ],
         "xaxis": "x",
         "y": [
          "C-103"
         ],
         "yaxis": "y"
        },
        {
         "alignmentgroup": "True",
         "hovertemplate": "Vehicle_Type=Sedan<br>Count of Fraudulent Transactions=%{x}<br>Toll Booth ID=%{y}<extra></extra>",
         "legendgroup": "Sedan",
         "marker": {
          "color": "#00cc96",
          "pattern": {
           "shape": ""
          }
         },
         "name": "Sedan",
         "offsetgroup": "Sedan",
         "orientation": "h",
         "showlegend": true,
         "textposition": "inside",
         "texttemplate": "%{x}",
         "type": "bar",
         "x": [
          161
         ],
         "xaxis": "x",
         "y": [
          "A-101"
         ],
         "yaxis": "y"
        },
        {
         "alignmentgroup": "True",
         "hovertemplate": "Vehicle_Type=Bus <br>Count of Fraudulent Transactions=%{x}<br>Toll Booth ID=%{y}<extra></extra>",
         "legendgroup": "Bus ",
         "marker": {
          "color": "#636efa",
          "pattern": {
           "shape": ""
          }
         },
         "name": "Bus ",
         "offsetgroup": "Bus ",
         "orientation": "h",
         "showlegend": true,
         "textposition": "inside",
         "texttemplate": "%{x}",
         "type": "bar",
         "x": [
          2,
          175
         ],
         "xaxis": "x",
         "y": [
          "A-101",
          "C-103"
         ],
         "yaxis": "y"
        },
        {
         "alignmentgroup": "True",
         "hovertemplate": "Vehicle_Type=Van<br>Count of Fraudulent Transactions=%{x}<br>Toll Booth ID=%{y}<extra></extra>",
         "legendgroup": "Van",
         "marker": {
          "color": "#FFA15A",
          "pattern": {
           "shape": ""
          }
         },
         "name": "Van",
         "offsetgroup": "Van",
         "orientation": "h",
         "showlegend": true,
         "textposition": "inside",
         "texttemplate": "%{x}",
         "type": "bar",
         "x": [
          181
         ],
         "xaxis": "x",
         "y": [
          "B-102"
         ],
         "yaxis": "y"
        },
        {
         "alignmentgroup": "True",
         "hovertemplate": "Vehicle_Type=SUV<br>Count of Fraudulent Transactions=%{x}<br>Toll Booth ID=%{y}<extra></extra>",
         "legendgroup": "SUV",
         "marker": {
          "color": "#ab63fa",
          "pattern": {
           "shape": ""
          }
         },
         "name": "SUV",
         "offsetgroup": "SUV",
         "orientation": "h",
         "showlegend": true,
         "textposition": "inside",
         "texttemplate": "%{x}",
         "type": "bar",
         "x": [
          184
         ],
         "xaxis": "x",
         "y": [
          "B-102"
         ],
         "yaxis": "y"
        }
       ],
       "layout": {
        "barmode": "relative",
        "height": 500,
        "legend": {
         "title": {
          "text": "Vehicle_Type"
         },
         "tracegroupgap": 0
        },
        "template": {
         "data": {
          "bar": [
           {
            "error_x": {
             "color": "#2a3f5f"
            },
            "error_y": {
             "color": "#2a3f5f"
            },
            "marker": {
             "line": {
              "color": "#E5ECF6",
              "width": 0.5
             },
             "pattern": {
              "fillmode": "overlay",
              "size": 10,
              "solidity": 0.2
             }
            },
            "type": "bar"
           }
          ],
          "barpolar": [
           {
            "marker": {
             "line": {
              "color": "#E5ECF6",
              "width": 0.5
             },
             "pattern": {
              "fillmode": "overlay",
              "size": 10,
              "solidity": 0.2
             }
            },
            "type": "barpolar"
           }
          ],
          "carpet": [
           {
            "aaxis": {
             "endlinecolor": "#2a3f5f",
             "gridcolor": "white",
             "linecolor": "white",
             "minorgridcolor": "white",
             "startlinecolor": "#2a3f5f"
            },
            "baxis": {
             "endlinecolor": "#2a3f5f",
             "gridcolor": "white",
             "linecolor": "white",
             "minorgridcolor": "white",
             "startlinecolor": "#2a3f5f"
            },
            "type": "carpet"
           }
          ],
          "choropleth": [
           {
            "colorbar": {
             "outlinewidth": 0,
             "ticks": ""
            },
            "type": "choropleth"
           }
          ],
          "contour": [
           {
            "colorbar": {
             "outlinewidth": 0,
             "ticks": ""
            },
            "colorscale": [
             [
              0,
              "#0d0887"
             ],
             [
              0.1111111111111111,
              "#46039f"
             ],
             [
              0.2222222222222222,
              "#7201a8"
             ],
             [
              0.3333333333333333,
              "#9c179e"
             ],
             [
              0.4444444444444444,
              "#bd3786"
             ],
             [
              0.5555555555555556,
              "#d8576b"
             ],
             [
              0.6666666666666666,
              "#ed7953"
             ],
             [
              0.7777777777777778,
              "#fb9f3a"
             ],
             [
              0.8888888888888888,
              "#fdca26"
             ],
             [
              1,
              "#f0f921"
             ]
            ],
            "type": "contour"
           }
          ],
          "contourcarpet": [
           {
            "colorbar": {
             "outlinewidth": 0,
             "ticks": ""
            },
            "type": "contourcarpet"
           }
          ],
          "heatmap": [
           {
            "colorbar": {
             "outlinewidth": 0,
             "ticks": ""
            },
            "colorscale": [
             [
              0,
              "#0d0887"
             ],
             [
              0.1111111111111111,
              "#46039f"
             ],
             [
              0.2222222222222222,
              "#7201a8"
             ],
             [
              0.3333333333333333,
              "#9c179e"
             ],
             [
              0.4444444444444444,
              "#bd3786"
             ],
             [
              0.5555555555555556,
              "#d8576b"
             ],
             [
              0.6666666666666666,
              "#ed7953"
             ],
             [
              0.7777777777777778,
              "#fb9f3a"
             ],
             [
              0.8888888888888888,
              "#fdca26"
             ],
             [
              1,
              "#f0f921"
             ]
            ],
            "type": "heatmap"
           }
          ],
          "heatmapgl": [
           {
            "colorbar": {
             "outlinewidth": 0,
             "ticks": ""
            },
            "colorscale": [
             [
              0,
              "#0d0887"
             ],
             [
              0.1111111111111111,
              "#46039f"
             ],
             [
              0.2222222222222222,
              "#7201a8"
             ],
             [
              0.3333333333333333,
              "#9c179e"
             ],
             [
              0.4444444444444444,
              "#bd3786"
             ],
             [
              0.5555555555555556,
              "#d8576b"
             ],
             [
              0.6666666666666666,
              "#ed7953"
             ],
             [
              0.7777777777777778,
              "#fb9f3a"
             ],
             [
              0.8888888888888888,
              "#fdca26"
             ],
             [
              1,
              "#f0f921"
             ]
            ],
            "type": "heatmapgl"
           }
          ],
          "histogram": [
           {
            "marker": {
             "pattern": {
              "fillmode": "overlay",
              "size": 10,
              "solidity": 0.2
             }
            },
            "type": "histogram"
           }
          ],
          "histogram2d": [
           {
            "colorbar": {
             "outlinewidth": 0,
             "ticks": ""
            },
            "colorscale": [
             [
              0,
              "#0d0887"
             ],
             [
              0.1111111111111111,
              "#46039f"
             ],
             [
              0.2222222222222222,
              "#7201a8"
             ],
             [
              0.3333333333333333,
              "#9c179e"
             ],
             [
              0.4444444444444444,
              "#bd3786"
             ],
             [
              0.5555555555555556,
              "#d8576b"
             ],
             [
              0.6666666666666666,
              "#ed7953"
             ],
             [
              0.7777777777777778,
              "#fb9f3a"
             ],
             [
              0.8888888888888888,
              "#fdca26"
             ],
             [
              1,
              "#f0f921"
             ]
            ],
            "type": "histogram2d"
           }
          ],
          "histogram2dcontour": [
           {
            "colorbar": {
             "outlinewidth": 0,
             "ticks": ""
            },
            "colorscale": [
             [
              0,
              "#0d0887"
             ],
             [
              0.1111111111111111,
              "#46039f"
             ],
             [
              0.2222222222222222,
              "#7201a8"
             ],
             [
              0.3333333333333333,
              "#9c179e"
             ],
             [
              0.4444444444444444,
              "#bd3786"
             ],
             [
              0.5555555555555556,
              "#d8576b"
             ],
             [
              0.6666666666666666,
              "#ed7953"
             ],
             [
              0.7777777777777778,
              "#fb9f3a"
             ],
             [
              0.8888888888888888,
              "#fdca26"
             ],
             [
              1,
              "#f0f921"
             ]
            ],
            "type": "histogram2dcontour"
           }
          ],
          "mesh3d": [
           {
            "colorbar": {
             "outlinewidth": 0,
             "ticks": ""
            },
            "type": "mesh3d"
           }
          ],
          "parcoords": [
           {
            "line": {
             "colorbar": {
              "outlinewidth": 0,
              "ticks": ""
             }
            },
            "type": "parcoords"
           }
          ],
          "pie": [
           {
            "automargin": true,
            "type": "pie"
           }
          ],
          "scatter": [
           {
            "fillpattern": {
             "fillmode": "overlay",
             "size": 10,
             "solidity": 0.2
            },
            "type": "scatter"
           }
          ],
          "scatter3d": [
           {
            "line": {
             "colorbar": {
              "outlinewidth": 0,
              "ticks": ""
             }
            },
            "marker": {
             "colorbar": {
              "outlinewidth": 0,
              "ticks": ""
             }
            },
            "type": "scatter3d"
           }
          ],
          "scattercarpet": [
           {
            "marker": {
             "colorbar": {
              "outlinewidth": 0,
              "ticks": ""
             }
            },
            "type": "scattercarpet"
           }
          ],
          "scattergeo": [
           {
            "marker": {
             "colorbar": {
              "outlinewidth": 0,
              "ticks": ""
             }
            },
            "type": "scattergeo"
           }
          ],
          "scattergl": [
           {
            "marker": {
             "colorbar": {
              "outlinewidth": 0,
              "ticks": ""
             }
            },
            "type": "scattergl"
           }
          ],
          "scattermapbox": [
           {
            "marker": {
             "colorbar": {
              "outlinewidth": 0,
              "ticks": ""
             }
            },
            "type": "scattermapbox"
           }
          ],
          "scatterpolar": [
           {
            "marker": {
             "colorbar": {
              "outlinewidth": 0,
              "ticks": ""
             }
            },
            "type": "scatterpolar"
           }
          ],
          "scatterpolargl": [
           {
            "marker": {
             "colorbar": {
              "outlinewidth": 0,
              "ticks": ""
             }
            },
            "type": "scatterpolargl"
           }
          ],
          "scatterternary": [
           {
            "marker": {
             "colorbar": {
              "outlinewidth": 0,
              "ticks": ""
             }
            },
            "type": "scatterternary"
           }
          ],
          "surface": [
           {
            "colorbar": {
             "outlinewidth": 0,
             "ticks": ""
            },
            "colorscale": [
             [
              0,
              "#0d0887"
             ],
             [
              0.1111111111111111,
              "#46039f"
             ],
             [
              0.2222222222222222,
              "#7201a8"
             ],
             [
              0.3333333333333333,
              "#9c179e"
             ],
             [
              0.4444444444444444,
              "#bd3786"
             ],
             [
              0.5555555555555556,
              "#d8576b"
             ],
             [
              0.6666666666666666,
              "#ed7953"
             ],
             [
              0.7777777777777778,
              "#fb9f3a"
             ],
             [
              0.8888888888888888,
              "#fdca26"
             ],
             [
              1,
              "#f0f921"
             ]
            ],
            "type": "surface"
           }
          ],
          "table": [
           {
            "cells": {
             "fill": {
              "color": "#EBF0F8"
             },
             "line": {
              "color": "white"
             }
            },
            "header": {
             "fill": {
              "color": "#C8D4E3"
             },
             "line": {
              "color": "white"
             }
            },
            "type": "table"
           }
          ]
         },
         "layout": {
          "annotationdefaults": {
           "arrowcolor": "#2a3f5f",
           "arrowhead": 0,
           "arrowwidth": 1
          },
          "autotypenumbers": "strict",
          "coloraxis": {
           "colorbar": {
            "outlinewidth": 0,
            "ticks": ""
           }
          },
          "colorscale": {
           "diverging": [
            [
             0,
             "#8e0152"
            ],
            [
             0.1,
             "#c51b7d"
            ],
            [
             0.2,
             "#de77ae"
            ],
            [
             0.3,
             "#f1b6da"
            ],
            [
             0.4,
             "#fde0ef"
            ],
            [
             0.5,
             "#f7f7f7"
            ],
            [
             0.6,
             "#e6f5d0"
            ],
            [
             0.7,
             "#b8e186"
            ],
            [
             0.8,
             "#7fbc41"
            ],
            [
             0.9,
             "#4d9221"
            ],
            [
             1,
             "#276419"
            ]
           ],
           "sequential": [
            [
             0,
             "#0d0887"
            ],
            [
             0.1111111111111111,
             "#46039f"
            ],
            [
             0.2222222222222222,
             "#7201a8"
            ],
            [
             0.3333333333333333,
             "#9c179e"
            ],
            [
             0.4444444444444444,
             "#bd3786"
            ],
            [
             0.5555555555555556,
             "#d8576b"
            ],
            [
             0.6666666666666666,
             "#ed7953"
            ],
            [
             0.7777777777777778,
             "#fb9f3a"
            ],
            [
             0.8888888888888888,
             "#fdca26"
            ],
            [
             1,
             "#f0f921"
            ]
           ],
           "sequentialminus": [
            [
             0,
             "#0d0887"
            ],
            [
             0.1111111111111111,
             "#46039f"
            ],
            [
             0.2222222222222222,
             "#7201a8"
            ],
            [
             0.3333333333333333,
             "#9c179e"
            ],
            [
             0.4444444444444444,
             "#bd3786"
            ],
            [
             0.5555555555555556,
             "#d8576b"
            ],
            [
             0.6666666666666666,
             "#ed7953"
            ],
            [
             0.7777777777777778,
             "#fb9f3a"
            ],
            [
             0.8888888888888888,
             "#fdca26"
            ],
            [
             1,
             "#f0f921"
            ]
           ]
          },
          "colorway": [
           "#636efa",
           "#EF553B",
           "#00cc96",
           "#ab63fa",
           "#FFA15A",
           "#19d3f3",
           "#FF6692",
           "#B6E880",
           "#FF97FF",
           "#FECB52"
          ],
          "font": {
           "color": "#2a3f5f"
          },
          "geo": {
           "bgcolor": "white",
           "lakecolor": "white",
           "landcolor": "#E5ECF6",
           "showlakes": true,
           "showland": true,
           "subunitcolor": "white"
          },
          "hoverlabel": {
           "align": "left"
          },
          "hovermode": "closest",
          "mapbox": {
           "style": "light"
          },
          "paper_bgcolor": "white",
          "plot_bgcolor": "#E5ECF6",
          "polar": {
           "angularaxis": {
            "gridcolor": "white",
            "linecolor": "white",
            "ticks": ""
           },
           "bgcolor": "#E5ECF6",
           "radialaxis": {
            "gridcolor": "white",
            "linecolor": "white",
            "ticks": ""
           }
          },
          "scene": {
           "xaxis": {
            "backgroundcolor": "#E5ECF6",
            "gridcolor": "white",
            "gridwidth": 2,
            "linecolor": "white",
            "showbackground": true,
            "ticks": "",
            "zerolinecolor": "white"
           },
           "yaxis": {
            "backgroundcolor": "#E5ECF6",
            "gridcolor": "white",
            "gridwidth": 2,
            "linecolor": "white",
            "showbackground": true,
            "ticks": "",
            "zerolinecolor": "white"
           },
           "zaxis": {
            "backgroundcolor": "#E5ECF6",
            "gridcolor": "white",
            "gridwidth": 2,
            "linecolor": "white",
            "showbackground": true,
            "ticks": "",
            "zerolinecolor": "white"
           }
          },
          "shapedefaults": {
           "line": {
            "color": "#2a3f5f"
           }
          },
          "ternary": {
           "aaxis": {
            "gridcolor": "white",
            "linecolor": "white",
            "ticks": ""
           },
           "baxis": {
            "gridcolor": "white",
            "linecolor": "white",
            "ticks": ""
           },
           "bgcolor": "#E5ECF6",
           "caxis": {
            "gridcolor": "white",
            "linecolor": "white",
            "ticks": ""
           }
          },
          "title": {
           "x": 0.05
          },
          "xaxis": {
           "automargin": true,
           "gridcolor": "white",
           "linecolor": "white",
           "ticks": "",
           "title": {
            "standoff": 15
           },
           "zerolinecolor": "white",
           "zerolinewidth": 2
          },
          "yaxis": {
           "automargin": true,
           "gridcolor": "white",
           "linecolor": "white",
           "ticks": "",
           "title": {
            "standoff": 15
           },
           "zerolinecolor": "white",
           "zerolinewidth": 2
          }
         }
        },
        "title": {
         "text": "Fraud Counts by Toll Booth and Vehicle Type"
        },
        "width": 1100,
        "xaxis": {
         "anchor": "y",
         "autorange": true,
         "domain": [
          0,
          1
         ],
         "range": [
          0,
          386.3157894736842
         ],
         "title": {
          "text": "Count of Fraudulent Transactions"
         },
         "type": "linear"
        },
        "yaxis": {
         "anchor": "x",
         "autorange": true,
         "domain": [
          0,
          1
         ],
         "range": [
          -0.5,
          5.5
         ],
         "title": {
          "text": "Toll Booth ID"
         },
         "type": "category"
        }
       }
      },
      "image/png": "[encoded data removed]",
      "text/html": [
       "<div>                            <div id=\"d659f4d2-d874-42dc-9107-06e5c7e277ae\" class=\"plotly-graph-div\" style=\"height:500px; width:1100px;\"></div>            <script type=\"text/javascript\">                require([\"plotly\"], function(Plotly) {                    window.PLOTLYENV=window.PLOTLYENV || {};                                    if (document.getElementById(\"d659f4d2-d874-42dc-9107-06e5c7e277ae\")) {                    Plotly.newPlot(                        \"d659f4d2-d874-42dc-9107-06e5c7e277ae\",                        [{\"alignmentgroup\":\"True\",\"hovertemplate\":\"Vehicle_Type=Motorcycle<br>Count of Fraudulent Transactions=%{x}<br>Toll Booth ID=%{y}<extra></extra>\",\"legendgroup\":\"Motorcycle\",\"marker\":{\"color\":\"#FF6692\",\"pattern\":{\"shape\":\"\"}},\"name\":\"Motorcycle\",\"offsetgroup\":\"Motorcycle\",\"orientation\":\"h\",\"showlegend\":true,\"textposition\":\"inside\",\"x\":[0.0,0.0,0.0],\"xaxis\":\"x\",\"y\":[\"D-104\",\"D-105\",\"D-106\"],\"yaxis\":\"y\",\"type\":\"bar\",\"texttemplate\":\"%{x}\"},{\"alignmentgroup\":\"True\",\"hovertemplate\":\"Vehicle_Type=Car<br>Count of Fraudulent Transactions=%{x}<br>Toll Booth ID=%{y}<extra></extra>\",\"legendgroup\":\"Car\",\"marker\":{\"color\":\"#EF553B\",\"pattern\":{\"shape\":\"\"}},\"name\":\"Car\",\"offsetgroup\":\"Car\",\"orientation\":\"h\",\"showlegend\":true,\"textposition\":\"inside\",\"x\":[120.0,2.0],\"xaxis\":\"x\",\"y\":[\"A-101\",\"B-102\"],\"yaxis\":\"y\",\"type\":\"bar\",\"texttemplate\":\"%{x}\"},{\"alignmentgroup\":\"True\",\"hovertemplate\":\"Vehicle_Type=Truck<br>Count of Fraudulent Transactions=%{x}<br>Toll Booth ID=%{y}<extra></extra>\",\"legendgroup\":\"Truck\",\"marker\":{\"color\":\"#19d3f3\",\"pattern\":{\"shape\":\"\"}},\"name\":\"Truck\",\"offsetgroup\":\"Truck\",\"orientation\":\"h\",\"showlegend\":true,\"textposition\":\"inside\",\"x\":[158.0],\"xaxis\":\"x\",\"y\":[\"C-103\"],\"yaxis\":\"y\",\"type\":\"bar\",\"texttemplate\":\"%{x}\"},{\"alignmentgroup\":\"True\",\"hovertemplate\":\"Vehicle_Type=Sedan<br>Count of Fraudulent Transactions=%{x}<br>Toll Booth ID=%{y}<extra></extra>\",\"legendgroup\":\"Sedan\",\"marker\":{\"color\":\"#00cc96\",\"pattern\":{\"shape\":\"\"}},\"name\":\"Sedan\",\"offsetgroup\":\"Sedan\",\"orientation\":\"h\",\"showlegend\":true,\"textposition\":\"inside\",\"x\":[161.0],\"xaxis\":\"x\",\"y\":[\"A-101\"],\"yaxis\":\"y\",\"type\":\"bar\",\"texttemplate\":\"%{x}\"},{\"alignmentgroup\":\"True\",\"hovertemplate\":\"Vehicle_Type=Bus <br>Count of Fraudulent Transactions=%{x}<br>Toll Booth ID=%{y}<extra></extra>\",\"legendgroup\":\"Bus \",\"marker\":{\"color\":\"#636efa\",\"pattern\":{\"shape\":\"\"}},\"name\":\"Bus \",\"offsetgroup\":\"Bus \",\"orientation\":\"h\",\"showlegend\":true,\"textposition\":\"inside\",\"x\":[2.0,175.0],\"xaxis\":\"x\",\"y\":[\"A-101\",\"C-103\"],\"yaxis\":\"y\",\"type\":\"bar\",\"texttemplate\":\"%{x}\"},{\"alignmentgroup\":\"True\",\"hovertemplate\":\"Vehicle_Type=Van<br>Count of Fraudulent Transactions=%{x}<br>Toll Booth ID=%{y}<extra></extra>\",\"legendgroup\":\"Van\",\"marker\":{\"color\":\"#FFA15A\",\"pattern\":{\"shape\":\"\"}},\"name\":\"Van\",\"offsetgroup\":\"Van\",\"orientation\":\"h\",\"showlegend\":true,\"textposition\":\"inside\",\"x\":[181.0],\"xaxis\":\"x\",\"y\":[\"B-102\"],\"yaxis\":\"y\",\"type\":\"bar\",\"texttemplate\":\"%{x}\"},{\"alignmentgroup\":\"True\",\"hovertemplate\":\"Vehicle_Type=SUV<br>Count of Fraudulent Transactions=%{x}<br>Toll Booth ID=%{y}<extra></extra>\",\"legendgroup\":\"SUV\",\"marker\":{\"color\":\"#ab63fa\",\"pattern\":{\"shape\":\"\"}},\"name\":\"SUV\",\"offsetgroup\":\"SUV\",\"orientation\":\"h\",\"showlegend\":true,\"textposition\":\"inside\",\"x\":[184.0],\"xaxis\":\"x\",\"y\":[\"B-102\"],\"yaxis\":\"y\",\"type\":\"bar\",\"texttemplate\":\"%{x}\"}],                        {\"template\":{\"data\":{\"histogram2dcontour\":[{\"type\":\"histogram2dcontour\",\"colorbar\":{\"outlinewidth\":0,\"ticks\":\"\"},\"colorscale\":[[0.0,\"#0d0887\"],[0.1111111111111111,\"#46039f\"],[0.2222222222222222,\"#7201a8\"],[0.3333333333333333,\"#9c179e\"],[0.4444444444444444,\"#bd3786\"],[0.5555555555555556,\"#d8576b\"],[0.6666666666666666,\"#ed7953\"],[0.7777777777777778,\"#fb9f3a\"],[0.8888888888888888,\"#fdca26\"],[1.0,\"#f0f921\"]]}],\"choropleth\":[{\"type\":\"choropleth\",\"colorbar\":{\"outlinewidth\":0,\"ticks\":\"\"}}],\"histogram2d\":[{\"type\":\"histogram2d\",\"colorbar\":{\"outlinewidth\":0,\"ticks\":\"\"},\"colorscale\":[[0.0,\"#0d0887\"],[0.1111111111111111,\"#46039f\"],[0.2222222222222222,\"#7201a8\"],[0.3333333333333333,\"#9c179e\"],[0.4444444444444444,\"#bd3786\"],[0.5555555555555556,\"#d8576b\"],[0.6666666666666666,\"#ed7953\"],[0.7777777777777778,\"#fb9f3a\"],[0.8888888888888888,\"#fdca26\"],[1.0,\"#f0f921\"]]}],\"heatmap\":[{\"type\":\"heatmap\",\"colorbar\":{\"outlinewidth\":0,\"ticks\":\"\"},\"colorscale\":[[0.0,\"#0d0887\"],[0.1111111111111111,\"#46039f\"],[0.2222222222222222,\"#7201a8\"],[0.3333333333333333,\"#9c179e\"],[0.4444444444444444,\"#bd3786\"],[0.5555555555555556,\"#d8576b\"],[0.6666666666666666,\"#ed7953\"],[0.7777777777777778,\"#fb9f3a\"],[0.8888888888888888,\"#fdca26\"],[1.0,\"#f0f921\"]]}],\"heatmapgl\":[{\"type\":\"heatmapgl\",\"colorbar\":{\"outlinewidth\":0,\"ticks\":\"\"},\"colorscale\":[[0.0,\"#0d0887\"],[0.1111111111111111,\"#46039f\"],[0.2222222222222222,\"#7201a8\"],[0.3333333333333333,\"#9c179e\"],[0.4444444444444444,\"#bd3786\"],[0.5555555555555556,\"#d8576b\"],[0.6666666666666666,\"#ed7953\"],[0.7777777777777778,\"#fb9f3a\"],[0.8888888888888888,\"#fdca26\"],[1.0,\"#f0f921\"]]}],\"contourcarpet\":[{\"type\":\"contourcarpet\",\"colorbar\":{\"outlinewidth\":0,\"ticks\":\"\"}}],\"contour\":[{\"type\":\"contour\",\"colorbar\":{\"outlinewidth\":0,\"ticks\":\"\"},\"colorscale\":[[0.0,\"#0d0887\"],[0.1111111111111111,\"#46039f\"],[0.2222222222222222,\"#7201a8\"],[0.3333333333333333,\"#9c179e\"],[0.4444444444444444,\"#bd3786\"],[0.5555555555555556,\"#d8576b\"],[0.6666666666666666,\"#ed7953\"],[0.7777777777777778,\"#fb9f3a\"],[0.8888888888888888,\"#fdca26\"],[1.0,\"#f0f921\"]]}],\"surface\":[{\"type\":\"surface\",\"colorbar\":{\"outlinewidth\":0,\"ticks\":\"\"},\"colorscale\":[[0.0,\"#0d0887\"],[0.1111111111111111,\"#46039f\"],[0.2222222222222222,\"#7201a8\"],[0.3333333333333333,\"#9c179e\"],[0.4444444444444444,\"#bd3786\"],[0.5555555555555556,\"#d8576b\"],[0.6666666666666666,\"#ed7953\"],[0.7777777777777778,\"#fb9f3a\"],[0.8888888888888888,\"#fdca26\"],[1.0,\"#f0f921\"]]}],\"mesh3d\":[{\"type\":\"mesh3d\",\"colorbar\":{\"outlinewidth\":0,\"ticks\":\"\"}}],\"scatter\":[{\"fillpattern\":{\"fillmode\":\"overlay\",\"size\":10,\"solidity\":0.2},\"type\":\"scatter\"}],\"parcoords\":[{\"type\":\"parcoords\",\"line\":{\"colorbar\":{\"outlinewidth\":0,\"ticks\":\"\"}}}],\"scatterpolargl\":[{\"type\":\"scatterpolargl\",\"marker\":{\"colorbar\":{\"outlinewidth\":0,\"ticks\":\"\"}}}],\"bar\":[{\"error_x\":{\"color\":\"#2a3f5f\"},\"error_y\":{\"color\":\"#2a3f5f\"},\"marker\":{\"line\":{\"color\":\"#E5ECF6\",\"width\":0.5},\"pattern\":{\"fillmode\":\"overlay\",\"size\":10,\"solidity\":0.2}},\"type\":\"bar\"}],\"scattergeo\":[{\"type\":\"scattergeo\",\"marker\":{\"colorbar\":{\"outlinewidth\":0,\"ticks\":\"\"}}}],\"scatterpolar\":[{\"type\":\"scatterpolar\",\"marker\":{\"colorbar\":{\"outlinewidth\":0,\"ticks\":\"\"}}}],\"histogram\":[{\"marker\":{\"pattern\":{\"fillmode\":\"overlay\",\"size\":10,\"solidity\":0.2}},\"type\":\"histogram\"}],\"scattergl\":[{\"type\":\"scattergl\",\"marker\":{\"colorbar\":{\"outlinewidth\":0,\"ticks\":\"\"}}}],\"scatter3d\":[{\"type\":\"scatter3d\",\"line\":{\"colorbar\":{\"outlinewidth\":0,\"ticks\":\"\"}},\"marker\":{\"colorbar\":{\"outlinewidth\":0,\"ticks\":\"\"}}}],\"scattermapbox\":[{\"type\":\"scattermapbox\",\"marker\":{\"colorbar\":{\"outlinewidth\":0,\"ticks\":\"\"}}}],\"scatterternary\":[{\"type\":\"scatterternary\",\"marker\":{\"colorbar\":{\"outlinewidth\":0,\"ticks\":\"\"}}}],\"scattercarpet\":[{\"type\":\"scattercarpet\",\"marker\":{\"colorbar\":{\"outlinewidth\":0,\"ticks\":\"\"}}}],\"carpet\":[{\"aaxis\":{\"endlinecolor\":\"#2a3f5f\",\"gridcolor\":\"white\",\"linecolor\":\"white\",\"minorgridcolor\":\"white\",\"startlinecolor\":\"#2a3f5f\"},\"baxis\":{\"endlinecolor\":\"#2a3f5f\",\"gridcolor\":\"white\",\"linecolor\":\"white\",\"minorgridcolor\":\"white\",\"startlinecolor\":\"#2a3f5f\"},\"type\":\"carpet\"}],\"table\":[{\"cells\":{\"fill\":{\"color\":\"#EBF0F8\"},\"line\":{\"color\":\"white\"}},\"header\":{\"fill\":{\"color\":\"#C8D4E3\"},\"line\":{\"color\":\"white\"}},\"type\":\"table\"}],\"barpolar\":[{\"marker\":{\"line\":{\"color\":\"#E5ECF6\",\"width\":0.5},\"pattern\":{\"fillmode\":\"overlay\",\"size\":10,\"solidity\":0.2}},\"type\":\"barpolar\"}],\"pie\":[{\"automargin\":true,\"type\":\"pie\"}]},\"layout\":{\"autotypenumbers\":\"strict\",\"colorway\":[\"#636efa\",\"#EF553B\",\"#00cc96\",\"#ab63fa\",\"#FFA15A\",\"#19d3f3\",\"#FF6692\",\"#B6E880\",\"#FF97FF\",\"#FECB52\"],\"font\":{\"color\":\"#2a3f5f\"},\"hovermode\":\"closest\",\"hoverlabel\":{\"align\":\"left\"},\"paper_bgcolor\":\"white\",\"plot_bgcolor\":\"#E5ECF6\",\"polar\":{\"bgcolor\":\"#E5ECF6\",\"angularaxis\":{\"gridcolor\":\"white\",\"linecolor\":\"white\",\"ticks\":\"\"},\"radialaxis\":{\"gridcolor\":\"white\",\"linecolor\":\"white\",\"ticks\":\"\"}},\"ternary\":{\"bgcolor\":\"#E5ECF6\",\"aaxis\":{\"gridcolor\":\"white\",\"linecolor\":\"white\",\"ticks\":\"\"},\"baxis\":{\"gridcolor\":\"white\",\"linecolor\":\"white\",\"ticks\":\"\"},\"caxis\":{\"gridcolor\":\"white\",\"linecolor\":\"white\",\"ticks\":\"\"}},\"coloraxis\":{\"colorbar\":{\"outlinewidth\":0,\"ticks\":\"\"}},\"colorscale\":{\"sequential\":[[0.0,\"#0d0887\"],[0.1111111111111111,\"#46039f\"],[0.2222222222222222,\"#7201a8\"],[0.3333333333333333,\"#9c179e\"],[0.4444444444444444,\"#bd3786\"],[0.5555555555555556,\"#d8576b\"],[0.6666666666666666,\"#ed7953\"],[0.7777777777777778,\"#fb9f3a\"],[0.8888888888888888,\"#fdca26\"],[1.0,\"#f0f921\"]],\"sequentialminus\":[[0.0,\"#0d0887\"],[0.1111111111111111,\"#46039f\"],[0.2222222222222222,\"#7201a8\"],[0.3333333333333333,\"#9c179e\"],[0.4444444444444444,\"#bd3786\"],[0.5555555555555556,\"#d8576b\"],[0.6666666666666666,\"#ed7953\"],[0.7777777777777778,\"#fb9f3a\"],[0.8888888888888888,\"#fdca26\"],[1.0,\"#f0f921\"]],\"diverging\":[[0,\"#8e0152\"],[0.1,\"#c51b7d\"],[0.2,\"#de77ae\"],[0.3,\"#f1b6da\"],[0.4,\"#fde0ef\"],[0.5,\"#f7f7f7\"],[0.6,\"#e6f5d0\"],[0.7,\"#b8e186\"],[0.8,\"#7fbc41\"],[0.9,\"#4d9221\"],[1,\"#276419\"]]},\"xaxis\":{\"gridcolor\":\"white\",\"linecolor\":\"white\",\"ticks\":\"\",\"title\":{\"standoff\":15},\"zerolinecolor\":\"white\",\"automargin\":true,\"zerolinewidth\":2},\"yaxis\":{\"gridcolor\":\"white\",\"linecolor\":\"white\",\"ticks\":\"\",\"title\":{\"standoff\":15},\"zerolinecolor\":\"white\",\"automargin\":true,\"zerolinewidth\":2},\"scene\":{\"xaxis\":{\"backgroundcolor\":\"#E5ECF6\",\"gridcolor\":\"white\",\"linecolor\":\"white\",\"showbackground\":true,\"ticks\":\"\",\"zerolinecolor\":\"white\",\"gridwidth\":2},\"yaxis\":{\"backgroundcolor\":\"#E5ECF6\",\"gridcolor\":\"white\",\"linecolor\":\"white\",\"showbackground\":true,\"ticks\":\"\",\"zerolinecolor\":\"white\",\"gridwidth\":2},\"zaxis\":{\"backgroundcolor\":\"#E5ECF6\",\"gridcolor\":\"white\",\"linecolor\":\"white\",\"showbackground\":true,\"ticks\":\"\",\"zerolinecolor\":\"white\",\"gridwidth\":2}},\"shapedefaults\":{\"line\":{\"color\":\"#2a3f5f\"}},\"annotationdefaults\":{\"arrowcolor\":\"#2a3f5f\",\"arrowhead\":0,\"arrowwidth\":1},\"geo\":{\"bgcolor\":\"white\",\"landcolor\":\"#E5ECF6\",\"subunitcolor\":\"white\",\"showland\":true,\"showlakes\":true,\"lakecolor\":\"white\"},\"title\":{\"x\":0.05},\"mapbox\":{\"style\":\"light\"}}},\"xaxis\":{\"anchor\":\"y\",\"domain\":[0.0,1.0],\"title\":{\"text\":\"Count of Fraudulent Transactions\"}},\"yaxis\":{\"anchor\":\"x\",\"domain\":[0.0,1.0],\"title\":{\"text\":\"Toll Booth ID\"}},\"legend\":{\"title\":{\"text\":\"Vehicle_Type\"},\"tracegroupgap\":0},\"title\":{\"text\":\"Fraud Counts by Toll Booth and Vehicle Type\"},\"barmode\":\"relative\",\"width\":1100,\"height\":500},                        {\"responsive\": true}                    ).then(function(){\n",
       "                            \n",
       "var gd = document.getElementById('d659f4d2-d874-42dc-9107-06e5c7e277ae');\n",
       "var x = new MutationObserver(function (mutations, observer) {{\n",
       "        var display = window.getComputedStyle(gd).display;\n",
       "        if (!display || display === 'none') {{\n",
       "            console.log([gd, 'removed!']);\n",
       "            Plotly.purge(gd);\n",
       "            observer.disconnect();\n",
       "        }}\n",
       "}});\n",
       "\n",
       "// Listen for the removal of the full notebook cells\n",
       "var notebookContainer = gd.closest('#notebook-container');\n",
       "if (notebookContainer) {{\n",
       "    x.observe(notebookContainer, {childList: true});\n",
       "}}\n",
       "\n",
       "// Listen for the clearing of the current output cell\n",
       "var outputEl = gd.closest('.output');\n",
       "if (outputEl) {{\n",
       "    x.observe(outputEl, {childList: true});\n",
       "}}\n",
       "\n",
       "                        })                };                });            </script>        </div>"
      ]
     },
     "metadata": {},
     "output_type": "display_data"
    }
   ],
   "source": [
    "derived = eda_df.groupby(['TollBoothID', 'Vehicle_Type', 'Fraud_indicator']).size().reset_index(name='Count')\n",
    "derived_pivot = derived.pivot_table(index=['TollBoothID', 'Vehicle_Type'], columns='Fraud_indicator', values='Count', fill_value=0).reset_index()\n",
    "\n",
    "custom_palette = sns.color_palette(\"Set1\", n_colors=len(derived_pivot['Vehicle_Type'].unique()))\n",
    "\n",
    "fig = px.bar(derived_pivot, x='Fraud', y='TollBoothID', color='Vehicle_Type',\n",
    "             title='Fraud Counts by Toll Booth and Vehicle Type',\n",
    "             labels={'Fraud': 'Count of Fraudulent Transactions', 'TollBoothID': 'Toll Booth ID'},\n",
    "             orientation='h')\n",
    "\n",
    "fig.update_layout(width=1100,  \n",
    "                  height=500)\n",
    "\n",
    "fig.update_traces(texttemplate='%{x}', textposition='inside')\n",
    "\n",
    "fig.data = sorted(fig.data, key=lambda x: sum(x['x']))\n",
    "\n",
    "fig.show()"
   ]
  },
  {
   "cell_type": "code",
   "execution_count": 67,
   "id": "174cfc1b-69e9-475a-997c-0cb98fb66ba8",
   "metadata": {},
   "outputs": [
    {
     "data": {
      "image/png": "[encoded data removed]",
      "text/plain": [
       "<Figure size 1000x800 with 4 Axes>"
      ]
     },
     "metadata": {},
     "output_type": "display_data"
    }
   ],
   "source": [
    "custom_colors = [\"#8A2BE2\", \"#33FF57\"]  # Violet and green colors\n",
    "\n",
    "fig, axes = plt.subplots(2, 2, figsize=(10, 8))\n",
    "\n",
    "sns.countplot(x='Vehicle_Type', data=eda_df, hue='Fraud_indicator', ax=axes[0, 0], palette=custom_colors)\n",
    "axes[0, 0].set_title('Vehicle Type')\n",
    "\n",
    "sns.countplot(x='Vehicle_Dimensions', data=eda_df, hue='Fraud_indicator', ax=axes[0, 1], palette=custom_colors)\n",
    "axes[0, 1].set_title('Vehicle Dimensions')\n",
    "\n",
    "sns.countplot(x='Lane_Type', data=eda_df, hue='Fraud_indicator', ax=axes[1, 0], palette=custom_colors)\n",
    "axes[1, 0].set_title('Lane Type')\n",
    "\n",
    "sns.countplot(x='TollBoothID', data=eda_df, hue='Fraud_indicator', ax=axes[1, 1], palette=custom_colors)\n",
    "axes[1, 1].set_title('Toll Booth ID')\n",
    "\n",
    "plt.tight_layout()\n",
    "\n",
    "plt.show()"
   ]
  },
  {
   "cell_type": "code",
   "execution_count": 68,
   "id": "1d104ac9-3e78-43f9-9e5b-62685c4713fd",
   "metadata": {},
   "outputs": [
    {
     "data": {
      "image/png": "[encoded data removed]",
      "text/plain": [
       "<Figure size 1400x600 with 1 Axes>"
      ]
     },
     "metadata": {},
     "output_type": "display_data"
    }
   ],
   "source": [
    "# Visualize the distribution of Amount using a histogram\n",
    "plt.figure(figsize=(14, 6))\n",
    "sns.histplot(eda_df['Amount_paid'], bins=30, kde=True, color='blue')\n",
    "plt.title('Distribution of Amount_paid')\n",
    "plt.xlabel('Amount paid')\n",
    "plt.ylabel('Frequency')\n",
    "plt.show()"
   ]
  },
  {
   "cell_type": "code",
   "execution_count": 69,
   "id": "97b66093-5720-4dad-ab1d-90734ee268fa",
   "metadata": {},
   "outputs": [
    {
     "data": {
      "image/png": "[encoded data removed]",
      "text/plain": [
       "<Figure size 1400x600 with 1 Axes>"
      ]
     },
     "metadata": {},
     "output_type": "display_data"
    }
   ],
   "source": [
    "plt.figure(figsize=(14, 6))\n",
    "sns.countplot(data=df[df['Fraud_indicator'] == 'Fraud'], x='Hour', palette=['red'], alpha=0.5)\n",
    "plt.title('Hourly Fraudulent Activity')\n",
    "plt.show()"
   ]
  },
  {
   "cell_type": "code",
   "execution_count": 70,
   "id": "e2accf43-3cf5-4931-92b0-90f2cefb0603",
   "metadata": {},
   "outputs": [
    {
     "data": {
      "application/vnd.plotly.v1+json": {
       "config": {
        "plotlyServerURL": "https://plot.ly"
       },
       "data": [
        {
         "mode": "lines",
         "type": "scatter",
         "x": [
          "2023-01-01T00:00:00",
          "2023-01-02T00:00:00",
          "2023-01-03T00:00:00",
          "2023-01-04T00:00:00",
          "2023-01-05T00:00:00",
          "2023-01-06T00:00:00",
          "2023-01-07T00:00:00",
          "2023-01-08T00:00:00",
          "2023-01-09T00:00:00",
          "2023-01-10T00:00:00",
          "2023-01-11T00:00:00",
          "2023-01-12T00:00:00",
          "2023-01-13T00:00:00",
          "2023-01-14T00:00:00",
          "2023-01-15T00:00:00",
          "2023-01-16T00:00:00",
          "2023-01-17T00:00:00",
          "2023-01-18T00:00:00",
          "2023-01-19T00:00:00",
          "2023-01-20T00:00:00",
          "2023-01-21T00:00:00",
          "2023-01-22T00:00:00",
          "2023-01-23T00:00:00",
          "2023-01-24T00:00:00",
          "2023-01-25T00:00:00",
          "2023-01-26T00:00:00",
          "2023-01-27T00:00:00",
          "2023-01-28T00:00:00",
          "2023-01-29T00:00:00",
          "2023-01-30T00:00:00",
          "2023-01-31T00:00:00",
          "2023-02-01T00:00:00",
          "2023-02-02T00:00:00",
          "2023-02-03T00:00:00",
          "2023-02-04T00:00:00",
          "2023-02-05T00:00:00",
          "2023-02-06T00:00:00",
          "2023-02-07T00:00:00",
          "2023-02-08T00:00:00",
          "2023-02-09T00:00:00",
          "2023-02-10T00:00:00",
          "2023-02-11T00:00:00",
          "2023-02-12T00:00:00",
          "2023-02-13T00:00:00",
          "2023-02-14T00:00:00",
          "2023-02-15T00:00:00",
          "2023-02-16T00:00:00",
          "2023-02-17T00:00:00",
          "2023-02-18T00:00:00",
          "2023-02-19T00:00:00",
          "2023-02-20T00:00:00",
          "2023-02-21T00:00:00",
          "2023-02-22T00:00:00",
          "2023-02-23T00:00:00",
          "2023-02-24T00:00:00",
          "2023-02-25T00:00:00",
          "2023-02-26T00:00:00",
          "2023-02-27T00:00:00",
          "2023-02-28T00:00:00",
          "2023-03-01T00:00:00",
          "2023-03-02T00:00:00",
          "2023-03-03T00:00:00",
          "2023-03-04T00:00:00",
          "2023-03-05T00:00:00",
          "2023-03-06T00:00:00",
          "2023-03-07T00:00:00",
          "2023-03-08T00:00:00",
          "2023-03-09T00:00:00",
          "2023-03-10T00:00:00",
          "2023-03-11T00:00:00",
          "2023-03-12T00:00:00",
          "2023-03-13T00:00:00",
          "2023-03-14T00:00:00",
          "2023-03-15T00:00:00",
          "2023-03-16T00:00:00",
          "2023-03-17T00:00:00",
          "2023-03-18T00:00:00",
          "2023-03-19T00:00:00",
          "2023-03-20T00:00:00",
          "2023-03-21T00:00:00",
          "2023-03-22T00:00:00",
          "2023-03-23T00:00:00",
          "2023-03-24T00:00:00",
          "2023-03-25T00:00:00",
          "2023-03-26T00:00:00",
          "2023-03-27T00:00:00",
          "2023-03-28T00:00:00",
          "2023-03-29T00:00:00",
          "2023-03-30T00:00:00",
          "2023-03-31T00:00:00",
          "2023-04-01T00:00:00",
          "2023-04-02T00:00:00",
          "2023-04-03T00:00:00",
          "2023-04-04T00:00:00",
          "2023-04-05T00:00:00",
          "2023-04-06T00:00:00",
          "2023-04-07T00:00:00",
          "2023-04-08T00:00:00",
          "2023-04-09T00:00:00",
          "2023-04-10T00:00:00",
          "2023-04-11T00:00:00",
          "2023-04-12T00:00:00",
          "2023-04-13T00:00:00",
          "2023-04-14T00:00:00",
          "2023-04-15T00:00:00",
          "2023-04-16T00:00:00",
          "2023-04-17T00:00:00",
          "2023-04-18T00:00:00",
          "2023-04-19T00:00:00",
          "2023-04-20T00:00:00",
          "2023-04-21T00:00:00",
          "2023-04-22T00:00:00",
          "2023-04-23T00:00:00",
          "2023-04-24T00:00:00",
          "2023-04-25T00:00:00",
          "2023-04-26T00:00:00",
          "2023-04-27T00:00:00",
          "2023-04-28T00:00:00",
          "2023-04-29T00:00:00",
          "2023-04-30T00:00:00",
          "2023-05-01T00:00:00",
          "2023-05-02T00:00:00",
          "2023-05-03T00:00:00",
          "2023-05-04T00:00:00",
          "2023-05-05T00:00:00",
          "2023-05-06T00:00:00",
          "2023-05-07T00:00:00",
          "2023-05-08T00:00:00",
          "2023-05-09T00:00:00",
          "2023-05-10T00:00:00",
          "2023-05-11T00:00:00",
          "2023-05-12T00:00:00",
          "2023-05-13T00:00:00",
          "2023-05-14T00:00:00",
          "2023-05-15T00:00:00",
          "2023-05-16T00:00:00",
          "2023-05-17T00:00:00",
          "2023-05-18T00:00:00",
          "2023-05-19T00:00:00",
          "2023-05-20T00:00:00",
          "2023-05-21T00:00:00",
          "2023-05-22T00:00:00",
          "2023-05-23T00:00:00",
          "2023-05-24T00:00:00",
          "2023-05-25T00:00:00",
          "2023-05-26T00:00:00",
          "2023-05-27T00:00:00",
          "2023-05-28T00:00:00",
          "2023-05-29T00:00:00",
          "2023-05-30T00:00:00",
          "2023-05-31T00:00:00",
          "2023-06-01T00:00:00",
          "2023-06-02T00:00:00",
          "2023-06-03T00:00:00",
          "2023-06-04T00:00:00",
          "2023-06-05T00:00:00",
          "2023-06-06T00:00:00",
          "2023-06-07T00:00:00",
          "2023-06-08T00:00:00",
          "2023-06-09T00:00:00",
          "2023-06-10T00:00:00",
          "2023-06-11T00:00:00",
          "2023-06-12T00:00:00",
          "2023-06-13T00:00:00",
          "2023-06-14T00:00:00",
          "2023-06-15T00:00:00",
          "2023-06-16T00:00:00",
          "2023-06-17T00:00:00",
          "2023-06-18T00:00:00",
          "2023-06-19T00:00:00",
          "2023-06-20T00:00:00",
          "2023-06-21T00:00:00",
          "2023-06-22T00:00:00",
          "2023-06-23T00:00:00",
          "2023-06-24T00:00:00",
          "2023-06-25T00:00:00",
          "2023-06-26T00:00:00",
          "2023-06-27T00:00:00",
          "2023-06-28T00:00:00",
          "2023-06-29T00:00:00",
          "2023-06-30T00:00:00",
          "2023-07-01T00:00:00",
          "2023-07-02T00:00:00",
          "2023-07-03T00:00:00",
          "2023-07-04T00:00:00",
          "2023-07-05T00:00:00",
          "2023-07-06T00:00:00",
          "2023-07-07T00:00:00",
          "2023-07-08T00:00:00",
          "2023-07-09T00:00:00",
          "2023-07-10T00:00:00",
          "2023-07-11T00:00:00",
          "2023-07-12T00:00:00",
          "2023-07-13T00:00:00",
          "2023-07-14T00:00:00",
          "2023-07-15T00:00:00",
          "2023-07-16T00:00:00",
          "2023-07-17T00:00:00",
          "2023-07-18T00:00:00",
          "2023-07-19T00:00:00",
          "2023-07-20T00:00:00",
          "2023-07-21T00:00:00",
          "2023-07-22T00:00:00",
          "2023-07-23T00:00:00",
          "2023-07-24T00:00:00",
          "2023-07-25T00:00:00",
          "2023-07-26T00:00:00",
          "2023-07-27T00:00:00",
          "2023-07-28T00:00:00",
          "2023-07-29T00:00:00",
          "2023-07-30T00:00:00",
          "2023-07-31T00:00:00",
          "2023-08-01T00:00:00",
          "2023-08-02T00:00:00",
          "2023-08-03T00:00:00",
          "2023-08-04T00:00:00",
          "2023-08-05T00:00:00",
          "2023-08-06T00:00:00",
          "2023-08-07T00:00:00",
          "2023-08-08T00:00:00",
          "2023-08-09T00:00:00",
          "2023-08-10T00:00:00",
          "2023-08-11T00:00:00",
          "2023-08-12T00:00:00",
          "2023-08-13T00:00:00",
          "2023-08-14T00:00:00",
          "2023-08-15T00:00:00",
          "2023-08-16T00:00:00",
          "2023-08-17T00:00:00",
          "2023-08-18T00:00:00",
          "2023-08-19T00:00:00",
          "2023-08-20T00:00:00",
          "2023-08-21T00:00:00",
          "2023-08-22T00:00:00",
          "2023-08-23T00:00:00",
          "2023-08-24T00:00:00",
          "2023-08-25T00:00:00",
          "2023-08-26T00:00:00",
          "2023-08-27T00:00:00",
          "2023-08-28T00:00:00",
          "2023-08-29T00:00:00",
          "2023-08-30T00:00:00",
          "2023-08-31T00:00:00",
          "2023-09-01T00:00:00",
          "2023-09-02T00:00:00",
          "2023-09-03T00:00:00",
          "2023-09-04T00:00:00",
          "2023-09-05T00:00:00",
          "2023-09-06T00:00:00",
          "2023-09-07T00:00:00",
          "2023-09-08T00:00:00",
          "2023-09-09T00:00:00",
          "2023-09-10T00:00:00",
          "2023-09-11T00:00:00",
          "2023-09-12T00:00:00",
          "2023-09-13T00:00:00",
          "2023-09-14T00:00:00",
          "2023-09-15T00:00:00",
          "2023-09-16T00:00:00",
          "2023-09-17T00:00:00",
          "2023-09-18T00:00:00",
          "2023-09-19T00:00:00",
          "2023-09-20T00:00:00",
          "2023-09-21T00:00:00",
          "2023-09-22T00:00:00",
          "2023-09-23T00:00:00",
          "2023-09-24T00:00:00",
          "2023-09-25T00:00:00",
          "2023-09-26T00:00:00",
          "2023-09-27T00:00:00",
          "2023-09-28T00:00:00",
          "2023-09-29T00:00:00",
          "2023-09-30T00:00:00",
          "2023-10-01T00:00:00",
          "2023-10-02T00:00:00",
          "2023-10-03T00:00:00",
          "2023-10-04T00:00:00",
          "2023-10-05T00:00:00",
          "2023-10-06T00:00:00",
          "2023-10-07T00:00:00",
          "2023-10-08T00:00:00",
          "2023-10-09T00:00:00",
          "2023-10-10T00:00:00",
          "2023-10-11T00:00:00",
          "2023-10-12T00:00:00",
          "2023-10-13T00:00:00",
          "2023-10-14T00:00:00",
          "2023-10-15T00:00:00",
          "2023-10-16T00:00:00",
          "2023-10-17T00:00:00",
          "2023-10-18T00:00:00",
          "2023-10-19T00:00:00",
          "2023-10-20T00:00:00",
          "2023-10-21T00:00:00",
          "2023-10-22T00:00:00",
          "2023-10-23T00:00:00",
          "2023-10-24T00:00:00",
          "2023-10-25T00:00:00",
          "2023-10-26T00:00:00",
          "2023-10-27T00:00:00",
          "2023-10-28T00:00:00",
          "2023-10-29T00:00:00",
          "2023-10-30T00:00:00",
          "2023-10-31T00:00:00",
          "2023-11-01T00:00:00",
          "2023-11-02T00:00:00",
          "2023-11-03T00:00:00",
          "2023-11-04T00:00:00",
          "2023-11-05T00:00:00",
          "2023-11-06T00:00:00",
          "2023-11-07T00:00:00",
          "2023-11-08T00:00:00",
          "2023-11-09T00:00:00",
          "2023-11-10T00:00:00",
          "2023-11-11T00:00:00",
          "2023-11-12T00:00:00",
          "2023-11-13T00:00:00",
          "2023-11-14T00:00:00",
          "2023-11-15T00:00:00",
          "2023-11-16T00:00:00",
          "2023-11-17T00:00:00",
          "2023-11-18T00:00:00",
          "2023-11-19T00:00:00",
          "2023-11-20T00:00:00",
          "2023-11-21T00:00:00",
          "2023-11-22T00:00:00",
          "2023-11-23T00:00:00",
          "2023-11-24T00:00:00",
          "2023-11-25T00:00:00",
          "2023-11-26T00:00:00",
          "2023-11-27T00:00:00",
          "2023-11-28T00:00:00",
          "2023-11-29T00:00:00",
          "2023-11-30T00:00:00",
          "2023-12-01T00:00:00",
          "2023-12-02T00:00:00",
          "2023-12-03T00:00:00",
          "2023-12-04T00:00:00",
          "2023-12-05T00:00:00",
          "2023-12-06T00:00:00",
          "2023-12-07T00:00:00",
          "2023-12-08T00:00:00",
          "2023-12-09T00:00:00",
          "2023-12-10T00:00:00",
          "2023-12-11T00:00:00",
          "2023-12-12T00:00:00",
          "2023-12-13T00:00:00",
          "2023-12-14T00:00:00",
          "2023-12-15T00:00:00",
          "2023-12-16T00:00:00",
          "2023-12-17T00:00:00",
          "2023-12-18T00:00:00",
          "2023-12-19T00:00:00",
          "2023-12-20T00:00:00",
          "2023-12-21T00:00:00",
          "2023-12-22T00:00:00",
          "2023-12-23T00:00:00",
          "2023-12-24T00:00:00",
          "2023-12-25T00:00:00",
          "2023-12-26T00:00:00",
          "2023-12-27T00:00:00",
          "2023-12-28T00:00:00",
          "2023-12-29T00:00:00",
          "2023-12-30T00:00:00",
          "2023-12-31T00:00:00"
         ],
         "y": [
          27,
          20,
          23,
          16,
          28,
          22,
          26,
          18,
          15,
          13,
          13,
          13,
          14,
          13,
          17,
          12,
          13,
          14,
          14,
          29,
          20,
          24,
          20,
          25,
          16,
          15,
          15,
          12,
          13,
          14,
          12,
          10,
          13,
          11,
          20,
          22,
          20,
          24,
          32,
          23,
          20,
          21,
          18,
          17,
          19,
          14,
          13,
          15,
          16,
          11,
          11,
          15,
          11,
          27,
          25,
          21,
          22,
          23,
          17,
          17,
          12,
          11,
          10,
          13,
          12,
          12,
          12,
          8,
          19,
          22,
          19,
          23,
          22,
          24,
          22,
          20,
          24,
          17,
          26,
          13,
          15,
          11,
          11,
          12,
          21,
          12,
          13,
          22,
          23,
          16,
          16,
          16,
          12,
          16,
          14,
          13,
          10,
          14,
          11,
          12,
          9,
          11,
          12,
          24,
          14,
          12,
          23,
          24,
          22,
          15,
          21,
          16,
          22,
          18,
          18,
          9,
          14,
          9,
          20,
          15,
          12,
          19,
          19,
          13,
          17,
          13,
          11,
          11,
          15,
          8,
          11,
          8,
          12,
          10,
          8,
          8,
          13,
          18,
          18,
          10,
          15,
          21,
          20,
          20,
          14,
          22,
          14,
          21,
          16,
          15,
          13,
          10,
          13,
          22,
          13,
          15,
          22,
          16,
          17,
          10,
          12,
          13,
          12,
          10,
          12,
          8,
          12,
          9,
          10,
          9,
          10,
          14,
          22,
          12,
          13,
          18,
          16,
          20,
          19,
          14,
          15,
          16,
          15,
          12,
          12,
          10,
          11,
          20,
          12,
          16,
          14,
          20,
          14,
          10,
          10,
          12,
          8,
          10,
          5,
          10,
          8,
          9,
          6,
          7,
          12,
          11,
          14,
          15,
          8,
          13,
          19,
          19,
          12,
          13,
          20,
          13,
          12,
          10,
          11,
          13,
          13,
          17,
          12,
          16,
          17,
          17,
          23,
          11,
          9,
          14,
          7,
          9,
          6,
          12,
          8,
          9,
          5,
          8,
          8,
          14,
          14,
          12,
          9,
          12,
          14,
          24,
          11,
          9,
          19,
          9,
          16,
          11,
          7,
          11,
          10,
          16,
          13,
          21,
          15,
          21,
          22,
          14,
          10,
          14,
          8,
          10,
          5,
          9,
          7,
          7,
          7,
          4,
          7,
          7,
          14,
          9,
          11,
          7,
          14,
          15,
          16,
          8,
          14,
          10,
          11,
          12,
          7,
          5,
          10,
          12,
          13,
          15,
          12,
          18,
          18,
          14,
          10,
          12,
          8,
          7,
          5,
          8,
          7,
          9,
          8,
          5,
          9,
          6,
          8,
          12,
          11,
          4,
          17,
          16,
          14,
          9,
          12,
          10,
          9,
          9,
          5,
          10,
          9,
          5,
          15,
          15,
          16,
          16,
          22,
          10,
          15,
          11,
          12,
          7,
          6,
          6,
          8,
          10,
          6,
          7,
          8,
          6,
          6,
          14,
          10,
          9,
          10,
          15,
          17,
          14,
          11,
          10,
          7,
          7,
          7,
          7,
          7,
          8,
          11,
          16,
          16,
          15,
          15,
          18,
          17
         ]
        }
       ],
       "layout": {
        "height": 500,
        "showlegend": false,
        "template": {
         "data": {
          "bar": [
           {
            "error_x": {
             "color": "#2a3f5f"
            },
            "error_y": {
             "color": "#2a3f5f"
            },
            "marker": {
             "line": {
              "color": "#E5ECF6",
              "width": 0.5
             },
             "pattern": {
              "fillmode": "overlay",
              "size": 10,
              "solidity": 0.2
             }
            },
            "type": "bar"
           }
          ],
          "barpolar": [
           {
            "marker": {
             "line": {
              "color": "#E5ECF6",
              "width": 0.5
             },
             "pattern": {
              "fillmode": "overlay",
              "size": 10,
              "solidity": 0.2
             }
            },
            "type": "barpolar"
           }
          ],
          "carpet": [
           {
            "aaxis": {
             "endlinecolor": "#2a3f5f",
             "gridcolor": "white",
             "linecolor": "white",
             "minorgridcolor": "white",
             "startlinecolor": "#2a3f5f"
            },
            "baxis": {
             "endlinecolor": "#2a3f5f",
             "gridcolor": "white",
             "linecolor": "white",
             "minorgridcolor": "white",
             "startlinecolor": "#2a3f5f"
            },
            "type": "carpet"
           }
          ],
          "choropleth": [
           {
            "colorbar": {
             "outlinewidth": 0,
             "ticks": ""
            },
            "type": "choropleth"
           }
          ],
          "contour": [
           {
            "colorbar": {
             "outlinewidth": 0,
             "ticks": ""
            },
            "colorscale": [
             [
              0,
              "#0d0887"
             ],
             [
              0.1111111111111111,
              "#46039f"
             ],
             [
              0.2222222222222222,
              "#7201a8"
             ],
             [
              0.3333333333333333,
              "#9c179e"
             ],
             [
              0.4444444444444444,
              "#bd3786"
             ],
             [
              0.5555555555555556,
              "#d8576b"
             ],
             [
              0.6666666666666666,
              "#ed7953"
             ],
             [
              0.7777777777777778,
              "#fb9f3a"
             ],
             [
              0.8888888888888888,
              "#fdca26"
             ],
             [
              1,
              "#f0f921"
             ]
            ],
            "type": "contour"
           }
          ],
          "contourcarpet": [
           {
            "colorbar": {
             "outlinewidth": 0,
             "ticks": ""
            },
            "type": "contourcarpet"
           }
          ],
          "heatmap": [
           {
            "colorbar": {
             "outlinewidth": 0,
             "ticks": ""
            },
            "colorscale": [
             [
              0,
              "#0d0887"
             ],
             [
              0.1111111111111111,
              "#46039f"
             ],
             [
              0.2222222222222222,
              "#7201a8"
             ],
             [
              0.3333333333333333,
              "#9c179e"
             ],
             [
              0.4444444444444444,
              "#bd3786"
             ],
             [
              0.5555555555555556,
              "#d8576b"
             ],
             [
              0.6666666666666666,
              "#ed7953"
             ],
             [
              0.7777777777777778,
              "#fb9f3a"
             ],
             [
              0.8888888888888888,
              "#fdca26"
             ],
             [
              1,
              "#f0f921"
             ]
            ],
            "type": "heatmap"
           }
          ],
          "heatmapgl": [
           {
            "colorbar": {
             "outlinewidth": 0,
             "ticks": ""
            },
            "colorscale": [
             [
              0,
              "#0d0887"
             ],
             [
              0.1111111111111111,
              "#46039f"
             ],
             [
              0.2222222222222222,
              "#7201a8"
             ],
             [
              0.3333333333333333,
              "#9c179e"
             ],
             [
              0.4444444444444444,
              "#bd3786"
             ],
             [
              0.5555555555555556,
              "#d8576b"
             ],
             [
              0.6666666666666666,
              "#ed7953"
             ],
             [
              0.7777777777777778,
              "#fb9f3a"
             ],
             [
              0.8888888888888888,
              "#fdca26"
             ],
             [
              1,
              "#f0f921"
             ]
            ],
            "type": "heatmapgl"
           }
          ],
          "histogram": [
           {
            "marker": {
             "pattern": {
              "fillmode": "overlay",
              "size": 10,
              "solidity": 0.2
             }
            },
            "type": "histogram"
           }
          ],
          "histogram2d": [
           {
            "colorbar": {
             "outlinewidth": 0,
             "ticks": ""
            },
            "colorscale": [
             [
              0,
              "#0d0887"
             ],
             [
              0.1111111111111111,
              "#46039f"
             ],
             [
              0.2222222222222222,
              "#7201a8"
             ],
             [
              0.3333333333333333,
              "#9c179e"
             ],
             [
              0.4444444444444444,
              "#bd3786"
             ],
             [
              0.5555555555555556,
              "#d8576b"
             ],
             [
              0.6666666666666666,
              "#ed7953"
             ],
             [
              0.7777777777777778,
              "#fb9f3a"
             ],
             [
              0.8888888888888888,
              "#fdca26"
             ],
             [
              1,
              "#f0f921"
             ]
            ],
            "type": "histogram2d"
           }
          ],
          "histogram2dcontour": [
           {
            "colorbar": {
             "outlinewidth": 0,
             "ticks": ""
            },
            "colorscale": [
             [
              0,
              "#0d0887"
             ],
             [
              0.1111111111111111,
              "#46039f"
             ],
             [
              0.2222222222222222,
              "#7201a8"
             ],
             [
              0.3333333333333333,
              "#9c179e"
             ],
             [
              0.4444444444444444,
              "#bd3786"
             ],
             [
              0.5555555555555556,
              "#d8576b"
             ],
             [
              0.6666666666666666,
              "#ed7953"
             ],
             [
              0.7777777777777778,
              "#fb9f3a"
             ],
             [
              0.8888888888888888,
              "#fdca26"
             ],
             [
              1,
              "#f0f921"
             ]
            ],
            "type": "histogram2dcontour"
           }
          ],
          "mesh3d": [
           {
            "colorbar": {
             "outlinewidth": 0,
             "ticks": ""
            },
            "type": "mesh3d"
           }
          ],
          "parcoords": [
           {
            "line": {
             "colorbar": {
              "outlinewidth": 0,
              "ticks": ""
             }
            },
            "type": "parcoords"
           }
          ],
          "pie": [
           {
            "automargin": true,
            "type": "pie"
           }
          ],
          "scatter": [
           {
            "fillpattern": {
             "fillmode": "overlay",
             "size": 10,
             "solidity": 0.2
            },
            "type": "scatter"
           }
          ],
          "scatter3d": [
           {
            "line": {
             "colorbar": {
              "outlinewidth": 0,
              "ticks": ""
             }
            },
            "marker": {
             "colorbar": {
              "outlinewidth": 0,
              "ticks": ""
             }
            },
            "type": "scatter3d"
           }
          ],
          "scattercarpet": [
           {
            "marker": {
             "colorbar": {
              "outlinewidth": 0,
              "ticks": ""
             }
            },
            "type": "scattercarpet"
           }
          ],
          "scattergeo": [
           {
            "marker": {
             "colorbar": {
              "outlinewidth": 0,
              "ticks": ""
             }
            },
            "type": "scattergeo"
           }
          ],
          "scattergl": [
           {
            "marker": {
             "colorbar": {
              "outlinewidth": 0,
              "ticks": ""
             }
            },
            "type": "scattergl"
           }
          ],
          "scattermapbox": [
           {
            "marker": {
             "colorbar": {
              "outlinewidth": 0,
              "ticks": ""
             }
            },
            "type": "scattermapbox"
           }
          ],
          "scatterpolar": [
           {
            "marker": {
             "colorbar": {
              "outlinewidth": 0,
              "ticks": ""
             }
            },
            "type": "scatterpolar"
           }
          ],
          "scatterpolargl": [
           {
            "marker": {
             "colorbar": {
              "outlinewidth": 0,
              "ticks": ""
             }
            },
            "type": "scatterpolargl"
           }
          ],
          "scatterternary": [
           {
            "marker": {
             "colorbar": {
              "outlinewidth": 0,
              "ticks": ""
             }
            },
            "type": "scatterternary"
           }
          ],
          "surface": [
           {
            "colorbar": {
             "outlinewidth": 0,
             "ticks": ""
            },
            "colorscale": [
             [
              0,
              "#0d0887"
             ],
             [
              0.1111111111111111,
              "#46039f"
             ],
             [
              0.2222222222222222,
              "#7201a8"
             ],
             [
              0.3333333333333333,
              "#9c179e"
             ],
             [
              0.4444444444444444,
              "#bd3786"
             ],
             [
              0.5555555555555556,
              "#d8576b"
             ],
             [
              0.6666666666666666,
              "#ed7953"
             ],
             [
              0.7777777777777778,
              "#fb9f3a"
             ],
             [
              0.8888888888888888,
              "#fdca26"
             ],
             [
              1,
              "#f0f921"
             ]
            ],
            "type": "surface"
           }
          ],
          "table": [
           {
            "cells": {
             "fill": {
              "color": "#EBF0F8"
             },
             "line": {
              "color": "white"
             }
            },
            "header": {
             "fill": {
              "color": "#C8D4E3"
             },
             "line": {
              "color": "white"
             }
            },
            "type": "table"
           }
          ]
         },
         "layout": {
          "annotationdefaults": {
           "arrowcolor": "#2a3f5f",
           "arrowhead": 0,
           "arrowwidth": 1
          },
          "autotypenumbers": "strict",
          "coloraxis": {
           "colorbar": {
            "outlinewidth": 0,
            "ticks": ""
           }
          },
          "colorscale": {
           "diverging": [
            [
             0,
             "#8e0152"
            ],
            [
             0.1,
             "#c51b7d"
            ],
            [
             0.2,
             "#de77ae"
            ],
            [
             0.3,
             "#f1b6da"
            ],
            [
             0.4,
             "#fde0ef"
            ],
            [
             0.5,
             "#f7f7f7"
            ],
            [
             0.6,
             "#e6f5d0"
            ],
            [
             0.7,
             "#b8e186"
            ],
            [
             0.8,
             "#7fbc41"
            ],
            [
             0.9,
             "#4d9221"
            ],
            [
             1,
             "#276419"
            ]
           ],
           "sequential": [
            [
             0,
             "#0d0887"
            ],
            [
             0.1111111111111111,
             "#46039f"
            ],
            [
             0.2222222222222222,
             "#7201a8"
            ],
            [
             0.3333333333333333,
             "#9c179e"
            ],
            [
             0.4444444444444444,
             "#bd3786"
            ],
            [
             0.5555555555555556,
             "#d8576b"
            ],
            [
             0.6666666666666666,
             "#ed7953"
            ],
            [
             0.7777777777777778,
             "#fb9f3a"
            ],
            [
             0.8888888888888888,
             "#fdca26"
            ],
            [
             1,
             "#f0f921"
            ]
           ],
           "sequentialminus": [
            [
             0,
             "#0d0887"
            ],
            [
             0.1111111111111111,
             "#46039f"
            ],
            [
             0.2222222222222222,
             "#7201a8"
            ],
            [
             0.3333333333333333,
             "#9c179e"
            ],
            [
             0.4444444444444444,
             "#bd3786"
            ],
            [
             0.5555555555555556,
             "#d8576b"
            ],
            [
             0.6666666666666666,
             "#ed7953"
            ],
            [
             0.7777777777777778,
             "#fb9f3a"
            ],
            [
             0.8888888888888888,
             "#fdca26"
            ],
            [
             1,
             "#f0f921"
            ]
           ]
          },
          "colorway": [
           "#636efa",
           "#EF553B",
           "#00cc96",
           "#ab63fa",
           "#FFA15A",
           "#19d3f3",
           "#FF6692",
           "#B6E880",
           "#FF97FF",
           "#FECB52"
          ],
          "font": {
           "color": "#2a3f5f"
          },
          "geo": {
           "bgcolor": "white",
           "lakecolor": "white",
           "landcolor": "#E5ECF6",
           "showlakes": true,
           "showland": true,
           "subunitcolor": "white"
          },
          "hoverlabel": {
           "align": "left"
          },
          "hovermode": "closest",
          "mapbox": {
           "style": "light"
          },
          "paper_bgcolor": "white",
          "plot_bgcolor": "#E5ECF6",
          "polar": {
           "angularaxis": {
            "gridcolor": "white",
            "linecolor": "white",
            "ticks": ""
           },
           "bgcolor": "#E5ECF6",
           "radialaxis": {
            "gridcolor": "white",
            "linecolor": "white",
            "ticks": ""
           }
          },
          "scene": {
           "xaxis": {
            "backgroundcolor": "#E5ECF6",
            "gridcolor": "white",
            "gridwidth": 2,
            "linecolor": "white",
            "showbackground": true,
            "ticks": "",
            "zerolinecolor": "white"
           },
           "yaxis": {
            "backgroundcolor": "#E5ECF6",
            "gridcolor": "white",
            "gridwidth": 2,
            "linecolor": "white",
            "showbackground": true,
            "ticks": "",
            "zerolinecolor": "white"
           },
           "zaxis": {
            "backgroundcolor": "#E5ECF6",
            "gridcolor": "white",
            "gridwidth": 2,
            "linecolor": "white",
            "showbackground": true,
            "ticks": "",
            "zerolinecolor": "white"
           }
          },
          "shapedefaults": {
           "line": {
            "color": "#2a3f5f"
           }
          },
          "ternary": {
           "aaxis": {
            "gridcolor": "white",
            "linecolor": "white",
            "ticks": ""
           },
           "baxis": {
            "gridcolor": "white",
            "linecolor": "white",
            "ticks": ""
           },
           "bgcolor": "#E5ECF6",
           "caxis": {
            "gridcolor": "white",
            "linecolor": "white",
            "ticks": ""
           }
          },
          "title": {
           "x": 0.05
          },
          "xaxis": {
           "automargin": true,
           "gridcolor": "white",
           "linecolor": "white",
           "ticks": "",
           "title": {
            "standoff": 15
           },
           "zerolinecolor": "white",
           "zerolinewidth": 2
          },
          "yaxis": {
           "automargin": true,
           "gridcolor": "white",
           "linecolor": "white",
           "ticks": "",
           "title": {
            "standoff": 15
           },
           "zerolinecolor": "white",
           "zerolinewidth": 2
          }
         }
        },
        "title": {
         "text": "Daily Transaction Trends"
        },
        "width": 1100,
        "xaxis": {
         "autorange": true,
         "range": [
          "2023-01-01",
          "2023-12-31"
         ],
         "title": {
          "text": "Date"
         },
         "type": "date"
        },
        "yaxis": {
         "autorange": true,
         "range": [
          2.4444444444444446,
          33.55555555555556
         ],
         "title": {
          "text": "Number of Transactions"
         },
         "type": "linear"
        }
       }
      },
      "image/png": "[encoded data removed]",
      "text/html": [
       "<div>                            <div id=\"a86a13c7-ffd5-415e-afa6-1585cc45d8e7\" class=\"plotly-graph-div\" style=\"height:500px; width:1100px;\"></div>            <script type=\"text/javascript\">                require([\"plotly\"], function(Plotly) {                    window.PLOTLYENV=window.PLOTLYENV || {};                                    if (document.getElementById(\"a86a13c7-ffd5-415e-afa6-1585cc45d8e7\")) {                    Plotly.newPlot(                        \"a86a13c7-ffd5-415e-afa6-1585cc45d8e7\",                        [{\"mode\":\"lines\",\"x\":[\"2023-01-01T00:00:00\",\"2023-01-02T00:00:00\",\"2023-01-03T00:00:00\",\"2023-01-04T00:00:00\",\"2023-01-05T00:00:00\",\"2023-01-06T00:00:00\",\"2023-01-07T00:00:00\",\"2023-01-08T00:00:00\",\"2023-01-09T00:00:00\",\"2023-01-10T00:00:00\",\"2023-01-11T00:00:00\",\"2023-01-12T00:00:00\",\"2023-01-13T00:00:00\",\"2023-01-14T00:00:00\",\"2023-01-15T00:00:00\",\"2023-01-16T00:00:00\",\"2023-01-17T00:00:00\",\"2023-01-18T00:00:00\",\"2023-01-19T00:00:00\",\"2023-01-20T00:00:00\",\"2023-01-21T00:00:00\",\"2023-01-22T00:00:00\",\"2023-01-23T00:00:00\",\"2023-01-24T00:00:00\",\"2023-01-25T00:00:00\",\"2023-01-26T00:00:00\",\"2023-01-27T00:00:00\",\"2023-01-28T00:00:00\",\"2023-01-29T00:00:00\",\"2023-01-30T00:00:00\",\"2023-01-31T00:00:00\",\"2023-02-01T00:00:00\",\"2023-02-02T00:00:00\",\"2023-02-03T00:00:00\",\"2023-02-04T00:00:00\",\"2023-02-05T00:00:00\",\"2023-02-06T00:00:00\",\"2023-02-07T00:00:00\",\"2023-02-08T00:00:00\",\"2023-02-09T00:00:00\",\"2023-02-10T00:00:00\",\"2023-02-11T00:00:00\",\"2023-02-12T00:00:00\",\"2023-02-13T00:00:00\",\"2023-02-14T00:00:00\",\"2023-02-15T00:00:00\",\"2023-02-16T00:00:00\",\"2023-02-17T00:00:00\",\"2023-02-18T00:00:00\",\"2023-02-19T00:00:00\",\"2023-02-20T00:00:00\",\"2023-02-21T00:00:00\",\"2023-02-22T00:00:00\",\"2023-02-23T00:00:00\",\"2023-02-24T00:00:00\",\"2023-02-25T00:00:00\",\"2023-02-26T00:00:00\",\"2023-02-27T00:00:00\",\"2023-02-28T00:00:00\",\"2023-03-01T00:00:00\",\"2023-03-02T00:00:00\",\"2023-03-03T00:00:00\",\"2023-03-04T00:00:00\",\"2023-03-05T00:00:00\",\"2023-03-06T00:00:00\",\"2023-03-07T00:00:00\",\"2023-03-08T00:00:00\",\"2023-03-09T00:00:00\",\"2023-03-10T00:00:00\",\"2023-03-11T00:00:00\",\"2023-03-12T00:00:00\",\"2023-03-13T00:00:00\",\"2023-03-14T00:00:00\",\"2023-03-15T00:00:00\",\"2023-03-16T00:00:00\",\"2023-03-17T00:00:00\",\"2023-03-18T00:00:00\",\"2023-03-19T00:00:00\",\"2023-03-20T00:00:00\",\"2023-03-21T00:00:00\",\"2023-03-22T00:00:00\",\"2023-03-23T00:00:00\",\"2023-03-24T00:00:00\",\"2023-03-25T00:00:00\",\"2023-03-26T00:00:00\",\"2023-03-27T00:00:00\",\"2023-03-28T00:00:00\",\"2023-03-29T00:00:00\",\"2023-03-30T00:00:00\",\"2023-03-31T00:00:00\",\"2023-04-01T00:00:00\",\"2023-04-02T00:00:00\",\"2023-04-03T00:00:00\",\"2023-04-04T00:00:00\",\"2023-04-05T00:00:00\",\"2023-04-06T00:00:00\",\"2023-04-07T00:00:00\",\"2023-04-08T00:00:00\",\"2023-04-09T00:00:00\",\"2023-04-10T00:00:00\",\"2023-04-11T00:00:00\",\"2023-04-12T00:00:00\",\"2023-04-13T00:00:00\",\"2023-04-14T00:00:00\",\"2023-04-15T00:00:00\",\"2023-04-16T00:00:00\",\"2023-04-17T00:00:00\",\"2023-04-18T00:00:00\",\"2023-04-19T00:00:00\",\"2023-04-20T00:00:00\",\"2023-04-21T00:00:00\",\"2023-04-22T00:00:00\",\"2023-04-23T00:00:00\",\"2023-04-24T00:00:00\",\"2023-04-25T00:00:00\",\"2023-04-26T00:00:00\",\"2023-04-27T00:00:00\",\"2023-04-28T00:00:00\",\"2023-04-29T00:00:00\",\"2023-04-30T00:00:00\",\"2023-05-01T00:00:00\",\"2023-05-02T00:00:00\",\"2023-05-03T00:00:00\",\"2023-05-04T00:00:00\",\"2023-05-05T00:00:00\",\"2023-05-06T00:00:00\",\"2023-05-07T00:00:00\",\"2023-05-08T00:00:00\",\"2023-05-09T00:00:00\",\"2023-05-10T00:00:00\",\"2023-05-11T00:00:00\",\"2023-05-12T00:00:00\",\"2023-05-13T00:00:00\",\"2023-05-14T00:00:00\",\"2023-05-15T00:00:00\",\"2023-05-16T00:00:00\",\"2023-05-17T00:00:00\",\"2023-05-18T00:00:00\",\"2023-05-19T00:00:00\",\"2023-05-20T00:00:00\",\"2023-05-21T00:00:00\",\"2023-05-22T00:00:00\",\"2023-05-23T00:00:00\",\"2023-05-24T00:00:00\",\"2023-05-25T00:00:00\",\"2023-05-26T00:00:00\",\"2023-05-27T00:00:00\",\"2023-05-28T00:00:00\",\"2023-05-29T00:00:00\",\"2023-05-30T00:00:00\",\"2023-05-31T00:00:00\",\"2023-06-01T00:00:00\",\"2023-06-02T00:00:00\",\"2023-06-03T00:00:00\",\"2023-06-04T00:00:00\",\"2023-06-05T00:00:00\",\"2023-06-06T00:00:00\",\"2023-06-07T00:00:00\",\"2023-06-08T00:00:00\",\"2023-06-09T00:00:00\",\"2023-06-10T00:00:00\",\"2023-06-11T00:00:00\",\"2023-06-12T00:00:00\",\"2023-06-13T00:00:00\",\"2023-06-14T00:00:00\",\"2023-06-15T00:00:00\",\"2023-06-16T00:00:00\",\"2023-06-17T00:00:00\",\"2023-06-18T00:00:00\",\"2023-06-19T00:00:00\",\"2023-06-20T00:00:00\",\"2023-06-21T00:00:00\",\"2023-06-22T00:00:00\",\"2023-06-23T00:00:00\",\"2023-06-24T00:00:00\",\"2023-06-25T00:00:00\",\"2023-06-26T00:00:00\",\"2023-06-27T00:00:00\",\"2023-06-28T00:00:00\",\"2023-06-29T00:00:00\",\"2023-06-30T00:00:00\",\"2023-07-01T00:00:00\",\"2023-07-02T00:00:00\",\"2023-07-03T00:00:00\",\"2023-07-04T00:00:00\",\"2023-07-05T00:00:00\",\"2023-07-06T00:00:00\",\"2023-07-07T00:00:00\",\"2023-07-08T00:00:00\",\"2023-07-09T00:00:00\",\"2023-07-10T00:00:00\",\"2023-07-11T00:00:00\",\"2023-07-12T00:00:00\",\"2023-07-13T00:00:00\",\"2023-07-14T00:00:00\",\"2023-07-15T00:00:00\",\"2023-07-16T00:00:00\",\"2023-07-17T00:00:00\",\"2023-07-18T00:00:00\",\"2023-07-19T00:00:00\",\"2023-07-20T00:00:00\",\"2023-07-21T00:00:00\",\"2023-07-22T00:00:00\",\"2023-07-23T00:00:00\",\"2023-07-24T00:00:00\",\"2023-07-25T00:00:00\",\"2023-07-26T00:00:00\",\"2023-07-27T00:00:00\",\"2023-07-28T00:00:00\",\"2023-07-29T00:00:00\",\"2023-07-30T00:00:00\",\"2023-07-31T00:00:00\",\"2023-08-01T00:00:00\",\"2023-08-02T00:00:00\",\"2023-08-03T00:00:00\",\"2023-08-04T00:00:00\",\"2023-08-05T00:00:00\",\"2023-08-06T00:00:00\",\"2023-08-07T00:00:00\",\"2023-08-08T00:00:00\",\"2023-08-09T00:00:00\",\"2023-08-10T00:00:00\",\"2023-08-11T00:00:00\",\"2023-08-12T00:00:00\",\"2023-08-13T00:00:00\",\"2023-08-14T00:00:00\",\"2023-08-15T00:00:00\",\"2023-08-16T00:00:00\",\"2023-08-17T00:00:00\",\"2023-08-18T00:00:00\",\"2023-08-19T00:00:00\",\"2023-08-20T00:00:00\",\"2023-08-21T00:00:00\",\"2023-08-22T00:00:00\",\"2023-08-23T00:00:00\",\"2023-08-24T00:00:00\",\"2023-08-25T00:00:00\",\"2023-08-26T00:00:00\",\"2023-08-27T00:00:00\",\"2023-08-28T00:00:00\",\"2023-08-29T00:00:00\",\"2023-08-30T00:00:00\",\"2023-08-31T00:00:00\",\"2023-09-01T00:00:00\",\"2023-09-02T00:00:00\",\"2023-09-03T00:00:00\",\"2023-09-04T00:00:00\",\"2023-09-05T00:00:00\",\"2023-09-06T00:00:00\",\"2023-09-07T00:00:00\",\"2023-09-08T00:00:00\",\"2023-09-09T00:00:00\",\"2023-09-10T00:00:00\",\"2023-09-11T00:00:00\",\"2023-09-12T00:00:00\",\"2023-09-13T00:00:00\",\"2023-09-14T00:00:00\",\"2023-09-15T00:00:00\",\"2023-09-16T00:00:00\",\"2023-09-17T00:00:00\",\"2023-09-18T00:00:00\",\"2023-09-19T00:00:00\",\"2023-09-20T00:00:00\",\"2023-09-21T00:00:00\",\"2023-09-22T00:00:00\",\"2023-09-23T00:00:00\",\"2023-09-24T00:00:00\",\"2023-09-25T00:00:00\",\"2023-09-26T00:00:00\",\"2023-09-27T00:00:00\",\"2023-09-28T00:00:00\",\"2023-09-29T00:00:00\",\"2023-09-30T00:00:00\",\"2023-10-01T00:00:00\",\"2023-10-02T00:00:00\",\"2023-10-03T00:00:00\",\"2023-10-04T00:00:00\",\"2023-10-05T00:00:00\",\"2023-10-06T00:00:00\",\"2023-10-07T00:00:00\",\"2023-10-08T00:00:00\",\"2023-10-09T00:00:00\",\"2023-10-10T00:00:00\",\"2023-10-11T00:00:00\",\"2023-10-12T00:00:00\",\"2023-10-13T00:00:00\",\"2023-10-14T00:00:00\",\"2023-10-15T00:00:00\",\"2023-10-16T00:00:00\",\"2023-10-17T00:00:00\",\"2023-10-18T00:00:00\",\"2023-10-19T00:00:00\",\"2023-10-20T00:00:00\",\"2023-10-21T00:00:00\",\"2023-10-22T00:00:00\",\"2023-10-23T00:00:00\",\"2023-10-24T00:00:00\",\"2023-10-25T00:00:00\",\"2023-10-26T00:00:00\",\"2023-10-27T00:00:00\",\"2023-10-28T00:00:00\",\"2023-10-29T00:00:00\",\"2023-10-30T00:00:00\",\"2023-10-31T00:00:00\",\"2023-11-01T00:00:00\",\"2023-11-02T00:00:00\",\"2023-11-03T00:00:00\",\"2023-11-04T00:00:00\",\"2023-11-05T00:00:00\",\"2023-11-06T00:00:00\",\"2023-11-07T00:00:00\",\"2023-11-08T00:00:00\",\"2023-11-09T00:00:00\",\"2023-11-10T00:00:00\",\"2023-11-11T00:00:00\",\"2023-11-12T00:00:00\",\"2023-11-13T00:00:00\",\"2023-11-14T00:00:00\",\"2023-11-15T00:00:00\",\"2023-11-16T00:00:00\",\"2023-11-17T00:00:00\",\"2023-11-18T00:00:00\",\"2023-11-19T00:00:00\",\"2023-11-20T00:00:00\",\"2023-11-21T00:00:00\",\"2023-11-22T00:00:00\",\"2023-11-23T00:00:00\",\"2023-11-24T00:00:00\",\"2023-11-25T00:00:00\",\"2023-11-26T00:00:00\",\"2023-11-27T00:00:00\",\"2023-11-28T00:00:00\",\"2023-11-29T00:00:00\",\"2023-11-30T00:00:00\",\"2023-12-01T00:00:00\",\"2023-12-02T00:00:00\",\"2023-12-03T00:00:00\",\"2023-12-04T00:00:00\",\"2023-12-05T00:00:00\",\"2023-12-06T00:00:00\",\"2023-12-07T00:00:00\",\"2023-12-08T00:00:00\",\"2023-12-09T00:00:00\",\"2023-12-10T00:00:00\",\"2023-12-11T00:00:00\",\"2023-12-12T00:00:00\",\"2023-12-13T00:00:00\",\"2023-12-14T00:00:00\",\"2023-12-15T00:00:00\",\"2023-12-16T00:00:00\",\"2023-12-17T00:00:00\",\"2023-12-18T00:00:00\",\"2023-12-19T00:00:00\",\"2023-12-20T00:00:00\",\"2023-12-21T00:00:00\",\"2023-12-22T00:00:00\",\"2023-12-23T00:00:00\",\"2023-12-24T00:00:00\",\"2023-12-25T00:00:00\",\"2023-12-26T00:00:00\",\"2023-12-27T00:00:00\",\"2023-12-28T00:00:00\",\"2023-12-29T00:00:00\",\"2023-12-30T00:00:00\",\"2023-12-31T00:00:00\"],\"y\":[27,20,23,16,28,22,26,18,15,13,13,13,14,13,17,12,13,14,14,29,20,24,20,25,16,15,15,12,13,14,12,10,13,11,20,22,20,24,32,23,20,21,18,17,19,14,13,15,16,11,11,15,11,27,25,21,22,23,17,17,12,11,10,13,12,12,12,8,19,22,19,23,22,24,22,20,24,17,26,13,15,11,11,12,21,12,13,22,23,16,16,16,12,16,14,13,10,14,11,12,9,11,12,24,14,12,23,24,22,15,21,16,22,18,18,9,14,9,20,15,12,19,19,13,17,13,11,11,15,8,11,8,12,10,8,8,13,18,18,10,15,21,20,20,14,22,14,21,16,15,13,10,13,22,13,15,22,16,17,10,12,13,12,10,12,8,12,9,10,9,10,14,22,12,13,18,16,20,19,14,15,16,15,12,12,10,11,20,12,16,14,20,14,10,10,12,8,10,5,10,8,9,6,7,12,11,14,15,8,13,19,19,12,13,20,13,12,10,11,13,13,17,12,16,17,17,23,11,9,14,7,9,6,12,8,9,5,8,8,14,14,12,9,12,14,24,11,9,19,9,16,11,7,11,10,16,13,21,15,21,22,14,10,14,8,10,5,9,7,7,7,4,7,7,14,9,11,7,14,15,16,8,14,10,11,12,7,5,10,12,13,15,12,18,18,14,10,12,8,7,5,8,7,9,8,5,9,6,8,12,11,4,17,16,14,9,12,10,9,9,5,10,9,5,15,15,16,16,22,10,15,11,12,7,6,6,8,10,6,7,8,6,6,14,10,9,10,15,17,14,11,10,7,7,7,7,7,8,11,16,16,15,15,18,17],\"type\":\"scatter\"}],                        {\"height\":500,\"showlegend\":false,\"title\":{\"text\":\"Daily Transaction Trends\"},\"width\":1100,\"xaxis\":{\"title\":{\"text\":\"Date\"}},\"yaxis\":{\"title\":{\"text\":\"Number of Transactions\"}},\"template\":{\"data\":{\"histogram2dcontour\":[{\"type\":\"histogram2dcontour\",\"colorbar\":{\"outlinewidth\":0,\"ticks\":\"\"},\"colorscale\":[[0.0,\"#0d0887\"],[0.1111111111111111,\"#46039f\"],[0.2222222222222222,\"#7201a8\"],[0.3333333333333333,\"#9c179e\"],[0.4444444444444444,\"#bd3786\"],[0.5555555555555556,\"#d8576b\"],[0.6666666666666666,\"#ed7953\"],[0.7777777777777778,\"#fb9f3a\"],[0.8888888888888888,\"#fdca26\"],[1.0,\"#f0f921\"]]}],\"choropleth\":[{\"type\":\"choropleth\",\"colorbar\":{\"outlinewidth\":0,\"ticks\":\"\"}}],\"histogram2d\":[{\"type\":\"histogram2d\",\"colorbar\":{\"outlinewidth\":0,\"ticks\":\"\"},\"colorscale\":[[0.0,\"#0d0887\"],[0.1111111111111111,\"#46039f\"],[0.2222222222222222,\"#7201a8\"],[0.3333333333333333,\"#9c179e\"],[0.4444444444444444,\"#bd3786\"],[0.5555555555555556,\"#d8576b\"],[0.6666666666666666,\"#ed7953\"],[0.7777777777777778,\"#fb9f3a\"],[0.8888888888888888,\"#fdca26\"],[1.0,\"#f0f921\"]]}],\"heatmap\":[{\"type\":\"heatmap\",\"colorbar\":{\"outlinewidth\":0,\"ticks\":\"\"},\"colorscale\":[[0.0,\"#0d0887\"],[0.1111111111111111,\"#46039f\"],[0.2222222222222222,\"#7201a8\"],[0.3333333333333333,\"#9c179e\"],[0.4444444444444444,\"#bd3786\"],[0.5555555555555556,\"#d8576b\"],[0.6666666666666666,\"#ed7953\"],[0.7777777777777778,\"#fb9f3a\"],[0.8888888888888888,\"#fdca26\"],[1.0,\"#f0f921\"]]}],\"heatmapgl\":[{\"type\":\"heatmapgl\",\"colorbar\":{\"outlinewidth\":0,\"ticks\":\"\"},\"colorscale\":[[0.0,\"#0d0887\"],[0.1111111111111111,\"#46039f\"],[0.2222222222222222,\"#7201a8\"],[0.3333333333333333,\"#9c179e\"],[0.4444444444444444,\"#bd3786\"],[0.5555555555555556,\"#d8576b\"],[0.6666666666666666,\"#ed7953\"],[0.7777777777777778,\"#fb9f3a\"],[0.8888888888888888,\"#fdca26\"],[1.0,\"#f0f921\"]]}],\"contourcarpet\":[{\"type\":\"contourcarpet\",\"colorbar\":{\"outlinewidth\":0,\"ticks\":\"\"}}],\"contour\":[{\"type\":\"contour\",\"colorbar\":{\"outlinewidth\":0,\"ticks\":\"\"},\"colorscale\":[[0.0,\"#0d0887\"],[0.1111111111111111,\"#46039f\"],[0.2222222222222222,\"#7201a8\"],[0.3333333333333333,\"#9c179e\"],[0.4444444444444444,\"#bd3786\"],[0.5555555555555556,\"#d8576b\"],[0.6666666666666666,\"#ed7953\"],[0.7777777777777778,\"#fb9f3a\"],[0.8888888888888888,\"#fdca26\"],[1.0,\"#f0f921\"]]}],\"surface\":[{\"type\":\"surface\",\"colorbar\":{\"outlinewidth\":0,\"ticks\":\"\"},\"colorscale\":[[0.0,\"#0d0887\"],[0.1111111111111111,\"#46039f\"],[0.2222222222222222,\"#7201a8\"],[0.3333333333333333,\"#9c179e\"],[0.4444444444444444,\"#bd3786\"],[0.5555555555555556,\"#d8576b\"],[0.6666666666666666,\"#ed7953\"],[0.7777777777777778,\"#fb9f3a\"],[0.8888888888888888,\"#fdca26\"],[1.0,\"#f0f921\"]]}],\"mesh3d\":[{\"type\":\"mesh3d\",\"colorbar\":{\"outlinewidth\":0,\"ticks\":\"\"}}],\"scatter\":[{\"fillpattern\":{\"fillmode\":\"overlay\",\"size\":10,\"solidity\":0.2},\"type\":\"scatter\"}],\"parcoords\":[{\"type\":\"parcoords\",\"line\":{\"colorbar\":{\"outlinewidth\":0,\"ticks\":\"\"}}}],\"scatterpolargl\":[{\"type\":\"scatterpolargl\",\"marker\":{\"colorbar\":{\"outlinewidth\":0,\"ticks\":\"\"}}}],\"bar\":[{\"error_x\":{\"color\":\"#2a3f5f\"},\"error_y\":{\"color\":\"#2a3f5f\"},\"marker\":{\"line\":{\"color\":\"#E5ECF6\",\"width\":0.5},\"pattern\":{\"fillmode\":\"overlay\",\"size\":10,\"solidity\":0.2}},\"type\":\"bar\"}],\"scattergeo\":[{\"type\":\"scattergeo\",\"marker\":{\"colorbar\":{\"outlinewidth\":0,\"ticks\":\"\"}}}],\"scatterpolar\":[{\"type\":\"scatterpolar\",\"marker\":{\"colorbar\":{\"outlinewidth\":0,\"ticks\":\"\"}}}],\"histogram\":[{\"marker\":{\"pattern\":{\"fillmode\":\"overlay\",\"size\":10,\"solidity\":0.2}},\"type\":\"histogram\"}],\"scattergl\":[{\"type\":\"scattergl\",\"marker\":{\"colorbar\":{\"outlinewidth\":0,\"ticks\":\"\"}}}],\"scatter3d\":[{\"type\":\"scatter3d\",\"line\":{\"colorbar\":{\"outlinewidth\":0,\"ticks\":\"\"}},\"marker\":{\"colorbar\":{\"outlinewidth\":0,\"ticks\":\"\"}}}],\"scattermapbox\":[{\"type\":\"scattermapbox\",\"marker\":{\"colorbar\":{\"outlinewidth\":0,\"ticks\":\"\"}}}],\"scatterternary\":[{\"type\":\"scatterternary\",\"marker\":{\"colorbar\":{\"outlinewidth\":0,\"ticks\":\"\"}}}],\"scattercarpet\":[{\"type\":\"scattercarpet\",\"marker\":{\"colorbar\":{\"outlinewidth\":0,\"ticks\":\"\"}}}],\"carpet\":[{\"aaxis\":{\"endlinecolor\":\"#2a3f5f\",\"gridcolor\":\"white\",\"linecolor\":\"white\",\"minorgridcolor\":\"white\",\"startlinecolor\":\"#2a3f5f\"},\"baxis\":{\"endlinecolor\":\"#2a3f5f\",\"gridcolor\":\"white\",\"linecolor\":\"white\",\"minorgridcolor\":\"white\",\"startlinecolor\":\"#2a3f5f\"},\"type\":\"carpet\"}],\"table\":[{\"cells\":{\"fill\":{\"color\":\"#EBF0F8\"},\"line\":{\"color\":\"white\"}},\"header\":{\"fill\":{\"color\":\"#C8D4E3\"},\"line\":{\"color\":\"white\"}},\"type\":\"table\"}],\"barpolar\":[{\"marker\":{\"line\":{\"color\":\"#E5ECF6\",\"width\":0.5},\"pattern\":{\"fillmode\":\"overlay\",\"size\":10,\"solidity\":0.2}},\"type\":\"barpolar\"}],\"pie\":[{\"automargin\":true,\"type\":\"pie\"}]},\"layout\":{\"autotypenumbers\":\"strict\",\"colorway\":[\"#636efa\",\"#EF553B\",\"#00cc96\",\"#ab63fa\",\"#FFA15A\",\"#19d3f3\",\"#FF6692\",\"#B6E880\",\"#FF97FF\",\"#FECB52\"],\"font\":{\"color\":\"#2a3f5f\"},\"hovermode\":\"closest\",\"hoverlabel\":{\"align\":\"left\"},\"paper_bgcolor\":\"white\",\"plot_bgcolor\":\"#E5ECF6\",\"polar\":{\"bgcolor\":\"#E5ECF6\",\"angularaxis\":{\"gridcolor\":\"white\",\"linecolor\":\"white\",\"ticks\":\"\"},\"radialaxis\":{\"gridcolor\":\"white\",\"linecolor\":\"white\",\"ticks\":\"\"}},\"ternary\":{\"bgcolor\":\"#E5ECF6\",\"aaxis\":{\"gridcolor\":\"white\",\"linecolor\":\"white\",\"ticks\":\"\"},\"baxis\":{\"gridcolor\":\"white\",\"linecolor\":\"white\",\"ticks\":\"\"},\"caxis\":{\"gridcolor\":\"white\",\"linecolor\":\"white\",\"ticks\":\"\"}},\"coloraxis\":{\"colorbar\":{\"outlinewidth\":0,\"ticks\":\"\"}},\"colorscale\":{\"sequential\":[[0.0,\"#0d0887\"],[0.1111111111111111,\"#46039f\"],[0.2222222222222222,\"#7201a8\"],[0.3333333333333333,\"#9c179e\"],[0.4444444444444444,\"#bd3786\"],[0.5555555555555556,\"#d8576b\"],[0.6666666666666666,\"#ed7953\"],[0.7777777777777778,\"#fb9f3a\"],[0.8888888888888888,\"#fdca26\"],[1.0,\"#f0f921\"]],\"sequentialminus\":[[0.0,\"#0d0887\"],[0.1111111111111111,\"#46039f\"],[0.2222222222222222,\"#7201a8\"],[0.3333333333333333,\"#9c179e\"],[0.4444444444444444,\"#bd3786\"],[0.5555555555555556,\"#d8576b\"],[0.6666666666666666,\"#ed7953\"],[0.7777777777777778,\"#fb9f3a\"],[0.8888888888888888,\"#fdca26\"],[1.0,\"#f0f921\"]],\"diverging\":[[0,\"#8e0152\"],[0.1,\"#c51b7d\"],[0.2,\"#de77ae\"],[0.3,\"#f1b6da\"],[0.4,\"#fde0ef\"],[0.5,\"#f7f7f7\"],[0.6,\"#e6f5d0\"],[0.7,\"#b8e186\"],[0.8,\"#7fbc41\"],[0.9,\"#4d9221\"],[1,\"#276419\"]]},\"xaxis\":{\"gridcolor\":\"white\",\"linecolor\":\"white\",\"ticks\":\"\",\"title\":{\"standoff\":15},\"zerolinecolor\":\"white\",\"automargin\":true,\"zerolinewidth\":2},\"yaxis\":{\"gridcolor\":\"white\",\"linecolor\":\"white\",\"ticks\":\"\",\"title\":{\"standoff\":15},\"zerolinecolor\":\"white\",\"automargin\":true,\"zerolinewidth\":2},\"scene\":{\"xaxis\":{\"backgroundcolor\":\"#E5ECF6\",\"gridcolor\":\"white\",\"linecolor\":\"white\",\"showbackground\":true,\"ticks\":\"\",\"zerolinecolor\":\"white\",\"gridwidth\":2},\"yaxis\":{\"backgroundcolor\":\"#E5ECF6\",\"gridcolor\":\"white\",\"linecolor\":\"white\",\"showbackground\":true,\"ticks\":\"\",\"zerolinecolor\":\"white\",\"gridwidth\":2},\"zaxis\":{\"backgroundcolor\":\"#E5ECF6\",\"gridcolor\":\"white\",\"linecolor\":\"white\",\"showbackground\":true,\"ticks\":\"\",\"zerolinecolor\":\"white\",\"gridwidth\":2}},\"shapedefaults\":{\"line\":{\"color\":\"#2a3f5f\"}},\"annotationdefaults\":{\"arrowcolor\":\"#2a3f5f\",\"arrowhead\":0,\"arrowwidth\":1},\"geo\":{\"bgcolor\":\"white\",\"landcolor\":\"#E5ECF6\",\"subunitcolor\":\"white\",\"showland\":true,\"showlakes\":true,\"lakecolor\":\"white\"},\"title\":{\"x\":0.05},\"mapbox\":{\"style\":\"light\"}}}},                        {\"responsive\": true}                    ).then(function(){\n",
       "                            \n",
       "var gd = document.getElementById('a86a13c7-ffd5-415e-afa6-1585cc45d8e7');\n",
       "var x = new MutationObserver(function (mutations, observer) {{\n",
       "        var display = window.getComputedStyle(gd).display;\n",
       "        if (!display || display === 'none') {{\n",
       "            console.log([gd, 'removed!']);\n",
       "            Plotly.purge(gd);\n",
       "            observer.disconnect();\n",
       "        }}\n",
       "}});\n",
       "\n",
       "// Listen for the removal of the full notebook cells\n",
       "var notebookContainer = gd.closest('#notebook-container');\n",
       "if (notebookContainer) {{\n",
       "    x.observe(notebookContainer, {childList: true});\n",
       "}}\n",
       "\n",
       "// Listen for the clearing of the current output cell\n",
       "var outputEl = gd.closest('.output');\n",
       "if (outputEl) {{\n",
       "    x.observe(outputEl, {childList: true});\n",
       "}}\n",
       "\n",
       "                        })                };                });            </script>        </div>"
      ]
     },
     "metadata": {},
     "output_type": "display_data"
    }
   ],
   "source": [
    "eda_df['Timestamp'] = pd.to_datetime(eda_df['Timestamp'])\n",
    "\n",
    "daily_trends = eda_df.resample('D', on='Timestamp')['Transaction_ID'].count()\n",
    "line_plot = go.Scatter(x=daily_trends.index, y=daily_trends.values, mode='lines')\n",
    "\n",
    "layout = go.Layout(title='Daily Transaction Trends',\n",
    "                   xaxis=dict(title='Date'),\n",
    "                   yaxis=dict(title='Number of Transactions'),\n",
    "                   showlegend=False,\n",
    "                   height=500,  # Adjust height\n",
    "                   width=1100)\n",
    "\n",
    "fig = go.Figure(data=[line_plot], layout=layout)\n",
    "fig.show()"
   ]
  },
  {
   "cell_type": "markdown",
   "id": "aba40060-7293-4096-b348-3635a4d5f5c7",
   "metadata": {},
   "source": [
    "### I discovered that there's extra space following the `bus` value in the `vehicle_type` column. Therefore, we'll eliminate it."
   ]
  },
  {
   "cell_type": "code",
   "execution_count": 71,
   "id": "28f58e59-fe90-4059-8ed0-cfa37f2e4d4f",
   "metadata": {},
   "outputs": [],
   "source": [
    "df['Vehicle_Type'] = df['Vehicle_Type'].str.strip()"
   ]
  },
  {
   "attachments": {},
   "cell_type": "markdown",
   "id": "d85a15fd-0929-4113-9a46-e1bc3e515cba",
   "metadata": {},
   "source": [
    "### Binary encoding for `vehicle_Type` and `TollBoothID` columns"
   ]
  },
  {
   "cell_type": "code",
   "execution_count": 72,
   "id": "2e6b0e2a-35ed-4d5b-8c65-f96cad04dfe4",
   "metadata": {},
   "outputs": [
    {
     "data": {
      "text/plain": [
       "array(['Bus', 'Car', 'Motorcycle', 'Truck', 'Van', 'Sedan', 'SUV'],\n",
       "      dtype=object)"
      ]
     },
     "execution_count": 72,
     "metadata": {},
     "output_type": "execute_result"
    }
   ],
   "source": [
    "df['Vehicle_Type'].unique()"
   ]
  },
  {
   "cell_type": "code",
   "execution_count": 73,
   "id": "25126ead-2495-486f-aecc-b70e92db8e46",
   "metadata": {},
   "outputs": [],
   "source": [
    "vehicle_types = ['Bus', 'Car', 'Motorcycle', 'Truck', 'Van', 'Sedan', 'SUV']\n",
    "for vehicle_type in vehicle_types:\n",
    "    df['is_' + vehicle_type] = (df['Vehicle_Type'] == vehicle_type).astype(int)\n",
    "\n",
    "# Drop the original Vehicle_Type column\n",
    "df.drop('Vehicle_Type', axis=1, inplace=True)"
   ]
  },
  {
   "cell_type": "code",
   "execution_count": 74,
   "id": "dc227012-a1a5-4613-b342-999b59c4211f",
   "metadata": {},
   "outputs": [
    {
     "data": {
      "text/plain": [
       "array(['A-101', 'B-102', 'D-104', 'C-103', 'D-105', 'D-106'], dtype=object)"
      ]
     },
     "execution_count": 74,
     "metadata": {},
     "output_type": "execute_result"
    }
   ],
   "source": [
    "df['TollBoothID'].unique()"
   ]
  },
  {
   "cell_type": "code",
   "execution_count": 75,
   "id": "3da797d4-2032-42c5-9b20-7798b566c7bf",
   "metadata": {},
   "outputs": [],
   "source": [
    "TollBoothIDs = ['A-101', 'B-102', 'D-104', 'C-103', 'D-105', 'D-106']\n",
    "for TollBoothID in TollBoothIDs:\n",
    "    df['is_' + TollBoothID] = (df['TollBoothID'] == TollBoothID).astype(int)\n",
    "\n",
    "# Drop the original Vehicle_Type column\n",
    "df.drop('TollBoothID', axis=1, inplace=True)"
   ]
  },
  {
   "cell_type": "markdown",
   "id": "dda1868e-a466-4c34-b6be-261b578975b5",
   "metadata": {},
   "source": [
    "###  `Geographical_Location` column is to split it into two separate columns representing latitude and longitude."
   ]
  },
  {
   "cell_type": "code",
   "execution_count": 76,
   "id": "6487c307-6804-48db-bc61-1a559108d826",
   "metadata": {},
   "outputs": [
    {
     "data": {
      "text/plain": [
       "array(['13.059816123454882, 77.77068662374292',\n",
       "       '13.042660878688794, 77.47580097259879',\n",
       "       '12.84197701525119, 77.67547528176169',\n",
       "       '12.936687032945434, 77.53113977439017',\n",
       "       '13.21331620748757, 77.55413526894684'], dtype=object)"
      ]
     },
     "execution_count": 76,
     "metadata": {},
     "output_type": "execute_result"
    }
   ],
   "source": [
    "df['Geographical_Location'].unique()"
   ]
  },
  {
   "cell_type": "code",
   "execution_count": 77,
   "id": "d63fdef3-9a08-495c-a948-f7302c3b320e",
   "metadata": {},
   "outputs": [],
   "source": [
    "df[['Latitude', 'Longitude']] = df['Geographical_Location'].str.split(',', expand=True)\n",
    "\n",
    "# Convert latitude and longitude columns to numeric type\n",
    "df['Latitude'] = pd.to_numeric(df['Latitude'])\n",
    "df['Longitude'] = pd.to_numeric(df['Longitude'])\n",
    "\n",
    "# Drop the original Geographical_Location column\n",
    "df.drop('Geographical_Location', axis=1, inplace=True)"
   ]
  },
  {
   "cell_type": "code",
   "execution_count": 78,
   "id": "a3756c62-7dd8-4219-a3fe-02a7d3247520",
   "metadata": {},
   "outputs": [
    {
     "data": {
      "text/plain": [
       "array([77.77068662, 77.47580097, 77.67547528, 77.53113977, 77.55413527])"
      ]
     },
     "execution_count": 78,
     "metadata": {},
     "output_type": "execute_result"
    }
   ],
   "source": [
    "df['Longitude'].unique()"
   ]
  },
  {
   "cell_type": "code",
   "execution_count": 79,
   "id": "9301a34b-fff2-4491-a7ed-8b8e7dbdf8d8",
   "metadata": {},
   "outputs": [
    {
     "data": {
      "text/plain": [
       "array([13.05981612, 13.04266088, 12.84197702, 12.93668703, 13.21331621])"
      ]
     },
     "execution_count": 79,
     "metadata": {},
     "output_type": "execute_result"
    }
   ],
   "source": [
    "df['Latitude'].unique()"
   ]
  },
  {
   "cell_type": "markdown",
   "id": "c9a02a9a-9dcf-4feb-9f93-cccd4ae0522e",
   "metadata": {},
   "source": [
    "### Convert categorical labels into numerical representations and binary indicator variables"
   ]
  },
  {
   "cell_type": "code",
   "execution_count": 80,
   "id": "f8c2771e-5994-4c44-84e7-f40c4ca8a40d",
   "metadata": {},
   "outputs": [],
   "source": [
    "df['Vehicle_Dimensions'] = df['Vehicle_Dimensions'].map({'Large': 3, 'Medium': 2, 'Small': 1})"
   ]
  },
  {
   "cell_type": "code",
   "execution_count": 81,
   "id": "fd892aaf-bc10-4550-84e7-949748f14c38",
   "metadata": {},
   "outputs": [],
   "source": [
    "# Convert categorical labels into numerical representations\n",
    "df['Fraud'] = df['Fraud_indicator'].map({'Fraud': 1, 'Not Fraud': 0})\n",
    "\n",
    "# Drop the original Fraud_indicator column\n",
    "df.drop('Fraud_indicator', axis=1, inplace=True)"
   ]
  },
  {
   "cell_type": "code",
   "execution_count": 82,
   "id": "3f2fbd0b-400c-4359-897d-8ebc76f01364",
   "metadata": {},
   "outputs": [],
   "source": [
    "# Convert categorical values into binary indicator variables\n",
    "df['Express_Lane'] = df['Lane_Type'].apply(lambda x: 1 if x == 'Express' else 0)\n",
    "df['Regular_Lane'] = df['Lane_Type'].apply(lambda x: 1 if x == 'Regular' else 0)\n",
    "\n",
    "# Drop the original Lane_Type column\n",
    "df.drop('Lane_Type', axis=1, inplace=True)"
   ]
  },
  {
   "cell_type": "markdown",
   "id": "4058dd6e-5629-441c-be51-6b0e9ac71ce0",
   "metadata": {},
   "source": [
    "### Removing unnecessary columns"
   ]
  },
  {
   "cell_type": "code",
   "execution_count": 83,
   "id": "8d11b3d1-c43f-4ff7-b28d-5438a85e5b7c",
   "metadata": {},
   "outputs": [],
   "source": [
    "df.drop(['FastagID', 'Transaction_ID','State_code','Timestamp'], axis=1, inplace=True)"
   ]
  },
  {
   "cell_type": "code",
   "execution_count": 84,
   "id": "301fd980-6a97-4c00-a7a0-0f623252bb07",
   "metadata": {},
   "outputs": [
    {
     "data": {
      "text/html": [
       "<div>\n",
       "<style scoped>\n",
       "    .dataframe tbody tr th:only-of-type {\n",
       "        vertical-align: middle;\n",
       "    }\n",
       "\n",
       "    .dataframe tbody tr th {\n",
       "        vertical-align: top;\n",
       "    }\n",
       "\n",
       "    .dataframe thead th {\n",
       "        text-align: right;\n",
       "    }\n",
       "</style>\n",
       "<table border=\"1\" class=\"dataframe\">\n",
       "  <thead>\n",
       "    <tr style=\"text-align: right;\">\n",
       "      <th></th>\n",
       "      <th>data type</th>\n",
       "      <th>percent missing</th>\n",
       "      <th>No. unique</th>\n",
       "      <th>unique values</th>\n",
       "    </tr>\n",
       "  </thead>\n",
       "  <tbody>\n",
       "    <tr>\n",
       "      <th>is_Sedan</th>\n",
       "      <td>int32</td>\n",
       "      <td>0.0</td>\n",
       "      <td>2</td>\n",
       "      <td>[0, 1]</td>\n",
       "    </tr>\n",
       "    <tr>\n",
       "      <th>is_D-106</th>\n",
       "      <td>int32</td>\n",
       "      <td>0.0</td>\n",
       "      <td>2</td>\n",
       "      <td>[0, 1]</td>\n",
       "    </tr>\n",
       "    <tr>\n",
       "      <th>is_D-105</th>\n",
       "      <td>int32</td>\n",
       "      <td>0.0</td>\n",
       "      <td>2</td>\n",
       "      <td>[0, 1]</td>\n",
       "    </tr>\n",
       "    <tr>\n",
       "      <th>Hour</th>\n",
       "      <td>int32</td>\n",
       "      <td>0.0</td>\n",
       "      <td>24</td>\n",
       "      <td>[11, 14, 18, 2, 6, 10, 15, 20, 1, 7, 12, 17, 2...</td>\n",
       "    </tr>\n",
       "    <tr>\n",
       "      <th>Month</th>\n",
       "      <td>int32</td>\n",
       "      <td>0.0</td>\n",
       "      <td>12</td>\n",
       "      <td>[1, 2, 3, 4, 5, 6, 8, 9, 10, 7, 11, 12]</td>\n",
       "    </tr>\n",
       "    <tr>\n",
       "      <th>is_Bus</th>\n",
       "      <td>int32</td>\n",
       "      <td>0.0</td>\n",
       "      <td>2</td>\n",
       "      <td>[1, 0]</td>\n",
       "    </tr>\n",
       "    <tr>\n",
       "      <th>is_Car</th>\n",
       "      <td>int32</td>\n",
       "      <td>0.0</td>\n",
       "      <td>2</td>\n",
       "      <td>[0, 1]</td>\n",
       "    </tr>\n",
       "    <tr>\n",
       "      <th>is_Motorcycle</th>\n",
       "      <td>int32</td>\n",
       "      <td>0.0</td>\n",
       "      <td>2</td>\n",
       "      <td>[0, 1]</td>\n",
       "    </tr>\n",
       "    <tr>\n",
       "      <th>is_Truck</th>\n",
       "      <td>int32</td>\n",
       "      <td>0.0</td>\n",
       "      <td>2</td>\n",
       "      <td>[0, 1]</td>\n",
       "    </tr>\n",
       "    <tr>\n",
       "      <th>is_Van</th>\n",
       "      <td>int32</td>\n",
       "      <td>0.0</td>\n",
       "      <td>2</td>\n",
       "      <td>[0, 1]</td>\n",
       "    </tr>\n",
       "    <tr>\n",
       "      <th>is_C-103</th>\n",
       "      <td>int32</td>\n",
       "      <td>0.0</td>\n",
       "      <td>2</td>\n",
       "      <td>[0, 1]</td>\n",
       "    </tr>\n",
       "    <tr>\n",
       "      <th>is_SUV</th>\n",
       "      <td>int32</td>\n",
       "      <td>0.0</td>\n",
       "      <td>2</td>\n",
       "      <td>[0, 1]</td>\n",
       "    </tr>\n",
       "    <tr>\n",
       "      <th>is_A-101</th>\n",
       "      <td>int32</td>\n",
       "      <td>0.0</td>\n",
       "      <td>2</td>\n",
       "      <td>[1, 0]</td>\n",
       "    </tr>\n",
       "    <tr>\n",
       "      <th>is_B-102</th>\n",
       "      <td>int32</td>\n",
       "      <td>0.0</td>\n",
       "      <td>2</td>\n",
       "      <td>[0, 1]</td>\n",
       "    </tr>\n",
       "    <tr>\n",
       "      <th>is_D-104</th>\n",
       "      <td>int32</td>\n",
       "      <td>0.0</td>\n",
       "      <td>2</td>\n",
       "      <td>[0, 1]</td>\n",
       "    </tr>\n",
       "    <tr>\n",
       "      <th>Fraud</th>\n",
       "      <td>int64</td>\n",
       "      <td>0.0</td>\n",
       "      <td>2</td>\n",
       "      <td>[1, 0]</td>\n",
       "    </tr>\n",
       "    <tr>\n",
       "      <th>Vehicle_Dimensions</th>\n",
       "      <td>int64</td>\n",
       "      <td>0.0</td>\n",
       "      <td>3</td>\n",
       "      <td>[3, 1, 2]</td>\n",
       "    </tr>\n",
       "    <tr>\n",
       "      <th>Vehicle_Speed</th>\n",
       "      <td>int64</td>\n",
       "      <td>0.0</td>\n",
       "      <td>85</td>\n",
       "      <td>[65, 78, 53, 92, 60, 105, 70, 88, 45, 72, 58, ...</td>\n",
       "    </tr>\n",
       "    <tr>\n",
       "      <th>Amount_paid</th>\n",
       "      <td>int64</td>\n",
       "      <td>0.0</td>\n",
       "      <td>23</td>\n",
       "      <td>[120, 100, 0, 160, 90, 180, 350, 140, 110, 60,...</td>\n",
       "    </tr>\n",
       "    <tr>\n",
       "      <th>Transaction_Amount</th>\n",
       "      <td>int64</td>\n",
       "      <td>0.0</td>\n",
       "      <td>20</td>\n",
       "      <td>[350, 120, 0, 140, 160, 180, 290, 110, 100, 13...</td>\n",
       "    </tr>\n",
       "    <tr>\n",
       "      <th>Express_Lane</th>\n",
       "      <td>int64</td>\n",
       "      <td>0.0</td>\n",
       "      <td>2</td>\n",
       "      <td>[1, 0]</td>\n",
       "    </tr>\n",
       "    <tr>\n",
       "      <th>Regular_Lane</th>\n",
       "      <td>int64</td>\n",
       "      <td>0.0</td>\n",
       "      <td>2</td>\n",
       "      <td>[0, 1]</td>\n",
       "    </tr>\n",
       "    <tr>\n",
       "      <th>Latitude</th>\n",
       "      <td>float64</td>\n",
       "      <td>0.0</td>\n",
       "      <td>5</td>\n",
       "      <td>[13.059816123454882, 13.042660878688794, 12.84...</td>\n",
       "    </tr>\n",
       "    <tr>\n",
       "      <th>Longitude</th>\n",
       "      <td>float64</td>\n",
       "      <td>0.0</td>\n",
       "      <td>5</td>\n",
       "      <td>[77.77068662374292, 77.47580097259879, 77.6754...</td>\n",
       "    </tr>\n",
       "  </tbody>\n",
       "</table>\n",
       "</div>"
      ],
      "text/plain": [
       "                   data type  percent missing  No. unique  \\\n",
       "is_Sedan               int32              0.0           2   \n",
       "is_D-106               int32              0.0           2   \n",
       "is_D-105               int32              0.0           2   \n",
       "Hour                   int32              0.0          24   \n",
       "Month                  int32              0.0          12   \n",
       "is_Bus                 int32              0.0           2   \n",
       "is_Car                 int32              0.0           2   \n",
       "is_Motorcycle          int32              0.0           2   \n",
       "is_Truck               int32              0.0           2   \n",
       "is_Van                 int32              0.0           2   \n",
       "is_C-103               int32              0.0           2   \n",
       "is_SUV                 int32              0.0           2   \n",
       "is_A-101               int32              0.0           2   \n",
       "is_B-102               int32              0.0           2   \n",
       "is_D-104               int32              0.0           2   \n",
       "Fraud                  int64              0.0           2   \n",
       "Vehicle_Dimensions     int64              0.0           3   \n",
       "Vehicle_Speed          int64              0.0          85   \n",
       "Amount_paid            int64              0.0          23   \n",
       "Transaction_Amount     int64              0.0          20   \n",
       "Express_Lane           int64              0.0           2   \n",
       "Regular_Lane           int64              0.0           2   \n",
       "Latitude             float64              0.0           5   \n",
       "Longitude            float64              0.0           5   \n",
       "\n",
       "                                                        unique values  \n",
       "is_Sedan                                                       [0, 1]  \n",
       "is_D-106                                                       [0, 1]  \n",
       "is_D-105                                                       [0, 1]  \n",
       "Hour                [11, 14, 18, 2, 6, 10, 15, 20, 1, 7, 12, 17, 2...  \n",
       "Month                         [1, 2, 3, 4, 5, 6, 8, 9, 10, 7, 11, 12]  \n",
       "is_Bus                                                         [1, 0]  \n",
       "is_Car                                                         [0, 1]  \n",
       "is_Motorcycle                                                  [0, 1]  \n",
       "is_Truck                                                       [0, 1]  \n",
       "is_Van                                                         [0, 1]  \n",
       "is_C-103                                                       [0, 1]  \n",
       "is_SUV                                                         [0, 1]  \n",
       "is_A-101                                                       [1, 0]  \n",
       "is_B-102                                                       [0, 1]  \n",
       "is_D-104                                                       [0, 1]  \n",
       "Fraud                                                          [1, 0]  \n",
       "Vehicle_Dimensions                                          [3, 1, 2]  \n",
       "Vehicle_Speed       [65, 78, 53, 92, 60, 105, 70, 88, 45, 72, 58, ...  \n",
       "Amount_paid         [120, 100, 0, 160, 90, 180, 350, 140, 110, 60,...  \n",
       "Transaction_Amount  [350, 120, 0, 140, 160, 180, 290, 110, 100, 13...  \n",
       "Express_Lane                                                   [1, 0]  \n",
       "Regular_Lane                                                   [0, 1]  \n",
       "Latitude            [13.059816123454882, 13.042660878688794, 12.84...  \n",
       "Longitude           [77.77068662374292, 77.47580097259879, 77.6754...  "
      ]
     },
     "execution_count": 84,
     "metadata": {},
     "output_type": "execute_result"
    }
   ],
   "source": [
    "explore(df)"
   ]
  },
  {
   "cell_type": "markdown",
   "id": "818571c8-21d7-47aa-b7a9-699dba709b3e",
   "metadata": {},
   "source": [
    "#### Exporting data for model depolyment script"
   ]
  },
  {
   "cell_type": "code",
   "execution_count": 85,
   "id": "eb452f29-ca2b-4482-bff6-8053175d985d",
   "metadata": {},
   "outputs": [],
   "source": [
    "df.to_csv(\"after_feature_engineering.csv\")"
   ]
  },
  {
   "cell_type": "markdown",
   "id": "b57621b3-d40f-4295-9e8a-31c61e684f76",
   "metadata": {},
   "source": [
    "## Model Training, Evaluation, and Feature Importance Analysis Function"
   ]
  },
  {
   "cell_type": "code",
   "execution_count": 86,
   "id": "beff4a1c-a9dc-41f1-b619-6903f98c004d",
   "metadata": {},
   "outputs": [],
   "source": [
    "def train_evaluate_model(classifier, X_train, X_test, y_train, y_test):\n",
    "    # Train classifier\n",
    "    classifier.fit(X_train, y_train)\n",
    "    \n",
    "    # Make predictions\n",
    "    predictions = classifier.predict(X_test)\n",
    "    \n",
    "    # Calculate accuracy\n",
    "    accuracy = accuracy_score(y_test, predictions)\n",
    "    \n",
    "    # Calculate precision, recall, F1 score\n",
    "    precision = precision_score(y_test, predictions)\n",
    "    recall = recall_score(y_test, predictions)\n",
    "    f1 = f1_score(y_test, predictions)\n",
    "    \n",
    "    # Calculate training accuracy\n",
    "    training_accuracy = classifier.score(X_train, y_train)\n",
    "    \n",
    "    # Print evaluation metrics\n",
    "    print(f\"Accuracy: {accuracy}\")\n",
    "    print(\"Confusion Matrix:\\n\", confusion_matrix(y_test, predictions))\n",
    "    print(\"Classification Report:\\n\", classification_report(y_test, predictions))\n",
    "    print(f\"Precision: {precision}\")\n",
    "    print(f\"Recall: {recall}\")\n",
    "    print(f\"F1 Score: {f1}\")\n",
    "    print(f\"Training Accuracy: {training_accuracy}\")\n",
    "    \n",
    "    return classifier\n",
    "\n",
    "def plot_feature_importance(classifier, X):\n",
    "    if isinstance(classifier, RandomForestClassifier) or isinstance(classifier, GradientBoostingClassifier):\n",
    "        feature_importances = pd.Series(classifier.feature_importances_, index=X.columns)\n",
    "        sorted_feature_importances = feature_importances.sort_values()\n",
    "        sorted_feature_importances.plot(kind='barh')\n",
    "        plt.title('Feature Importance')\n",
    "        plt.xlabel('Relative Importance')\n",
    "        plt.show()\n",
    "    elif isinstance(classifier, LogisticRegression):\n",
    "        feature_importances = pd.Series(classifier.coef_[0], index=X.columns)\n",
    "        sorted_feature_importances = feature_importances.abs().sort_values()\n",
    "        sorted_feature_importances.plot(kind='barh')\n",
    "        plt.title('Feature Importance')\n",
    "        plt.xlabel('Coefficient Magnitude')\n",
    "        plt.show()"
   ]
  },
  {
   "cell_type": "code",
   "execution_count": 87,
   "id": "116879d4-81b4-4d49-a9d8-2941e3731460",
   "metadata": {},
   "outputs": [],
   "source": [
    "# Separate features and target variable\n",
    "X = df.drop(columns=[\"Fraud\"])  # Features\n",
    "y = df[\"Fraud\"]  # Target variable"
   ]
  },
  {
   "cell_type": "code",
   "execution_count": 88,
   "id": "5ecedc51-21cd-493c-9001-40b4ef95300d",
   "metadata": {},
   "outputs": [],
   "source": [
    "# Split the dataset into training and testing sets\n",
    "X_train, X_test, y_train, y_test = train_test_split(X, y, test_size=0.2, random_state=42)"
   ]
  },
  {
   "cell_type": "code",
   "execution_count": 89,
   "id": "951b706c-0198-4330-acf3-cc796a0f0e20",
   "metadata": {},
   "outputs": [],
   "source": [
    "rf_classifier = RandomForestClassifier(random_state=42)\n",
    "lr_classifier = LogisticRegression(random_state=42)\n",
    "svm_classifier = SVC(random_state=42)\n",
    "gb_classifier = GradientBoostingClassifier(random_state=42)"
   ]
  },
  {
   "cell_type": "markdown",
   "id": "cf50998a-2eb3-4c12-b3ec-2f1e589063a5",
   "metadata": {},
   "source": [
    "## Random Forest "
   ]
  },
  {
   "cell_type": "code",
   "execution_count": 90,
   "id": "1071b0bb-0819-444b-84fa-7d1cb6543f8a",
   "metadata": {},
   "outputs": [
    {
     "name": "stdout",
     "output_type": "stream",
     "text": [
      "Accuracy: 0.988\n",
      "Confusion Matrix:\n",
      " [[783   0]\n",
      " [ 12 205]]\n",
      "Classification Report:\n",
      "               precision    recall  f1-score   support\n",
      "\n",
      "           0       0.98      1.00      0.99       783\n",
      "           1       1.00      0.94      0.97       217\n",
      "\n",
      "    accuracy                           0.99      1000\n",
      "   macro avg       0.99      0.97      0.98      1000\n",
      "weighted avg       0.99      0.99      0.99      1000\n",
      "\n",
      "Precision: 1.0\n",
      "Recall: 0.9447004608294931\n",
      "F1 Score: 0.9715639810426541\n",
      "Training Accuracy: 1.0\n"
     ]
    },
    {
     "data": {
      "image/png": "[encoded data removed]",
      "text/plain": [
       "<Figure size 640x480 with 1 Axes>"
      ]
     },
     "metadata": {},
     "output_type": "display_data"
    }
   ],
   "source": [
    "rf_classifier = train_evaluate_model(rf_classifier, X_train, X_test, y_train, y_test)\n",
    "plot_feature_importance(rf_classifier, X)"
   ]
  },
  {
   "cell_type": "markdown",
   "id": "82e24792-dec7-4bad-84bf-0fadee4e25f8",
   "metadata": {},
   "source": [
    "## Logisitc Regression"
   ]
  },
  {
   "cell_type": "code",
   "execution_count": 91,
   "id": "2c4e1d9b-e1c7-4ae2-b012-cc945f4c9b82",
   "metadata": {},
   "outputs": [
    {
     "name": "stdout",
     "output_type": "stream",
     "text": [
      "Accuracy: 0.983\n",
      "Confusion Matrix:\n",
      " [[783   0]\n",
      " [ 17 200]]\n",
      "Classification Report:\n",
      "               precision    recall  f1-score   support\n",
      "\n",
      "           0       0.98      1.00      0.99       783\n",
      "           1       1.00      0.92      0.96       217\n",
      "\n",
      "    accuracy                           0.98      1000\n",
      "   macro avg       0.99      0.96      0.97      1000\n",
      "weighted avg       0.98      0.98      0.98      1000\n",
      "\n",
      "Precision: 1.0\n",
      "Recall: 0.9216589861751152\n",
      "F1 Score: 0.9592326139088729\n",
      "Training Accuracy: 0.98625\n"
     ]
    },
    {
     "data": {
      "image/png": "[encoded data removed]",
      "text/plain": [
       "<Figure size 640x480 with 1 Axes>"
      ]
     },
     "metadata": {},
     "output_type": "display_data"
    }
   ],
   "source": [
    "lr_classifier = train_evaluate_model(lr_classifier, X_train, X_test, y_train, y_test)\n",
    "plot_feature_importance(lr_classifier, X)"
   ]
  },
  {
   "cell_type": "markdown",
   "id": "9deb1d05-a483-40b1-90ba-9b69152bc688",
   "metadata": {},
   "source": [
    "## SVM"
   ]
  },
  {
   "cell_type": "code",
   "execution_count": 92,
   "id": "ea07e85c-0ab0-434b-a88f-1ff889396f87",
   "metadata": {},
   "outputs": [
    {
     "name": "stdout",
     "output_type": "stream",
     "text": [
      "Accuracy: 0.983\n",
      "Confusion Matrix:\n",
      " [[783   0]\n",
      " [ 17 200]]\n",
      "Classification Report:\n",
      "               precision    recall  f1-score   support\n",
      "\n",
      "           0       0.98      1.00      0.99       783\n",
      "           1       1.00      0.92      0.96       217\n",
      "\n",
      "    accuracy                           0.98      1000\n",
      "   macro avg       0.99      0.96      0.97      1000\n",
      "weighted avg       0.98      0.98      0.98      1000\n",
      "\n",
      "Precision: 1.0\n",
      "Recall: 0.9216589861751152\n",
      "F1 Score: 0.9592326139088729\n",
      "Training Accuracy: 0.985\n"
     ]
    }
   ],
   "source": [
    "svm_classifier = train_evaluate_model(svm_classifier, X_train, X_test, y_train, y_test)"
   ]
  },
  {
   "cell_type": "markdown",
   "id": "78de8ed7-f2e0-4ef5-b543-92de3512238d",
   "metadata": {},
   "source": [
    "## Gradient Boosting "
   ]
  },
  {
   "cell_type": "code",
   "execution_count": 93,
   "id": "dcefefa8-5312-4287-85cf-282a97578b82",
   "metadata": {},
   "outputs": [
    {
     "name": "stdout",
     "output_type": "stream",
     "text": [
      "Accuracy: 0.99\n",
      "Confusion Matrix:\n",
      " [[783   0]\n",
      " [ 10 207]]\n",
      "Classification Report:\n",
      "               precision    recall  f1-score   support\n",
      "\n",
      "           0       0.99      1.00      0.99       783\n",
      "           1       1.00      0.95      0.98       217\n",
      "\n",
      "    accuracy                           0.99      1000\n",
      "   macro avg       0.99      0.98      0.99      1000\n",
      "weighted avg       0.99      0.99      0.99      1000\n",
      "\n",
      "Precision: 1.0\n",
      "Recall: 0.9539170506912442\n",
      "F1 Score: 0.9764150943396226\n",
      "Training Accuracy: 0.995\n"
     ]
    },
    {
     "data": {
      "image/png": "[encoded data removed]",
      "text/plain": [
       "<Figure size 640x480 with 1 Axes>"
      ]
     },
     "metadata": {},
     "output_type": "display_data"
    }
   ],
   "source": [
    "gb_classifier = train_evaluate_model(gb_classifier, X_train, X_test, y_train, y_test)\n",
    "plot_feature_importance(gb_classifier, X)"
   ]
  },
  {
   "cell_type": "code",
   "execution_count": 94,
   "id": "f2cb9ead-c01c-458c-a47d-62561b4616ab",
   "metadata": {},
   "outputs": [],
   "source": [
    "scores_df = pd.DataFrame({\n",
    "    'Model': ['Random Forest', 'Logistic Regression', 'SVM', 'Gradient Boosting'],\n",
    "    'Accuracy': [accuracy_score(y_test, rf_classifier.predict(X_test)),\n",
    "                 accuracy_score(y_test, lr_classifier.predict(X_test)),\n",
    "                 accuracy_score(y_test, svm_classifier.predict(X_test)),\n",
    "                 accuracy_score(y_test, gb_classifier.predict(X_test))],\n",
    "    'Precision': [precision_score(y_test, rf_classifier.predict(X_test)),\n",
    "                  precision_score(y_test, lr_classifier.predict(X_test)),\n",
    "                  precision_score(y_test, svm_classifier.predict(X_test)),\n",
    "                  precision_score(y_test, gb_classifier.predict(X_test))],\n",
    "    'Recall': [recall_score(y_test, rf_classifier.predict(X_test)),\n",
    "               recall_score(y_test, lr_classifier.predict(X_test)),\n",
    "               recall_score(y_test, svm_classifier.predict(X_test)),\n",
    "               recall_score(y_test, gb_classifier.predict(X_test))],\n",
    "    'F1 Score': [f1_score(y_test, rf_classifier.predict(X_test)),\n",
    "                 f1_score(y_test, lr_classifier.predict(X_test)),\n",
    "                 f1_score(y_test, svm_classifier.predict(X_test)),\n",
    "                 f1_score(y_test, gb_classifier.predict(X_test))]\n",
    "})"
   ]
  },
  {
   "cell_type": "code",
   "execution_count": 95,
   "id": "942f349f-a3a9-4ce3-8226-e967e2bf8023",
   "metadata": {},
   "outputs": [
    {
     "name": "stdout",
     "output_type": "stream",
     "text": [
      "Scores Table:\n",
      "                 Model  Accuracy  Precision    Recall  F1 Score\n",
      "0        Random Forest     0.988        1.0  0.944700  0.971564\n",
      "1  Logistic Regression     0.983        1.0  0.921659  0.959233\n",
      "2                  SVM     0.983        1.0  0.921659  0.959233\n",
      "3    Gradient Boosting     0.990        1.0  0.953917  0.976415\n"
     ]
    }
   ],
   "source": [
    "print(\"Scores Table:\")\n",
    "print(scores_df)"
   ]
  },
  {
   "cell_type": "markdown",
   "id": "4bfccf75-9970-4429-a0f6-312b1e609f46",
   "metadata": {},
   "source": [
    "### Choosing best classifier"
   ]
  },
  {
   "cell_type": "code",
   "execution_count": 96,
   "id": "84abd0c0-9df0-433d-b0e5-3d7314f0f0a7",
   "metadata": {},
   "outputs": [
    {
     "name": "stdout",
     "output_type": "stream",
     "text": [
      "\n",
      "Best Model based on F1 Score:\n",
      "Model        Gradient Boosting\n",
      "Accuracy                  0.99\n",
      "Precision                  1.0\n",
      "Recall                0.953917\n",
      "F1 Score              0.976415\n",
      "Name: 3, dtype: object\n"
     ]
    }
   ],
   "source": [
    "best_model = scores_df.loc[scores_df['F1 Score'].idxmax()]\n",
    "print(\"\\nBest Model based on F1 Score:\")\n",
    "print(best_model)"
   ]
  }
 ],
 "metadata": {
  "kernelspec": {
   "display_name": "Python 3 (ipykernel)",
   "language": "python",
   "name": "python3"
  },
  "language_info": {
   "codemirror_mode": {
    "name": "ipython",
    "version": 3
   },
   "file_extension": ".py",
   "mimetype": "text/x-python",
   "name": "python",
   "nbconvert_exporter": "python",
   "pygments_lexer": "ipython3",
   "version": "3.11.7"
  }
 },
 "nbformat": 4,
 "nbformat_minor": 5
}
